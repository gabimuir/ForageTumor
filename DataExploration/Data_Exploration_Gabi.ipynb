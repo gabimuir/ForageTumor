{
  "nbformat": 4,
  "nbformat_minor": 0,
  "metadata": {
    "colab": {
      "name": "Data Exploration Gabi.ipynb",
      "version": "0.3.2",
      "provenance": [],
      "collapsed_sections": [],
      "toc_visible": true
    },
    "kernelspec": {
      "name": "python3",
      "display_name": "Python 3"
    }
  },
  "cells": [
    {
      "cell_type": "markdown",
      "metadata": {
        "id": "Sf0ck_HX_zVS",
        "colab_type": "text"
      },
      "source": [
        "# Data exploration"
      ]
    },
    {
      "cell_type": "markdown",
      "metadata": {
        "id": "9Cq9KgAV_aUJ",
        "colab_type": "text"
      },
      "source": [
        "some imports to start"
      ]
    },
    {
      "cell_type": "code",
      "metadata": {
        "id": "hj36vJ5w_bvf",
        "colab_type": "code",
        "colab": {}
      },
      "source": [
        "import matplotlib.pyplot as plt\n",
        "import seaborn as sns\n",
        "import pandas as pd\n",
        "import numpy as np\n",
        "\n",
        "sns.set(style='white')\n"
      ],
      "execution_count": 0,
      "outputs": []
    },
    {
      "cell_type": "markdown",
      "metadata": {
        "id": "c3EmTEDWVDdb",
        "colab_type": "text"
      },
      "source": [
        "## Mount Google Drive and open the csv file\n"
      ]
    },
    {
      "cell_type": "markdown",
      "metadata": {
        "id": "Md63yZ9X_2vn",
        "colab_type": "text"
      },
      "source": [
        "To connect to the drive, mount google drive. It will ask for an authorization code (log into your account) each time you restart the runtime."
      ]
    },
    {
      "cell_type": "code",
      "metadata": {
        "id": "L86SjHPh-3Up",
        "colab_type": "code",
        "outputId": "3b143b5e-eca0-4154-f1f8-4928e9941082",
        "colab": {
          "base_uri": "https://localhost:8080/",
          "height": 124
        }
      },
      "source": [
        "from google.colab import drive\n",
        "drive.mount('/content/drive')"
      ],
      "execution_count": 0,
      "outputs": [
        {
          "output_type": "stream",
          "text": [
            "Go to this URL in a browser: https://accounts.google.com/o/oauth2/auth?client_id=947318989803-6bn6qk8qdgf4n4g3pfee6491hc0brc4i.apps.googleusercontent.com&redirect_uri=urn%3Aietf%3Awg%3Aoauth%3A2.0%3Aoob&scope=email%20https%3A%2F%2Fwww.googleapis.com%2Fauth%2Fdocs.test%20https%3A%2F%2Fwww.googleapis.com%2Fauth%2Fdrive%20https%3A%2F%2Fwww.googleapis.com%2Fauth%2Fdrive.photos.readonly%20https%3A%2F%2Fwww.googleapis.com%2Fauth%2Fpeopleapi.readonly&response_type=code\n",
            "\n",
            "Enter your authorization code:\n",
            "··········\n",
            "Mounted at /content/drive\n"
          ],
          "name": "stdout"
        }
      ]
    },
    {
      "cell_type": "markdown",
      "metadata": {
        "id": "ymvIuWSqAAT8",
        "colab_type": "text"
      },
      "source": [
        "Next, cd into the directory with the dataset - hopefully this is the path to the data folder in your drive. Otherwise, modify it to that path."
      ]
    },
    {
      "cell_type": "code",
      "metadata": {
        "id": "X546kHRQAsAn",
        "colab_type": "code",
        "outputId": "5495f063-4f01-41be-de2f-17cf0bef5e09",
        "colab": {
          "base_uri": "https://localhost:8080/",
          "height": 34
        }
      },
      "source": [
        "!pwd"
      ],
      "execution_count": 0,
      "outputs": [
        {
          "output_type": "stream",
          "text": [
            "/content\n"
          ],
          "name": "stdout"
        }
      ]
    },
    {
      "cell_type": "markdown",
      "metadata": {
        "id": "PsiRqNr9VuKa",
        "colab_type": "text"
      },
      "source": [
        "This will navigate to the directory, then print out everything in the directory so you can see the filenames."
      ]
    },
    {
      "cell_type": "code",
      "metadata": {
        "id": "DXS7N9Kx_NZU",
        "colab_type": "code",
        "outputId": "0acb3d71-0801-4892-a15d-42195ae29e10",
        "colab": {
          "base_uri": "https://localhost:8080/",
          "height": 34
        }
      },
      "source": [
        "import os\n",
        "filepath = \"drive/My Drive/The Cool Kids/Data/\"\n",
        "os.chdir( filepath )\n",
        "!ls"
      ],
      "execution_count": 0,
      "outputs": [
        {
          "output_type": "stream",
          "text": [
            "CheXpert-v1.0-small.zip  train.csv\n"
          ],
          "name": "stdout"
        }
      ]
    },
    {
      "cell_type": "code",
      "metadata": {
        "id": "zPLRkFx4_d5k",
        "colab_type": "code",
        "colab": {}
      },
      "source": [
        "filename = 'train.csv'"
      ],
      "execution_count": 0,
      "outputs": []
    },
    {
      "cell_type": "markdown",
      "metadata": {
        "id": "iqyL5igEVzQM",
        "colab_type": "text"
      },
      "source": [
        "Now, do the usual data exploration stuff"
      ]
    },
    {
      "cell_type": "code",
      "metadata": {
        "id": "4HkHZU39VavH",
        "colab_type": "code",
        "colab": {}
      },
      "source": [
        "import pandas as pd"
      ],
      "execution_count": 0,
      "outputs": []
    },
    {
      "cell_type": "code",
      "metadata": {
        "id": "3hJI8SrFVl71",
        "colab_type": "code",
        "outputId": "d86dbddd-1a70-4280-c0b6-ae41000f4df9",
        "colab": {
          "base_uri": "https://localhost:8080/",
          "height": 591
        }
      },
      "source": [
        "df = pd.read_csv(filename)\n",
        "df.head()"
      ],
      "execution_count": 0,
      "outputs": [
        {
          "output_type": "execute_result",
          "data": {
            "text/html": [
              "<div>\n",
              "<style scoped>\n",
              "    .dataframe tbody tr th:only-of-type {\n",
              "        vertical-align: middle;\n",
              "    }\n",
              "\n",
              "    .dataframe tbody tr th {\n",
              "        vertical-align: top;\n",
              "    }\n",
              "\n",
              "    .dataframe thead th {\n",
              "        text-align: right;\n",
              "    }\n",
              "</style>\n",
              "<table border=\"1\" class=\"dataframe\">\n",
              "  <thead>\n",
              "    <tr style=\"text-align: right;\">\n",
              "      <th></th>\n",
              "      <th>Path</th>\n",
              "      <th>Sex</th>\n",
              "      <th>Age</th>\n",
              "      <th>Frontal/Lateral</th>\n",
              "      <th>AP/PA</th>\n",
              "      <th>No Finding</th>\n",
              "      <th>Enlarged Cardiomediastinum</th>\n",
              "      <th>Cardiomegaly</th>\n",
              "      <th>Lung Opacity</th>\n",
              "      <th>Lung Lesion</th>\n",
              "      <th>Edema</th>\n",
              "      <th>Consolidation</th>\n",
              "      <th>Pneumonia</th>\n",
              "      <th>Atelectasis</th>\n",
              "      <th>Pneumothorax</th>\n",
              "      <th>Pleural Effusion</th>\n",
              "      <th>Pleural Other</th>\n",
              "      <th>Fracture</th>\n",
              "      <th>Support Devices</th>\n",
              "    </tr>\n",
              "  </thead>\n",
              "  <tbody>\n",
              "    <tr>\n",
              "      <th>0</th>\n",
              "      <td>CheXpert-v1.0-small/train/patient00001/study1/...</td>\n",
              "      <td>Female</td>\n",
              "      <td>68</td>\n",
              "      <td>Frontal</td>\n",
              "      <td>AP</td>\n",
              "      <td>1.0</td>\n",
              "      <td>NaN</td>\n",
              "      <td>NaN</td>\n",
              "      <td>NaN</td>\n",
              "      <td>NaN</td>\n",
              "      <td>NaN</td>\n",
              "      <td>NaN</td>\n",
              "      <td>NaN</td>\n",
              "      <td>NaN</td>\n",
              "      <td>0.0</td>\n",
              "      <td>NaN</td>\n",
              "      <td>NaN</td>\n",
              "      <td>NaN</td>\n",
              "      <td>1.0</td>\n",
              "    </tr>\n",
              "    <tr>\n",
              "      <th>1</th>\n",
              "      <td>CheXpert-v1.0-small/train/patient00002/study2/...</td>\n",
              "      <td>Female</td>\n",
              "      <td>87</td>\n",
              "      <td>Frontal</td>\n",
              "      <td>AP</td>\n",
              "      <td>NaN</td>\n",
              "      <td>NaN</td>\n",
              "      <td>-1.0</td>\n",
              "      <td>1.0</td>\n",
              "      <td>NaN</td>\n",
              "      <td>-1.0</td>\n",
              "      <td>-1.0</td>\n",
              "      <td>NaN</td>\n",
              "      <td>-1.0</td>\n",
              "      <td>NaN</td>\n",
              "      <td>-1.0</td>\n",
              "      <td>NaN</td>\n",
              "      <td>1.0</td>\n",
              "      <td>NaN</td>\n",
              "    </tr>\n",
              "    <tr>\n",
              "      <th>2</th>\n",
              "      <td>CheXpert-v1.0-small/train/patient00002/study1/...</td>\n",
              "      <td>Female</td>\n",
              "      <td>83</td>\n",
              "      <td>Frontal</td>\n",
              "      <td>AP</td>\n",
              "      <td>NaN</td>\n",
              "      <td>NaN</td>\n",
              "      <td>NaN</td>\n",
              "      <td>1.0</td>\n",
              "      <td>NaN</td>\n",
              "      <td>NaN</td>\n",
              "      <td>-1.0</td>\n",
              "      <td>NaN</td>\n",
              "      <td>NaN</td>\n",
              "      <td>NaN</td>\n",
              "      <td>NaN</td>\n",
              "      <td>NaN</td>\n",
              "      <td>1.0</td>\n",
              "      <td>NaN</td>\n",
              "    </tr>\n",
              "    <tr>\n",
              "      <th>3</th>\n",
              "      <td>CheXpert-v1.0-small/train/patient00002/study1/...</td>\n",
              "      <td>Female</td>\n",
              "      <td>83</td>\n",
              "      <td>Lateral</td>\n",
              "      <td>NaN</td>\n",
              "      <td>NaN</td>\n",
              "      <td>NaN</td>\n",
              "      <td>NaN</td>\n",
              "      <td>1.0</td>\n",
              "      <td>NaN</td>\n",
              "      <td>NaN</td>\n",
              "      <td>-1.0</td>\n",
              "      <td>NaN</td>\n",
              "      <td>NaN</td>\n",
              "      <td>NaN</td>\n",
              "      <td>NaN</td>\n",
              "      <td>NaN</td>\n",
              "      <td>1.0</td>\n",
              "      <td>NaN</td>\n",
              "    </tr>\n",
              "    <tr>\n",
              "      <th>4</th>\n",
              "      <td>CheXpert-v1.0-small/train/patient00003/study1/...</td>\n",
              "      <td>Male</td>\n",
              "      <td>41</td>\n",
              "      <td>Frontal</td>\n",
              "      <td>AP</td>\n",
              "      <td>NaN</td>\n",
              "      <td>NaN</td>\n",
              "      <td>NaN</td>\n",
              "      <td>NaN</td>\n",
              "      <td>NaN</td>\n",
              "      <td>1.0</td>\n",
              "      <td>NaN</td>\n",
              "      <td>NaN</td>\n",
              "      <td>NaN</td>\n",
              "      <td>0.0</td>\n",
              "      <td>NaN</td>\n",
              "      <td>NaN</td>\n",
              "      <td>NaN</td>\n",
              "      <td>NaN</td>\n",
              "    </tr>\n",
              "  </tbody>\n",
              "</table>\n",
              "</div>"
            ],
            "text/plain": [
              "                                                Path  ... Support Devices\n",
              "0  CheXpert-v1.0-small/train/patient00001/study1/...  ...             1.0\n",
              "1  CheXpert-v1.0-small/train/patient00002/study2/...  ...             NaN\n",
              "2  CheXpert-v1.0-small/train/patient00002/study1/...  ...             NaN\n",
              "3  CheXpert-v1.0-small/train/patient00002/study1/...  ...             NaN\n",
              "4  CheXpert-v1.0-small/train/patient00003/study1/...  ...             NaN\n",
              "\n",
              "[5 rows x 19 columns]"
            ]
          },
          "metadata": {
            "tags": []
          },
          "execution_count": 6
        }
      ]
    },
    {
      "cell_type": "markdown",
      "metadata": {
        "id": "BjPyJ06IWhT1",
        "colab_type": "text"
      },
      "source": [
        "Note: when we want to use this dataset, we will have to change the filepaths to the correct filepaths for this system. I have done this before for the 50 patient thing. The code is copied here for use later."
      ]
    },
    {
      "cell_type": "code",
      "metadata": {
        "id": "9YLlLIHfV2xC",
        "colab_type": "code",
        "outputId": "7cfe3a34-23c0-4cf4-bd27-1a55cf962f73",
        "colab": {
          "base_uri": "https://localhost:8080/",
          "height": 34
        }
      },
      "source": [
        "!pwd"
      ],
      "execution_count": 0,
      "outputs": [
        {
          "output_type": "stream",
          "text": [
            "/content/drive/My Drive/The Cool Kids/Data\n"
          ],
          "name": "stdout"
        }
      ]
    },
    {
      "cell_type": "code",
      "metadata": {
        "id": "1Be7NuedXZr3",
        "colab_type": "code",
        "outputId": "ec05e8ed-61f5-44b8-ad4b-f1e1c5d961dc",
        "colab": {
          "base_uri": "https://localhost:8080/",
          "height": 199
        }
      },
      "source": [
        "def edit_urls(url):\n",
        "  pieces = url.split('/')\n",
        "  newpath = 'patients1_50'\n",
        "  newurl = ''\n",
        "  \n",
        "  #hard coding that 0 and 1 are the old path. ('CheXpert-v1.0-small/train/')\n",
        "  for i, piece in enumerate(pieces):\n",
        "    if i > 1:\n",
        "      newurl+= '/' + piece\n",
        "    elif i == 1:\n",
        "      newurl += newpath\n",
        "  \n",
        "  return newurl\n",
        "  \n",
        "#testing\n",
        "print(edit_urls(df_sample.iloc[0]['Path']))"
      ],
      "execution_count": 0,
      "outputs": [
        {
          "output_type": "error",
          "ename": "NameError",
          "evalue": "ignored",
          "traceback": [
            "\u001b[0;31m---------------------------------------------------------------------------\u001b[0m",
            "\u001b[0;31mNameError\u001b[0m                                 Traceback (most recent call last)",
            "\u001b[0;32m<ipython-input-8-e5f202e0e8cc>\u001b[0m in \u001b[0;36m<module>\u001b[0;34m()\u001b[0m\n\u001b[1;32m     14\u001b[0m \u001b[0;34m\u001b[0m\u001b[0m\n\u001b[1;32m     15\u001b[0m \u001b[0;31m#testing\u001b[0m\u001b[0;34m\u001b[0m\u001b[0;34m\u001b[0m\u001b[0;34m\u001b[0m\u001b[0m\n\u001b[0;32m---> 16\u001b[0;31m \u001b[0mprint\u001b[0m\u001b[0;34m(\u001b[0m\u001b[0medit_urls\u001b[0m\u001b[0;34m(\u001b[0m\u001b[0mdf_sample\u001b[0m\u001b[0;34m.\u001b[0m\u001b[0miloc\u001b[0m\u001b[0;34m[\u001b[0m\u001b[0;36m0\u001b[0m\u001b[0;34m]\u001b[0m\u001b[0;34m[\u001b[0m\u001b[0;34m'Path'\u001b[0m\u001b[0;34m]\u001b[0m\u001b[0;34m)\u001b[0m\u001b[0;34m)\u001b[0m\u001b[0;34m\u001b[0m\u001b[0;34m\u001b[0m\u001b[0m\n\u001b[0m",
            "\u001b[0;31mNameError\u001b[0m: name 'df_sample' is not defined"
          ]
        }
      ]
    },
    {
      "cell_type": "code",
      "metadata": {
        "id": "kHvwQCQ0XbbV",
        "colab_type": "code",
        "colab": {}
      },
      "source": [
        "df_sample['Path'] = df_sample['Path'].apply(edit_urls)\n",
        "df_sample.head()"
      ],
      "execution_count": 0,
      "outputs": []
    },
    {
      "cell_type": "markdown",
      "metadata": {
        "id": "S122jZLXXZbG",
        "colab_type": "text"
      },
      "source": [
        "## Get the numbers"
      ]
    },
    {
      "cell_type": "code",
      "metadata": {
        "id": "QEMo3Z7AWdAK",
        "colab_type": "code",
        "outputId": "47159839-91ed-42f5-80e9-1e7645a26ba3",
        "colab": {
          "base_uri": "https://localhost:8080/",
          "height": 121
        }
      },
      "source": [
        "df.columns"
      ],
      "execution_count": 0,
      "outputs": [
        {
          "output_type": "execute_result",
          "data": {
            "text/plain": [
              "Index(['Path', 'Sex', 'Age', 'Frontal/Lateral', 'AP/PA', 'No Finding',\n",
              "       'Enlarged Cardiomediastinum', 'Cardiomegaly', 'Lung Opacity',\n",
              "       'Lung Lesion', 'Edema', 'Consolidation', 'Pneumonia', 'Atelectasis',\n",
              "       'Pneumothorax', 'Pleural Effusion', 'Pleural Other', 'Fracture',\n",
              "       'Support Devices'],\n",
              "      dtype='object')"
            ]
          },
          "metadata": {
            "tags": []
          },
          "execution_count": 9
        }
      ]
    },
    {
      "cell_type": "code",
      "metadata": {
        "id": "St2k-PVzYNbY",
        "colab_type": "code",
        "outputId": "70b0cd29-b290-4a3a-dc5d-e3af612a83b1",
        "colab": {
          "base_uri": "https://localhost:8080/",
          "height": 212
        }
      },
      "source": [
        "df.groupby('Sex').count()"
      ],
      "execution_count": 0,
      "outputs": [
        {
          "output_type": "execute_result",
          "data": {
            "text/html": [
              "<div>\n",
              "<style scoped>\n",
              "    .dataframe tbody tr th:only-of-type {\n",
              "        vertical-align: middle;\n",
              "    }\n",
              "\n",
              "    .dataframe tbody tr th {\n",
              "        vertical-align: top;\n",
              "    }\n",
              "\n",
              "    .dataframe thead th {\n",
              "        text-align: right;\n",
              "    }\n",
              "</style>\n",
              "<table border=\"1\" class=\"dataframe\">\n",
              "  <thead>\n",
              "    <tr style=\"text-align: right;\">\n",
              "      <th></th>\n",
              "      <th>Path</th>\n",
              "      <th>Age</th>\n",
              "      <th>Frontal/Lateral</th>\n",
              "      <th>AP/PA</th>\n",
              "      <th>No Finding</th>\n",
              "      <th>Enlarged Cardiomediastinum</th>\n",
              "      <th>Cardiomegaly</th>\n",
              "      <th>Lung Opacity</th>\n",
              "      <th>Lung Lesion</th>\n",
              "      <th>Edema</th>\n",
              "      <th>Consolidation</th>\n",
              "      <th>Pneumonia</th>\n",
              "      <th>Atelectasis</th>\n",
              "      <th>Pneumothorax</th>\n",
              "      <th>Pleural Effusion</th>\n",
              "      <th>Pleural Other</th>\n",
              "      <th>Fracture</th>\n",
              "      <th>Support Devices</th>\n",
              "    </tr>\n",
              "    <tr>\n",
              "      <th>Sex</th>\n",
              "      <th></th>\n",
              "      <th></th>\n",
              "      <th></th>\n",
              "      <th></th>\n",
              "      <th></th>\n",
              "      <th></th>\n",
              "      <th></th>\n",
              "      <th></th>\n",
              "      <th></th>\n",
              "      <th></th>\n",
              "      <th></th>\n",
              "      <th></th>\n",
              "      <th></th>\n",
              "      <th></th>\n",
              "      <th></th>\n",
              "      <th></th>\n",
              "      <th></th>\n",
              "      <th></th>\n",
              "    </tr>\n",
              "  </thead>\n",
              "  <tbody>\n",
              "    <tr>\n",
              "      <th>Female</th>\n",
              "      <td>90777</td>\n",
              "      <td>90777</td>\n",
              "      <td>90777</td>\n",
              "      <td>78875</td>\n",
              "      <td>9269</td>\n",
              "      <td>17957</td>\n",
              "      <td>18470</td>\n",
              "      <td>48189</td>\n",
              "      <td>4922</td>\n",
              "      <td>36362</td>\n",
              "      <td>29495</td>\n",
              "      <td>11375</td>\n",
              "      <td>27600</td>\n",
              "      <td>31434</td>\n",
              "      <td>54543</td>\n",
              "      <td>2431</td>\n",
              "      <td>4387</td>\n",
              "      <td>48633</td>\n",
              "    </tr>\n",
              "    <tr>\n",
              "      <th>Male</th>\n",
              "      <td>132636</td>\n",
              "      <td>132636</td>\n",
              "      <td>132636</td>\n",
              "      <td>112151</td>\n",
              "      <td>13111</td>\n",
              "      <td>26881</td>\n",
              "      <td>27733</td>\n",
              "      <td>69589</td>\n",
              "      <td>7022</td>\n",
              "      <td>49594</td>\n",
              "      <td>41126</td>\n",
              "      <td>16233</td>\n",
              "      <td>40843</td>\n",
              "      <td>47500</td>\n",
              "      <td>78667</td>\n",
              "      <td>4061</td>\n",
              "      <td>7807</td>\n",
              "      <td>74584</td>\n",
              "    </tr>\n",
              "    <tr>\n",
              "      <th>Unknown</th>\n",
              "      <td>1</td>\n",
              "      <td>1</td>\n",
              "      <td>1</td>\n",
              "      <td>1</td>\n",
              "      <td>1</td>\n",
              "      <td>1</td>\n",
              "      <td>0</td>\n",
              "      <td>0</td>\n",
              "      <td>0</td>\n",
              "      <td>0</td>\n",
              "      <td>1</td>\n",
              "      <td>0</td>\n",
              "      <td>0</td>\n",
              "      <td>0</td>\n",
              "      <td>1</td>\n",
              "      <td>0</td>\n",
              "      <td>0</td>\n",
              "      <td>0</td>\n",
              "    </tr>\n",
              "  </tbody>\n",
              "</table>\n",
              "</div>"
            ],
            "text/plain": [
              "           Path     Age  ...  Fracture  Support Devices\n",
              "Sex                      ...                           \n",
              "Female    90777   90777  ...      4387            48633\n",
              "Male     132636  132636  ...      7807            74584\n",
              "Unknown       1       1  ...         0                0\n",
              "\n",
              "[3 rows x 18 columns]"
            ]
          },
          "metadata": {
            "tags": []
          },
          "execution_count": 11
        }
      ]
    },
    {
      "cell_type": "code",
      "metadata": {
        "id": "Ih1D5U3HYPjT",
        "colab_type": "code",
        "colab": {}
      },
      "source": [
        "import matplotlib.pyplot as plt\n",
        "import seaborn as sns\n",
        "\n",
        "sns.set(style='white')\n"
      ],
      "execution_count": 0,
      "outputs": []
    },
    {
      "cell_type": "markdown",
      "metadata": {
        "id": "Z97WUv67ZszL",
        "colab_type": "text"
      },
      "source": [
        "Plot the distribution of ages in males/females/overall"
      ]
    },
    {
      "cell_type": "code",
      "metadata": {
        "id": "u-FEI4cJZsYe",
        "colab_type": "code",
        "outputId": "ff50c143-222c-406e-edda-1a3e5cdbe7df",
        "colab": {
          "base_uri": "https://localhost:8080/",
          "height": 585
        }
      },
      "source": [
        "sns.distplot(df[(df['Sex']=='Female')]['Age'], \n",
        "         color='blue', kde=False, bins=10)\n",
        "plt.title('Female Patients')\n",
        "plt.xlabel('Age Distribution')\n",
        "plt.ylabel('Count')\n",
        "plt.show()\n",
        "\n",
        "sns.distplot(df[(df['Sex']=='Male')]['Age'], \n",
        "         color='orange', kde=False, bins=10)\n",
        "plt.title('Male Patients')\n",
        "plt.xlabel('Age Distribution')\n",
        "plt.ylabel('Count')\n",
        "plt.show()\n"
      ],
      "execution_count": 0,
      "outputs": [
        {
          "output_type": "display_data",
          "data": {
            "image/png": "[encoded data removed]",
            "text/plain": [
              "<Figure size 432x288 with 1 Axes>"
            ]
          },
          "metadata": {
            "tags": []
          }
        },
        {
          "output_type": "display_data",
          "data": {
            "image/png": "[encoded data removed]",
            "text/plain": [
              "<Figure size 432x288 with 1 Axes>"
            ]
          },
          "metadata": {
            "tags": []
          }
        }
      ]
    },
    {
      "cell_type": "code",
      "metadata": {
        "id": "IjWq6ztYYtJZ",
        "colab_type": "code",
        "outputId": "293dadce-0d82-44c2-840d-a7db93201901",
        "colab": {
          "base_uri": "https://localhost:8080/",
          "height": 173
        }
      },
      "source": [
        "df[(df['Sex']=='Female')]['Age'].describe()"
      ],
      "execution_count": 0,
      "outputs": [
        {
          "output_type": "execute_result",
          "data": {
            "text/plain": [
              "count    90777.000000\n",
              "mean        61.229067\n",
              "std         18.300387\n",
              "min          0.000000\n",
              "25%         49.000000\n",
              "50%         62.000000\n",
              "75%         76.000000\n",
              "max         90.000000\n",
              "Name: Age, dtype: float64"
            ]
          },
          "metadata": {
            "tags": []
          },
          "execution_count": 20
        }
      ]
    },
    {
      "cell_type": "code",
      "metadata": {
        "id": "UyY3mc10YuWS",
        "colab_type": "code",
        "outputId": "7ae49c02-6ece-4b49-b332-2f853725b95f",
        "colab": {
          "base_uri": "https://localhost:8080/",
          "height": 173
        }
      },
      "source": [
        "df[(df['Sex']=='Male')]['Age'].describe()"
      ],
      "execution_count": 0,
      "outputs": [
        {
          "output_type": "execute_result",
          "data": {
            "text/plain": [
              "count    132636.000000\n",
              "mean         59.884413\n",
              "std          17.464168\n",
              "min          18.000000\n",
              "25%          49.000000\n",
              "50%          61.000000\n",
              "75%          73.000000\n",
              "max          90.000000\n",
              "Name: Age, dtype: float64"
            ]
          },
          "metadata": {
            "tags": []
          },
          "execution_count": 21
        }
      ]
    },
    {
      "cell_type": "code",
      "metadata": {
        "id": "TH6pXh2yb3Li",
        "colab_type": "code",
        "outputId": "4c8f2892-1696-40aa-ce1e-5d60dc9872ab",
        "colab": {
          "base_uri": "https://localhost:8080/",
          "height": 365
        }
      },
      "source": [
        "sns.catplot(\n",
        "    x='Sex', \n",
        "    y='Age', \n",
        "#     hue='Sex',\n",
        "    kind='box', \n",
        "    data=df, \n",
        "    palette=sns.color_palette('Set2'))\n",
        "plt.show()"
      ],
      "execution_count": 0,
      "outputs": [
        {
          "output_type": "display_data",
          "data": {
            "image/png": "[encoded data removed]",
            "text/plain": [
              "<Figure size 360x360 with 1 Axes>"
            ]
          },
          "metadata": {
            "tags": []
          }
        }
      ]
    },
    {
      "cell_type": "code",
      "metadata": {
        "id": "ntf4xz-IcS01",
        "colab_type": "code",
        "outputId": "ac611db8-6a53-49a7-a2de-423a3dcdd932",
        "colab": {
          "base_uri": "https://localhost:8080/",
          "height": 389
        }
      },
      "source": [
        "df[ (df['Sex']=='Female') & (df['Age'] < 18)  ]"
      ],
      "execution_count": 0,
      "outputs": [
        {
          "output_type": "execute_result",
          "data": {
            "text/html": [
              "<div>\n",
              "<style scoped>\n",
              "    .dataframe tbody tr th:only-of-type {\n",
              "        vertical-align: middle;\n",
              "    }\n",
              "\n",
              "    .dataframe tbody tr th {\n",
              "        vertical-align: top;\n",
              "    }\n",
              "\n",
              "    .dataframe thead th {\n",
              "        text-align: right;\n",
              "    }\n",
              "</style>\n",
              "<table border=\"1\" class=\"dataframe\">\n",
              "  <thead>\n",
              "    <tr style=\"text-align: right;\">\n",
              "      <th></th>\n",
              "      <th>Path</th>\n",
              "      <th>Sex</th>\n",
              "      <th>Age</th>\n",
              "      <th>Frontal/Lateral</th>\n",
              "      <th>AP/PA</th>\n",
              "      <th>No Finding</th>\n",
              "      <th>Enlarged Cardiomediastinum</th>\n",
              "      <th>Cardiomegaly</th>\n",
              "      <th>Lung Opacity</th>\n",
              "      <th>Lung Lesion</th>\n",
              "      <th>Edema</th>\n",
              "      <th>Consolidation</th>\n",
              "      <th>Pneumonia</th>\n",
              "      <th>Atelectasis</th>\n",
              "      <th>Pneumothorax</th>\n",
              "      <th>Pleural Effusion</th>\n",
              "      <th>Pleural Other</th>\n",
              "      <th>Fracture</th>\n",
              "      <th>Support Devices</th>\n",
              "    </tr>\n",
              "  </thead>\n",
              "  <tbody>\n",
              "    <tr>\n",
              "      <th>223411</th>\n",
              "      <td>CheXpert-v1.0-small/train/patient64538/study1/...</td>\n",
              "      <td>Female</td>\n",
              "      <td>0</td>\n",
              "      <td>Frontal</td>\n",
              "      <td>AP</td>\n",
              "      <td>NaN</td>\n",
              "      <td>NaN</td>\n",
              "      <td>NaN</td>\n",
              "      <td>NaN</td>\n",
              "      <td>NaN</td>\n",
              "      <td>-1.0</td>\n",
              "      <td>NaN</td>\n",
              "      <td>NaN</td>\n",
              "      <td>NaN</td>\n",
              "      <td>NaN</td>\n",
              "      <td>NaN</td>\n",
              "      <td>NaN</td>\n",
              "      <td>NaN</td>\n",
              "      <td>NaN</td>\n",
              "    </tr>\n",
              "    <tr>\n",
              "      <th>223412</th>\n",
              "      <td>CheXpert-v1.0-small/train/patient64539/study1/...</td>\n",
              "      <td>Female</td>\n",
              "      <td>0</td>\n",
              "      <td>Frontal</td>\n",
              "      <td>AP</td>\n",
              "      <td>NaN</td>\n",
              "      <td>NaN</td>\n",
              "      <td>1.0</td>\n",
              "      <td>1.0</td>\n",
              "      <td>NaN</td>\n",
              "      <td>NaN</td>\n",
              "      <td>NaN</td>\n",
              "      <td>-1.0</td>\n",
              "      <td>1.0</td>\n",
              "      <td>0.0</td>\n",
              "      <td>NaN</td>\n",
              "      <td>NaN</td>\n",
              "      <td>NaN</td>\n",
              "      <td>0.0</td>\n",
              "    </tr>\n",
              "    <tr>\n",
              "      <th>223413</th>\n",
              "      <td>CheXpert-v1.0-small/train/patient64540/study1/...</td>\n",
              "      <td>Female</td>\n",
              "      <td>0</td>\n",
              "      <td>Frontal</td>\n",
              "      <td>AP</td>\n",
              "      <td>1.0</td>\n",
              "      <td>NaN</td>\n",
              "      <td>NaN</td>\n",
              "      <td>NaN</td>\n",
              "      <td>NaN</td>\n",
              "      <td>NaN</td>\n",
              "      <td>NaN</td>\n",
              "      <td>NaN</td>\n",
              "      <td>NaN</td>\n",
              "      <td>0.0</td>\n",
              "      <td>NaN</td>\n",
              "      <td>NaN</td>\n",
              "      <td>NaN</td>\n",
              "      <td>NaN</td>\n",
              "    </tr>\n",
              "  </tbody>\n",
              "</table>\n",
              "</div>"
            ],
            "text/plain": [
              "                                                     Path  ... Support Devices\n",
              "223411  CheXpert-v1.0-small/train/patient64538/study1/...  ...             NaN\n",
              "223412  CheXpert-v1.0-small/train/patient64539/study1/...  ...             0.0\n",
              "223413  CheXpert-v1.0-small/train/patient64540/study1/...  ...             NaN\n",
              "\n",
              "[3 rows x 19 columns]"
            ]
          },
          "metadata": {
            "tags": []
          },
          "execution_count": 63
        }
      ]
    },
    {
      "cell_type": "code",
      "metadata": {
        "id": "fn_mEd65cxF8",
        "colab_type": "code",
        "outputId": "344bee05-6f64-434d-eb04-e3879c68fcce",
        "colab": {
          "base_uri": "https://localhost:8080/",
          "height": 389
        }
      },
      "source": [
        "df[ (df['Age'] < 18)  ]"
      ],
      "execution_count": 0,
      "outputs": [
        {
          "output_type": "execute_result",
          "data": {
            "text/html": [
              "<div>\n",
              "<style scoped>\n",
              "    .dataframe tbody tr th:only-of-type {\n",
              "        vertical-align: middle;\n",
              "    }\n",
              "\n",
              "    .dataframe tbody tr th {\n",
              "        vertical-align: top;\n",
              "    }\n",
              "\n",
              "    .dataframe thead th {\n",
              "        text-align: right;\n",
              "    }\n",
              "</style>\n",
              "<table border=\"1\" class=\"dataframe\">\n",
              "  <thead>\n",
              "    <tr style=\"text-align: right;\">\n",
              "      <th></th>\n",
              "      <th>Path</th>\n",
              "      <th>Sex</th>\n",
              "      <th>Age</th>\n",
              "      <th>Frontal/Lateral</th>\n",
              "      <th>AP/PA</th>\n",
              "      <th>No Finding</th>\n",
              "      <th>Enlarged Cardiomediastinum</th>\n",
              "      <th>Cardiomegaly</th>\n",
              "      <th>Lung Opacity</th>\n",
              "      <th>Lung Lesion</th>\n",
              "      <th>Edema</th>\n",
              "      <th>Consolidation</th>\n",
              "      <th>Pneumonia</th>\n",
              "      <th>Atelectasis</th>\n",
              "      <th>Pneumothorax</th>\n",
              "      <th>Pleural Effusion</th>\n",
              "      <th>Pleural Other</th>\n",
              "      <th>Fracture</th>\n",
              "      <th>Support Devices</th>\n",
              "    </tr>\n",
              "  </thead>\n",
              "  <tbody>\n",
              "    <tr>\n",
              "      <th>223411</th>\n",
              "      <td>CheXpert-v1.0-small/train/patient64538/study1/...</td>\n",
              "      <td>Female</td>\n",
              "      <td>0</td>\n",
              "      <td>Frontal</td>\n",
              "      <td>AP</td>\n",
              "      <td>NaN</td>\n",
              "      <td>NaN</td>\n",
              "      <td>NaN</td>\n",
              "      <td>NaN</td>\n",
              "      <td>NaN</td>\n",
              "      <td>-1.0</td>\n",
              "      <td>NaN</td>\n",
              "      <td>NaN</td>\n",
              "      <td>NaN</td>\n",
              "      <td>NaN</td>\n",
              "      <td>NaN</td>\n",
              "      <td>NaN</td>\n",
              "      <td>NaN</td>\n",
              "      <td>NaN</td>\n",
              "    </tr>\n",
              "    <tr>\n",
              "      <th>223412</th>\n",
              "      <td>CheXpert-v1.0-small/train/patient64539/study1/...</td>\n",
              "      <td>Female</td>\n",
              "      <td>0</td>\n",
              "      <td>Frontal</td>\n",
              "      <td>AP</td>\n",
              "      <td>NaN</td>\n",
              "      <td>NaN</td>\n",
              "      <td>1.0</td>\n",
              "      <td>1.0</td>\n",
              "      <td>NaN</td>\n",
              "      <td>NaN</td>\n",
              "      <td>NaN</td>\n",
              "      <td>-1.0</td>\n",
              "      <td>1.0</td>\n",
              "      <td>0.0</td>\n",
              "      <td>NaN</td>\n",
              "      <td>NaN</td>\n",
              "      <td>NaN</td>\n",
              "      <td>0.0</td>\n",
              "    </tr>\n",
              "    <tr>\n",
              "      <th>223413</th>\n",
              "      <td>CheXpert-v1.0-small/train/patient64540/study1/...</td>\n",
              "      <td>Female</td>\n",
              "      <td>0</td>\n",
              "      <td>Frontal</td>\n",
              "      <td>AP</td>\n",
              "      <td>1.0</td>\n",
              "      <td>NaN</td>\n",
              "      <td>NaN</td>\n",
              "      <td>NaN</td>\n",
              "      <td>NaN</td>\n",
              "      <td>NaN</td>\n",
              "      <td>NaN</td>\n",
              "      <td>NaN</td>\n",
              "      <td>NaN</td>\n",
              "      <td>0.0</td>\n",
              "      <td>NaN</td>\n",
              "      <td>NaN</td>\n",
              "      <td>NaN</td>\n",
              "      <td>NaN</td>\n",
              "    </tr>\n",
              "  </tbody>\n",
              "</table>\n",
              "</div>"
            ],
            "text/plain": [
              "                                                     Path  ... Support Devices\n",
              "223411  CheXpert-v1.0-small/train/patient64538/study1/...  ...             NaN\n",
              "223412  CheXpert-v1.0-small/train/patient64539/study1/...  ...             0.0\n",
              "223413  CheXpert-v1.0-small/train/patient64540/study1/...  ...             NaN\n",
              "\n",
              "[3 rows x 19 columns]"
            ]
          },
          "metadata": {
            "tags": []
          },
          "execution_count": 64
        }
      ]
    },
    {
      "cell_type": "markdown",
      "metadata": {
        "id": "jq79pBd4dneh",
        "colab_type": "text"
      },
      "source": [
        "## Exploring the different pathologies"
      ]
    },
    {
      "cell_type": "code",
      "metadata": {
        "id": "3IdzbKgKd0zR",
        "colab_type": "code",
        "outputId": "f828070c-2ea8-4519-b061-cac856b7330b",
        "colab": {
          "base_uri": "https://localhost:8080/",
          "height": 34
        }
      },
      "source": [
        "outcomes = ['No Finding',\n",
        "       'Enlarged Cardiomediastinum', 'Cardiomegaly', 'Lung Opacity',\n",
        "       'Lung Lesion', 'Edema', 'Consolidation', 'Pneumonia', 'Atelectasis',\n",
        "       'Pneumothorax', 'Pleural Effusion', 'Pleural Other', 'Fracture',\n",
        "       'Support Devices']\n",
        "\n",
        "len(outcomes)"
      ],
      "execution_count": 0,
      "outputs": [
        {
          "output_type": "execute_result",
          "data": {
            "text/plain": [
              "14"
            ]
          },
          "metadata": {
            "tags": []
          },
          "execution_count": 10
        }
      ]
    },
    {
      "cell_type": "code",
      "metadata": {
        "id": "gSZDV0Sfd-j7",
        "colab_type": "code",
        "outputId": "21be3e77-079c-41d6-b7ed-db7b141edc49",
        "colab": {
          "base_uri": "https://localhost:8080/",
          "height": 1000
        }
      },
      "source": [
        "numrows = 5\n",
        "numcols = 3\n",
        "\n",
        "f, ax = plt.subplots(nrows=numrows, ncols=numcols, figsize=(numcols*5,numrows*5))\n",
        "\n",
        "\n",
        "for subplot, pathology in enumerate(outcomes):\n",
        "  nulls = df[pathology].isna().count()\n",
        "  negs = df[df[pathology] == -1]['Age'].count()\n",
        "  zeros = df[df[pathology] == 0]['Age'].count()\n",
        "  ones = df[df[pathology]==1]['Age'].count()\n",
        "\n",
        "  plt.subplot(numrows, numcols, subplot+1)\n",
        "  \n",
        "  sns.barplot(\n",
        "      x = ['Null', 'Negative', 'Zero', 'One'],\n",
        "      y = [nulls, negs, zeros, ones],\n",
        "      palette=sns.color_palette('Set2')\n",
        "  )\n",
        "  plt.title(pathology)\n",
        "\n",
        "plt.show()\n"
      ],
      "execution_count": 0,
      "outputs": [
        {
          "output_type": "display_data",
          "data": {
            "image/png": "[encoded data removed]",
            "text/plain": [
              "<Figure size 1080x1800 with 15 Axes>"
            ]
          },
          "metadata": {
            "tags": []
          }
        }
      ]
    },
    {
      "cell_type": "markdown",
      "metadata": {
        "id": "5mhvntwQ4Yiv",
        "colab_type": "text"
      },
      "source": [
        "There are lots of nulls, but there are also confirmed zero ‘maybe’s, so we want to figure out what to do with the nulls - would probably not want to just put zeros in those places, since there are some ‘true zeroes’"
      ]
    },
    {
      "cell_type": "markdown",
      "metadata": {
        "id": "x3JvvvLU4aJz",
        "colab_type": "text"
      },
      "source": [
        "## Multiple Pathologies"
      ]
    },
    {
      "cell_type": "markdown",
      "metadata": {
        "id": "toB46XYl4f5e",
        "colab_type": "text"
      },
      "source": [
        "Want to sum up how many pathologies each patient has."
      ]
    },
    {
      "cell_type": "markdown",
      "metadata": {
        "id": "RGb-4zI4_lzs",
        "colab_type": "text"
      },
      "source": [
        "### Add a 'number of pathologies' column"
      ]
    },
    {
      "cell_type": "code",
      "metadata": {
        "id": "GcyhrIVF4ljm",
        "colab_type": "code",
        "colab": {}
      },
      "source": [
        "#We have the list of outcome categories.\n",
        "#We want only the ones\n",
        "#And to sum up the ones for each patient...\n",
        "\n",
        "outcomes_only = ['Enlarged Cardiomediastinum', 'Cardiomegaly', 'Lung Opacity',\n",
        "       'Lung Lesion', 'Edema', 'Consolidation', 'Pneumonia', 'Atelectasis',\n",
        "       'Pneumothorax', 'Pleural Effusion', 'Pleural Other', 'Fracture',\n",
        "       'Support Devices']\n",
        "\n",
        "df['Num Pathologies'] = df[ df[ outcomes_only ] > 0  ].sum(axis=1)\n"
      ],
      "execution_count": 0,
      "outputs": []
    },
    {
      "cell_type": "code",
      "metadata": {
        "id": "EyVdMYFK6F5M",
        "colab_type": "code",
        "outputId": "dcedaeda-6b20-4cc2-fa51-716aabbd948b",
        "colab": {
          "base_uri": "https://localhost:8080/",
          "height": 456
        }
      },
      "source": [
        "sns.distplot(df['Num Pathologies'], bins=9, kde=False, color='blue')\n",
        "plt.show()"
      ],
      "execution_count": 0,
      "outputs": [
        {
          "output_type": "error",
          "ename": "NameError",
          "evalue": "ignored",
          "traceback": [
            "\u001b[0;31m---------------------------------------------------------------------------\u001b[0m",
            "\u001b[0;31mNameError\u001b[0m                                 Traceback (most recent call last)",
            "\u001b[0;32m<ipython-input-15-68270dd9e255>\u001b[0m in \u001b[0;36m<module>\u001b[0;34m()\u001b[0m\n\u001b[1;32m      1\u001b[0m \u001b[0msns\u001b[0m\u001b[0;34m.\u001b[0m\u001b[0mdistplot\u001b[0m\u001b[0;34m(\u001b[0m\u001b[0mdf\u001b[0m\u001b[0;34m[\u001b[0m\u001b[0;34m'Num Pathologies'\u001b[0m\u001b[0;34m]\u001b[0m\u001b[0;34m,\u001b[0m \u001b[0mbins\u001b[0m\u001b[0;34m=\u001b[0m\u001b[0;36m9\u001b[0m\u001b[0;34m,\u001b[0m \u001b[0mkde\u001b[0m\u001b[0;34m=\u001b[0m\u001b[0;32mFalse\u001b[0m\u001b[0;34m,\u001b[0m \u001b[0mcolor\u001b[0m\u001b[0;34m=\u001b[0m\u001b[0;34m'blue'\u001b[0m\u001b[0;34m)\u001b[0m\u001b[0;34m\u001b[0m\u001b[0;34m\u001b[0m\u001b[0m\n\u001b[0;32m----> 2\u001b[0;31m \u001b[0mplt\u001b[0m\u001b[0;34m.\u001b[0m\u001b[0mshow\u001b[0m\u001b[0;34m(\u001b[0m\u001b[0;34m)\u001b[0m\u001b[0;34m\u001b[0m\u001b[0;34m\u001b[0m\u001b[0m\n\u001b[0m",
            "\u001b[0;31mNameError\u001b[0m: name 'plt' is not defined"
          ]
        },
        {
          "output_type": "display_data",
          "data": {
            "image/png": "[encoded data removed]",
            "text/plain": [
              "<Figure size 432x288 with 1 Axes>"
            ]
          },
          "metadata": {
            "tags": []
          }
        }
      ]
    },
    {
      "cell_type": "markdown",
      "metadata": {
        "id": "YkwPRBfQ8a9z",
        "colab_type": "text"
      },
      "source": [
        "Many individuals have multiple pathologies at once. Can we train the model on single-pathology images? and then increase to multiple pathologies?"
      ]
    },
    {
      "cell_type": "code",
      "metadata": {
        "id": "-vsukLDf9Apu",
        "colab_type": "code",
        "outputId": "7dfb1206-0604-4f6d-9950-12a12debf27f",
        "colab": {
          "base_uri": "https://localhost:8080/",
          "height": 425
        }
      },
      "source": [
        "corr = df.corr()\n",
        "\n",
        "# plot the heatmap\n",
        "sns.heatmap(corr, \n",
        "        xticklabels=corr.columns,\n",
        "        yticklabels=corr.columns)\n",
        "\n",
        "plt.show()"
      ],
      "execution_count": 0,
      "outputs": [
        {
          "output_type": "display_data",
          "data": {
            "image/png": "[encoded data removed]",
            "text/plain": [
              "<Figure size 432x288 with 2 Axes>"
            ]
          },
          "metadata": {
            "tags": []
          }
        }
      ]
    },
    {
      "cell_type": "markdown",
      "metadata": {
        "id": "ty5WtK8C9pR4",
        "colab_type": "text"
      },
      "source": [
        "The number of pathologies appears to correlate better with some outcomes than others - pleural effusion, for example, has a higher number of pathologies - aka if you have pleural effusion, you’re more likely to have other things. \n",
        "Pleural effusion correlates highly with pleural other.\n"
      ]
    },
    {
      "cell_type": "code",
      "metadata": {
        "id": "uDMJF0L-dLCm",
        "colab_type": "code",
        "outputId": "a4d9f83d-0b86-4703-e2ab-97f880851136",
        "colab": {
          "base_uri": "https://localhost:8080/",
          "height": 445
        }
      },
      "source": [
        "correlation_matrix = df.corr()\n",
        "\n",
        "f, ax = plt.subplots(1, 1, figsize=(16, 4 ))\n",
        "\n",
        "\n",
        "sns.heatmap(df.corr().loc[['Num Pathologies'],:], annot=True)\n",
        "plt.show()"
      ],
      "execution_count": 0,
      "outputs": [
        {
          "output_type": "display_data",
          "data": {
            "image/png": "[encoded data removed]",
            "text/plain": [
              "<Figure size 1152x288 with 2 Axes>"
            ]
          },
          "metadata": {
            "tags": []
          }
        }
      ]
    },
    {
      "cell_type": "markdown",
      "metadata": {
        "id": "V7bXc2KdHARU",
        "colab_type": "text"
      },
      "source": [
        "Reading the Stanford paper revealed that 0 = definite no, 1 = definite yes, and -1 = uncertain. (contrary to what I had assumed)"
      ]
    },
    {
      "cell_type": "markdown",
      "metadata": {
        "id": "zVZzc33ZHQz6",
        "colab_type": "text"
      },
      "source": [
        "## Remove negative ones and redo correlation"
      ]
    },
    {
      "cell_type": "markdown",
      "metadata": {
        "id": "jJ7_oaxXIeR_",
        "colab_type": "text"
      },
      "source": [
        "replacing negatives with 1s - aka making 'maybes' into 'yes'"
      ]
    },
    {
      "cell_type": "code",
      "metadata": {
        "id": "GE2YShlOFbSY",
        "colab_type": "code",
        "outputId": "3bcb5a60-fd7d-4c79-ac82-f6dc578f155e",
        "colab": {
          "base_uri": "https://localhost:8080/",
          "height": 591
        }
      },
      "source": [
        "df_binary = df.copy()\n",
        "\n",
        "for patho in outcomes:\n",
        "  df_binary[patho] = df_binary[patho].apply( lambda x: 1 if x < 0 else x)\n",
        "\n",
        "df_binary.head()"
      ],
      "execution_count": 0,
      "outputs": [
        {
          "output_type": "execute_result",
          "data": {
            "text/html": [
              "<div>\n",
              "<style scoped>\n",
              "    .dataframe tbody tr th:only-of-type {\n",
              "        vertical-align: middle;\n",
              "    }\n",
              "\n",
              "    .dataframe tbody tr th {\n",
              "        vertical-align: top;\n",
              "    }\n",
              "\n",
              "    .dataframe thead th {\n",
              "        text-align: right;\n",
              "    }\n",
              "</style>\n",
              "<table border=\"1\" class=\"dataframe\">\n",
              "  <thead>\n",
              "    <tr style=\"text-align: right;\">\n",
              "      <th></th>\n",
              "      <th>Path</th>\n",
              "      <th>Sex</th>\n",
              "      <th>Age</th>\n",
              "      <th>Frontal/Lateral</th>\n",
              "      <th>AP/PA</th>\n",
              "      <th>No Finding</th>\n",
              "      <th>Enlarged Cardiomediastinum</th>\n",
              "      <th>Cardiomegaly</th>\n",
              "      <th>Lung Opacity</th>\n",
              "      <th>Lung Lesion</th>\n",
              "      <th>Edema</th>\n",
              "      <th>Consolidation</th>\n",
              "      <th>Pneumonia</th>\n",
              "      <th>Atelectasis</th>\n",
              "      <th>Pneumothorax</th>\n",
              "      <th>Pleural Effusion</th>\n",
              "      <th>Pleural Other</th>\n",
              "      <th>Fracture</th>\n",
              "      <th>Support Devices</th>\n",
              "      <th>Num Pathologies</th>\n",
              "    </tr>\n",
              "  </thead>\n",
              "  <tbody>\n",
              "    <tr>\n",
              "      <th>0</th>\n",
              "      <td>CheXpert-v1.0-small/train/patient00001/study1/...</td>\n",
              "      <td>Female</td>\n",
              "      <td>68</td>\n",
              "      <td>Frontal</td>\n",
              "      <td>AP</td>\n",
              "      <td>1.0</td>\n",
              "      <td>NaN</td>\n",
              "      <td>NaN</td>\n",
              "      <td>NaN</td>\n",
              "      <td>NaN</td>\n",
              "      <td>NaN</td>\n",
              "      <td>NaN</td>\n",
              "      <td>NaN</td>\n",
              "      <td>NaN</td>\n",
              "      <td>0.0</td>\n",
              "      <td>NaN</td>\n",
              "      <td>NaN</td>\n",
              "      <td>NaN</td>\n",
              "      <td>1.0</td>\n",
              "      <td>1.0</td>\n",
              "    </tr>\n",
              "    <tr>\n",
              "      <th>1</th>\n",
              "      <td>CheXpert-v1.0-small/train/patient00002/study2/...</td>\n",
              "      <td>Female</td>\n",
              "      <td>87</td>\n",
              "      <td>Frontal</td>\n",
              "      <td>AP</td>\n",
              "      <td>NaN</td>\n",
              "      <td>NaN</td>\n",
              "      <td>1.0</td>\n",
              "      <td>1.0</td>\n",
              "      <td>NaN</td>\n",
              "      <td>1.0</td>\n",
              "      <td>1.0</td>\n",
              "      <td>NaN</td>\n",
              "      <td>1.0</td>\n",
              "      <td>NaN</td>\n",
              "      <td>1.0</td>\n",
              "      <td>NaN</td>\n",
              "      <td>1.0</td>\n",
              "      <td>NaN</td>\n",
              "      <td>2.0</td>\n",
              "    </tr>\n",
              "    <tr>\n",
              "      <th>2</th>\n",
              "      <td>CheXpert-v1.0-small/train/patient00002/study1/...</td>\n",
              "      <td>Female</td>\n",
              "      <td>83</td>\n",
              "      <td>Frontal</td>\n",
              "      <td>AP</td>\n",
              "      <td>NaN</td>\n",
              "      <td>NaN</td>\n",
              "      <td>NaN</td>\n",
              "      <td>1.0</td>\n",
              "      <td>NaN</td>\n",
              "      <td>NaN</td>\n",
              "      <td>1.0</td>\n",
              "      <td>NaN</td>\n",
              "      <td>NaN</td>\n",
              "      <td>NaN</td>\n",
              "      <td>NaN</td>\n",
              "      <td>NaN</td>\n",
              "      <td>1.0</td>\n",
              "      <td>NaN</td>\n",
              "      <td>2.0</td>\n",
              "    </tr>\n",
              "    <tr>\n",
              "      <th>3</th>\n",
              "      <td>CheXpert-v1.0-small/train/patient00002/study1/...</td>\n",
              "      <td>Female</td>\n",
              "      <td>83</td>\n",
              "      <td>Lateral</td>\n",
              "      <td>NaN</td>\n",
              "      <td>NaN</td>\n",
              "      <td>NaN</td>\n",
              "      <td>NaN</td>\n",
              "      <td>1.0</td>\n",
              "      <td>NaN</td>\n",
              "      <td>NaN</td>\n",
              "      <td>1.0</td>\n",
              "      <td>NaN</td>\n",
              "      <td>NaN</td>\n",
              "      <td>NaN</td>\n",
              "      <td>NaN</td>\n",
              "      <td>NaN</td>\n",
              "      <td>1.0</td>\n",
              "      <td>NaN</td>\n",
              "      <td>2.0</td>\n",
              "    </tr>\n",
              "    <tr>\n",
              "      <th>4</th>\n",
              "      <td>CheXpert-v1.0-small/train/patient00003/study1/...</td>\n",
              "      <td>Male</td>\n",
              "      <td>41</td>\n",
              "      <td>Frontal</td>\n",
              "      <td>AP</td>\n",
              "      <td>NaN</td>\n",
              "      <td>NaN</td>\n",
              "      <td>NaN</td>\n",
              "      <td>NaN</td>\n",
              "      <td>NaN</td>\n",
              "      <td>1.0</td>\n",
              "      <td>NaN</td>\n",
              "      <td>NaN</td>\n",
              "      <td>NaN</td>\n",
              "      <td>0.0</td>\n",
              "      <td>NaN</td>\n",
              "      <td>NaN</td>\n",
              "      <td>NaN</td>\n",
              "      <td>NaN</td>\n",
              "      <td>1.0</td>\n",
              "    </tr>\n",
              "  </tbody>\n",
              "</table>\n",
              "</div>"
            ],
            "text/plain": [
              "                                                Path  ... Num Pathologies\n",
              "0  CheXpert-v1.0-small/train/patient00001/study1/...  ...             1.0\n",
              "1  CheXpert-v1.0-small/train/patient00002/study2/...  ...             2.0\n",
              "2  CheXpert-v1.0-small/train/patient00002/study1/...  ...             2.0\n",
              "3  CheXpert-v1.0-small/train/patient00002/study1/...  ...             2.0\n",
              "4  CheXpert-v1.0-small/train/patient00003/study1/...  ...             1.0\n",
              "\n",
              "[5 rows x 20 columns]"
            ]
          },
          "metadata": {
            "tags": []
          },
          "execution_count": 20
        }
      ]
    },
    {
      "cell_type": "code",
      "metadata": {
        "id": "yPXyZBj_-ko0",
        "colab_type": "code",
        "outputId": "28f5da02-a6c4-460b-d338-9225bf0a8455",
        "colab": {
          "base_uri": "https://localhost:8080/",
          "height": 425
        }
      },
      "source": [
        "corr = df_binary.corr()\n",
        "\n",
        "# plot the heatmap\n",
        "sns.heatmap(corr, \n",
        "        xticklabels=corr.columns,\n",
        "        yticklabels=corr.columns)\n",
        "\n",
        "plt.show()"
      ],
      "execution_count": 0,
      "outputs": [
        {
          "output_type": "display_data",
          "data": {
            "image/png": "[encoded data removed]",
            "text/plain": [
              "<Figure size 432x288 with 2 Axes>"
            ]
          },
          "metadata": {
            "tags": []
          }
        }
      ]
    },
    {
      "cell_type": "code",
      "metadata": {
        "id": "Lo83wrGzIi8d",
        "colab_type": "code",
        "outputId": "4170ce9f-7eb9-4a82-a8e4-3ac05b9999b7",
        "colab": {
          "base_uri": "https://localhost:8080/",
          "height": 1000
        }
      },
      "source": [
        "df_medium = df.copy()\n",
        "\n",
        "for i in range(0,5):\n",
        "  df_medium = df.copy()\n",
        "  fraction = i / 4.0\n",
        "  for patho in outcomes:\n",
        "    df_medium[patho] = df_medium[patho].apply( lambda x: fraction if x < 0 else x)\n",
        "  \n",
        "  corr = df_medium.corr()\n",
        "  # plot the heatmap\n",
        "  sns.heatmap(corr, \n",
        "        xticklabels=corr.columns,\n",
        "        yticklabels=corr.columns)\n",
        "  plt.title(f'Maybes are {fraction}')\n",
        "  plt.show()"
      ],
      "execution_count": 0,
      "outputs": [
        {
          "output_type": "display_data",
          "data": {
            "image/png": "[encoded data removed]",
            "text/plain": [
              "<Figure size 432x288 with 2 Axes>"
            ]
          },
          "metadata": {
            "tags": []
          }
        },
        {
          "output_type": "display_data",
          "data": {
            "image/png": "[encoded data removed]",
            "text/plain": [
              "<Figure size 432x288 with 2 Axes>"
            ]
          },
          "metadata": {
            "tags": []
          }
        },
        {
          "output_type": "display_data",
          "data": {
            "image/png": "[encoded data removed]",
            "text/plain": [
              "<Figure size 432x288 with 2 Axes>"
            ]
          },
          "metadata": {
            "tags": []
          }
        },
        {
          "output_type": "display_data",
          "data": {
            "image/png": "[encoded data removed]",
            "text/plain": [
              "<Figure size 432x288 with 2 Axes>"
            ]
          },
          "metadata": {
            "tags": []
          }
        },
        {
          "output_type": "display_data",
          "data": {
            "image/png": "[encoded data removed]",
            "text/plain": [
              "<Figure size 432x288 with 2 Axes>"
            ]
          },
          "metadata": {
            "tags": []
          }
        }
      ]
    },
    {
      "cell_type": "markdown",
      "metadata": {
        "id": "pl9W8VpBMFI7",
        "colab_type": "text"
      },
      "source": [
        "## Other ways to fill in the data"
      ]
    },
    {
      "cell_type": "markdown",
      "metadata": {
        "id": "2CKxNQrNMIs6",
        "colab_type": "text"
      },
      "source": [
        "original: \n",
        "* -1 =  maybe\n",
        "* 0 = definite no\n",
        "* 1 = yes\n",
        "\n",
        "\n",
        "new:\n",
        "* 0 = definite no AND null / not mentioned\n",
        "* 1 = maybe AND yes\n"
      ]
    },
    {
      "cell_type": "code",
      "metadata": {
        "id": "bReOQShNJm3E",
        "colab_type": "code",
        "outputId": "1968ea83-3ea0-4cbd-c854-449b104905d9",
        "colab": {
          "base_uri": "https://localhost:8080/",
          "height": 591
        }
      },
      "source": [
        "filleddf = df.copy()\n",
        "\n",
        "for patho in outcomes:\n",
        "  filleddf[patho] = filleddf[patho].apply( lambda x: 1 if x < 0 else x)\n",
        "\n",
        "filleddf[outcomes] = filleddf[outcomes].fillna(0).astype(int)\n",
        "\n",
        "filleddf.head()"
      ],
      "execution_count": 0,
      "outputs": [
        {
          "output_type": "execute_result",
          "data": {
            "text/html": [
              "<div>\n",
              "<style scoped>\n",
              "    .dataframe tbody tr th:only-of-type {\n",
              "        vertical-align: middle;\n",
              "    }\n",
              "\n",
              "    .dataframe tbody tr th {\n",
              "        vertical-align: top;\n",
              "    }\n",
              "\n",
              "    .dataframe thead th {\n",
              "        text-align: right;\n",
              "    }\n",
              "</style>\n",
              "<table border=\"1\" class=\"dataframe\">\n",
              "  <thead>\n",
              "    <tr style=\"text-align: right;\">\n",
              "      <th></th>\n",
              "      <th>Path</th>\n",
              "      <th>Sex</th>\n",
              "      <th>Age</th>\n",
              "      <th>Frontal/Lateral</th>\n",
              "      <th>AP/PA</th>\n",
              "      <th>No Finding</th>\n",
              "      <th>Enlarged Cardiomediastinum</th>\n",
              "      <th>Cardiomegaly</th>\n",
              "      <th>Lung Opacity</th>\n",
              "      <th>Lung Lesion</th>\n",
              "      <th>Edema</th>\n",
              "      <th>Consolidation</th>\n",
              "      <th>Pneumonia</th>\n",
              "      <th>Atelectasis</th>\n",
              "      <th>Pneumothorax</th>\n",
              "      <th>Pleural Effusion</th>\n",
              "      <th>Pleural Other</th>\n",
              "      <th>Fracture</th>\n",
              "      <th>Support Devices</th>\n",
              "      <th>Num Pathologies</th>\n",
              "    </tr>\n",
              "  </thead>\n",
              "  <tbody>\n",
              "    <tr>\n",
              "      <th>0</th>\n",
              "      <td>CheXpert-v1.0-small/train/patient00001/study1/...</td>\n",
              "      <td>Female</td>\n",
              "      <td>68</td>\n",
              "      <td>Frontal</td>\n",
              "      <td>AP</td>\n",
              "      <td>1</td>\n",
              "      <td>0</td>\n",
              "      <td>0</td>\n",
              "      <td>0</td>\n",
              "      <td>0</td>\n",
              "      <td>0</td>\n",
              "      <td>0</td>\n",
              "      <td>0</td>\n",
              "      <td>0</td>\n",
              "      <td>0</td>\n",
              "      <td>0</td>\n",
              "      <td>0</td>\n",
              "      <td>0</td>\n",
              "      <td>1</td>\n",
              "      <td>1.0</td>\n",
              "    </tr>\n",
              "    <tr>\n",
              "      <th>1</th>\n",
              "      <td>CheXpert-v1.0-small/train/patient00002/study2/...</td>\n",
              "      <td>Female</td>\n",
              "      <td>87</td>\n",
              "      <td>Frontal</td>\n",
              "      <td>AP</td>\n",
              "      <td>0</td>\n",
              "      <td>0</td>\n",
              "      <td>1</td>\n",
              "      <td>1</td>\n",
              "      <td>0</td>\n",
              "      <td>1</td>\n",
              "      <td>1</td>\n",
              "      <td>0</td>\n",
              "      <td>1</td>\n",
              "      <td>0</td>\n",
              "      <td>1</td>\n",
              "      <td>0</td>\n",
              "      <td>1</td>\n",
              "      <td>0</td>\n",
              "      <td>2.0</td>\n",
              "    </tr>\n",
              "    <tr>\n",
              "      <th>2</th>\n",
              "      <td>CheXpert-v1.0-small/train/patient00002/study1/...</td>\n",
              "      <td>Female</td>\n",
              "      <td>83</td>\n",
              "      <td>Frontal</td>\n",
              "      <td>AP</td>\n",
              "      <td>0</td>\n",
              "      <td>0</td>\n",
              "      <td>0</td>\n",
              "      <td>1</td>\n",
              "      <td>0</td>\n",
              "      <td>0</td>\n",
              "      <td>1</td>\n",
              "      <td>0</td>\n",
              "      <td>0</td>\n",
              "      <td>0</td>\n",
              "      <td>0</td>\n",
              "      <td>0</td>\n",
              "      <td>1</td>\n",
              "      <td>0</td>\n",
              "      <td>2.0</td>\n",
              "    </tr>\n",
              "    <tr>\n",
              "      <th>3</th>\n",
              "      <td>CheXpert-v1.0-small/train/patient00002/study1/...</td>\n",
              "      <td>Female</td>\n",
              "      <td>83</td>\n",
              "      <td>Lateral</td>\n",
              "      <td>NaN</td>\n",
              "      <td>0</td>\n",
              "      <td>0</td>\n",
              "      <td>0</td>\n",
              "      <td>1</td>\n",
              "      <td>0</td>\n",
              "      <td>0</td>\n",
              "      <td>1</td>\n",
              "      <td>0</td>\n",
              "      <td>0</td>\n",
              "      <td>0</td>\n",
              "      <td>0</td>\n",
              "      <td>0</td>\n",
              "      <td>1</td>\n",
              "      <td>0</td>\n",
              "      <td>2.0</td>\n",
              "    </tr>\n",
              "    <tr>\n",
              "      <th>4</th>\n",
              "      <td>CheXpert-v1.0-small/train/patient00003/study1/...</td>\n",
              "      <td>Male</td>\n",
              "      <td>41</td>\n",
              "      <td>Frontal</td>\n",
              "      <td>AP</td>\n",
              "      <td>0</td>\n",
              "      <td>0</td>\n",
              "      <td>0</td>\n",
              "      <td>0</td>\n",
              "      <td>0</td>\n",
              "      <td>1</td>\n",
              "      <td>0</td>\n",
              "      <td>0</td>\n",
              "      <td>0</td>\n",
              "      <td>0</td>\n",
              "      <td>0</td>\n",
              "      <td>0</td>\n",
              "      <td>0</td>\n",
              "      <td>0</td>\n",
              "      <td>1.0</td>\n",
              "    </tr>\n",
              "  </tbody>\n",
              "</table>\n",
              "</div>"
            ],
            "text/plain": [
              "                                                Path  ... Num Pathologies\n",
              "0  CheXpert-v1.0-small/train/patient00001/study1/...  ...             1.0\n",
              "1  CheXpert-v1.0-small/train/patient00002/study2/...  ...             2.0\n",
              "2  CheXpert-v1.0-small/train/patient00002/study1/...  ...             2.0\n",
              "3  CheXpert-v1.0-small/train/patient00002/study1/...  ...             2.0\n",
              "4  CheXpert-v1.0-small/train/patient00003/study1/...  ...             1.0\n",
              "\n",
              "[5 rows x 20 columns]"
            ]
          },
          "metadata": {
            "tags": []
          },
          "execution_count": 21
        }
      ]
    },
    {
      "cell_type": "markdown",
      "metadata": {
        "id": "hMSoEmBzNO2T",
        "colab_type": "text"
      },
      "source": [
        "Redo the num pathologies column for this updated dataset"
      ]
    },
    {
      "cell_type": "code",
      "metadata": {
        "id": "2HkdqgPTNLRz",
        "colab_type": "code",
        "outputId": "36735b0c-9c30-40ab-e22c-43914efd3672",
        "colab": {
          "base_uri": "https://localhost:8080/",
          "height": 591
        }
      },
      "source": [
        "filleddf['Num Pathologies'] = filleddf[ filleddf[ outcomes_only ] > 0  ].sum(axis=1)\n",
        "filleddf.head()"
      ],
      "execution_count": 0,
      "outputs": [
        {
          "output_type": "execute_result",
          "data": {
            "text/html": [
              "<div>\n",
              "<style scoped>\n",
              "    .dataframe tbody tr th:only-of-type {\n",
              "        vertical-align: middle;\n",
              "    }\n",
              "\n",
              "    .dataframe tbody tr th {\n",
              "        vertical-align: top;\n",
              "    }\n",
              "\n",
              "    .dataframe thead th {\n",
              "        text-align: right;\n",
              "    }\n",
              "</style>\n",
              "<table border=\"1\" class=\"dataframe\">\n",
              "  <thead>\n",
              "    <tr style=\"text-align: right;\">\n",
              "      <th></th>\n",
              "      <th>Path</th>\n",
              "      <th>Sex</th>\n",
              "      <th>Age</th>\n",
              "      <th>Frontal/Lateral</th>\n",
              "      <th>AP/PA</th>\n",
              "      <th>No Finding</th>\n",
              "      <th>Enlarged Cardiomediastinum</th>\n",
              "      <th>Cardiomegaly</th>\n",
              "      <th>Lung Opacity</th>\n",
              "      <th>Lung Lesion</th>\n",
              "      <th>Edema</th>\n",
              "      <th>Consolidation</th>\n",
              "      <th>Pneumonia</th>\n",
              "      <th>Atelectasis</th>\n",
              "      <th>Pneumothorax</th>\n",
              "      <th>Pleural Effusion</th>\n",
              "      <th>Pleural Other</th>\n",
              "      <th>Fracture</th>\n",
              "      <th>Support Devices</th>\n",
              "      <th>Num Pathologies</th>\n",
              "    </tr>\n",
              "  </thead>\n",
              "  <tbody>\n",
              "    <tr>\n",
              "      <th>0</th>\n",
              "      <td>CheXpert-v1.0-small/train/patient00001/study1/...</td>\n",
              "      <td>Female</td>\n",
              "      <td>68</td>\n",
              "      <td>Frontal</td>\n",
              "      <td>AP</td>\n",
              "      <td>1</td>\n",
              "      <td>0</td>\n",
              "      <td>0</td>\n",
              "      <td>0</td>\n",
              "      <td>0</td>\n",
              "      <td>0</td>\n",
              "      <td>0</td>\n",
              "      <td>0</td>\n",
              "      <td>0</td>\n",
              "      <td>0</td>\n",
              "      <td>0</td>\n",
              "      <td>0</td>\n",
              "      <td>0</td>\n",
              "      <td>1</td>\n",
              "      <td>1.0</td>\n",
              "    </tr>\n",
              "    <tr>\n",
              "      <th>1</th>\n",
              "      <td>CheXpert-v1.0-small/train/patient00002/study2/...</td>\n",
              "      <td>Female</td>\n",
              "      <td>87</td>\n",
              "      <td>Frontal</td>\n",
              "      <td>AP</td>\n",
              "      <td>0</td>\n",
              "      <td>0</td>\n",
              "      <td>1</td>\n",
              "      <td>1</td>\n",
              "      <td>0</td>\n",
              "      <td>1</td>\n",
              "      <td>1</td>\n",
              "      <td>0</td>\n",
              "      <td>1</td>\n",
              "      <td>0</td>\n",
              "      <td>1</td>\n",
              "      <td>0</td>\n",
              "      <td>1</td>\n",
              "      <td>0</td>\n",
              "      <td>7.0</td>\n",
              "    </tr>\n",
              "    <tr>\n",
              "      <th>2</th>\n",
              "      <td>CheXpert-v1.0-small/train/patient00002/study1/...</td>\n",
              "      <td>Female</td>\n",
              "      <td>83</td>\n",
              "      <td>Frontal</td>\n",
              "      <td>AP</td>\n",
              "      <td>0</td>\n",
              "      <td>0</td>\n",
              "      <td>0</td>\n",
              "      <td>1</td>\n",
              "      <td>0</td>\n",
              "      <td>0</td>\n",
              "      <td>1</td>\n",
              "      <td>0</td>\n",
              "      <td>0</td>\n",
              "      <td>0</td>\n",
              "      <td>0</td>\n",
              "      <td>0</td>\n",
              "      <td>1</td>\n",
              "      <td>0</td>\n",
              "      <td>3.0</td>\n",
              "    </tr>\n",
              "    <tr>\n",
              "      <th>3</th>\n",
              "      <td>CheXpert-v1.0-small/train/patient00002/study1/...</td>\n",
              "      <td>Female</td>\n",
              "      <td>83</td>\n",
              "      <td>Lateral</td>\n",
              "      <td>NaN</td>\n",
              "      <td>0</td>\n",
              "      <td>0</td>\n",
              "      <td>0</td>\n",
              "      <td>1</td>\n",
              "      <td>0</td>\n",
              "      <td>0</td>\n",
              "      <td>1</td>\n",
              "      <td>0</td>\n",
              "      <td>0</td>\n",
              "      <td>0</td>\n",
              "      <td>0</td>\n",
              "      <td>0</td>\n",
              "      <td>1</td>\n",
              "      <td>0</td>\n",
              "      <td>3.0</td>\n",
              "    </tr>\n",
              "    <tr>\n",
              "      <th>4</th>\n",
              "      <td>CheXpert-v1.0-small/train/patient00003/study1/...</td>\n",
              "      <td>Male</td>\n",
              "      <td>41</td>\n",
              "      <td>Frontal</td>\n",
              "      <td>AP</td>\n",
              "      <td>0</td>\n",
              "      <td>0</td>\n",
              "      <td>0</td>\n",
              "      <td>0</td>\n",
              "      <td>0</td>\n",
              "      <td>1</td>\n",
              "      <td>0</td>\n",
              "      <td>0</td>\n",
              "      <td>0</td>\n",
              "      <td>0</td>\n",
              "      <td>0</td>\n",
              "      <td>0</td>\n",
              "      <td>0</td>\n",
              "      <td>0</td>\n",
              "      <td>1.0</td>\n",
              "    </tr>\n",
              "  </tbody>\n",
              "</table>\n",
              "</div>"
            ],
            "text/plain": [
              "                                                Path  ... Num Pathologies\n",
              "0  CheXpert-v1.0-small/train/patient00001/study1/...  ...             1.0\n",
              "1  CheXpert-v1.0-small/train/patient00002/study2/...  ...             7.0\n",
              "2  CheXpert-v1.0-small/train/patient00002/study1/...  ...             3.0\n",
              "3  CheXpert-v1.0-small/train/patient00002/study1/...  ...             3.0\n",
              "4  CheXpert-v1.0-small/train/patient00003/study1/...  ...             1.0\n",
              "\n",
              "[5 rows x 20 columns]"
            ]
          },
          "metadata": {
            "tags": []
          },
          "execution_count": 22
        }
      ]
    },
    {
      "cell_type": "code",
      "metadata": {
        "id": "T-pwf-LqNphp",
        "colab_type": "code",
        "outputId": "4cd27645-f738-4679-fd9b-6533838d5853",
        "colab": {
          "base_uri": "https://localhost:8080/",
          "height": 425
        }
      },
      "source": [
        "corr = filleddf.corr()\n",
        "\n",
        "# plot the heatmap\n",
        "sns.heatmap(corr, \n",
        "        xticklabels=corr.columns,\n",
        "        yticklabels=corr.columns,\n",
        "        cmap=\"YlGnBu\"\n",
        "           )\n",
        "\n",
        "plt.show()"
      ],
      "execution_count": 0,
      "outputs": [
        {
          "output_type": "display_data",
          "data": {
            "image/png": "[encoded data removed]",
            "text/plain": [
              "<Figure size 432x288 with 2 Axes>"
            ]
          },
          "metadata": {
            "tags": []
          }
        }
      ]
    },
    {
      "cell_type": "markdown",
      "metadata": {
        "id": "z_USfo9oNhkp",
        "colab_type": "text"
      },
      "source": [
        "## Extract the patient ID to see redundant patients"
      ]
    },
    {
      "cell_type": "code",
      "metadata": {
        "id": "39oX7gXZOwfx",
        "colab_type": "code",
        "outputId": "2adbccba-5d8d-4dee-a3b3-f8e24cfa899a",
        "colab": {
          "base_uri": "https://localhost:8080/",
          "height": 591
        }
      },
      "source": [
        "filleddf.head()"
      ],
      "execution_count": 0,
      "outputs": [
        {
          "output_type": "execute_result",
          "data": {
            "text/html": [
              "<div>\n",
              "<style scoped>\n",
              "    .dataframe tbody tr th:only-of-type {\n",
              "        vertical-align: middle;\n",
              "    }\n",
              "\n",
              "    .dataframe tbody tr th {\n",
              "        vertical-align: top;\n",
              "    }\n",
              "\n",
              "    .dataframe thead th {\n",
              "        text-align: right;\n",
              "    }\n",
              "</style>\n",
              "<table border=\"1\" class=\"dataframe\">\n",
              "  <thead>\n",
              "    <tr style=\"text-align: right;\">\n",
              "      <th></th>\n",
              "      <th>Path</th>\n",
              "      <th>Sex</th>\n",
              "      <th>Age</th>\n",
              "      <th>Frontal/Lateral</th>\n",
              "      <th>AP/PA</th>\n",
              "      <th>No Finding</th>\n",
              "      <th>Enlarged Cardiomediastinum</th>\n",
              "      <th>Cardiomegaly</th>\n",
              "      <th>Lung Opacity</th>\n",
              "      <th>Lung Lesion</th>\n",
              "      <th>Edema</th>\n",
              "      <th>Consolidation</th>\n",
              "      <th>Pneumonia</th>\n",
              "      <th>Atelectasis</th>\n",
              "      <th>Pneumothorax</th>\n",
              "      <th>Pleural Effusion</th>\n",
              "      <th>Pleural Other</th>\n",
              "      <th>Fracture</th>\n",
              "      <th>Support Devices</th>\n",
              "      <th>Num Pathologies</th>\n",
              "    </tr>\n",
              "  </thead>\n",
              "  <tbody>\n",
              "    <tr>\n",
              "      <th>0</th>\n",
              "      <td>CheXpert-v1.0-small/train/patient00001/study1/...</td>\n",
              "      <td>Female</td>\n",
              "      <td>68</td>\n",
              "      <td>Frontal</td>\n",
              "      <td>AP</td>\n",
              "      <td>1</td>\n",
              "      <td>0</td>\n",
              "      <td>0</td>\n",
              "      <td>0</td>\n",
              "      <td>0</td>\n",
              "      <td>0</td>\n",
              "      <td>0</td>\n",
              "      <td>0</td>\n",
              "      <td>0</td>\n",
              "      <td>0</td>\n",
              "      <td>0</td>\n",
              "      <td>0</td>\n",
              "      <td>0</td>\n",
              "      <td>1</td>\n",
              "      <td>1.0</td>\n",
              "    </tr>\n",
              "    <tr>\n",
              "      <th>1</th>\n",
              "      <td>CheXpert-v1.0-small/train/patient00002/study2/...</td>\n",
              "      <td>Female</td>\n",
              "      <td>87</td>\n",
              "      <td>Frontal</td>\n",
              "      <td>AP</td>\n",
              "      <td>0</td>\n",
              "      <td>0</td>\n",
              "      <td>1</td>\n",
              "      <td>1</td>\n",
              "      <td>0</td>\n",
              "      <td>1</td>\n",
              "      <td>1</td>\n",
              "      <td>0</td>\n",
              "      <td>1</td>\n",
              "      <td>0</td>\n",
              "      <td>1</td>\n",
              "      <td>0</td>\n",
              "      <td>1</td>\n",
              "      <td>0</td>\n",
              "      <td>7.0</td>\n",
              "    </tr>\n",
              "    <tr>\n",
              "      <th>2</th>\n",
              "      <td>CheXpert-v1.0-small/train/patient00002/study1/...</td>\n",
              "      <td>Female</td>\n",
              "      <td>83</td>\n",
              "      <td>Frontal</td>\n",
              "      <td>AP</td>\n",
              "      <td>0</td>\n",
              "      <td>0</td>\n",
              "      <td>0</td>\n",
              "      <td>1</td>\n",
              "      <td>0</td>\n",
              "      <td>0</td>\n",
              "      <td>1</td>\n",
              "      <td>0</td>\n",
              "      <td>0</td>\n",
              "      <td>0</td>\n",
              "      <td>0</td>\n",
              "      <td>0</td>\n",
              "      <td>1</td>\n",
              "      <td>0</td>\n",
              "      <td>3.0</td>\n",
              "    </tr>\n",
              "    <tr>\n",
              "      <th>3</th>\n",
              "      <td>CheXpert-v1.0-small/train/patient00002/study1/...</td>\n",
              "      <td>Female</td>\n",
              "      <td>83</td>\n",
              "      <td>Lateral</td>\n",
              "      <td>NaN</td>\n",
              "      <td>0</td>\n",
              "      <td>0</td>\n",
              "      <td>0</td>\n",
              "      <td>1</td>\n",
              "      <td>0</td>\n",
              "      <td>0</td>\n",
              "      <td>1</td>\n",
              "      <td>0</td>\n",
              "      <td>0</td>\n",
              "      <td>0</td>\n",
              "      <td>0</td>\n",
              "      <td>0</td>\n",
              "      <td>1</td>\n",
              "      <td>0</td>\n",
              "      <td>3.0</td>\n",
              "    </tr>\n",
              "    <tr>\n",
              "      <th>4</th>\n",
              "      <td>CheXpert-v1.0-small/train/patient00003/study1/...</td>\n",
              "      <td>Male</td>\n",
              "      <td>41</td>\n",
              "      <td>Frontal</td>\n",
              "      <td>AP</td>\n",
              "      <td>0</td>\n",
              "      <td>0</td>\n",
              "      <td>0</td>\n",
              "      <td>0</td>\n",
              "      <td>0</td>\n",
              "      <td>1</td>\n",
              "      <td>0</td>\n",
              "      <td>0</td>\n",
              "      <td>0</td>\n",
              "      <td>0</td>\n",
              "      <td>0</td>\n",
              "      <td>0</td>\n",
              "      <td>0</td>\n",
              "      <td>0</td>\n",
              "      <td>1.0</td>\n",
              "    </tr>\n",
              "  </tbody>\n",
              "</table>\n",
              "</div>"
            ],
            "text/plain": [
              "                                                Path  ... Num Pathologies\n",
              "0  CheXpert-v1.0-small/train/patient00001/study1/...  ...             1.0\n",
              "1  CheXpert-v1.0-small/train/patient00002/study2/...  ...             7.0\n",
              "2  CheXpert-v1.0-small/train/patient00002/study1/...  ...             3.0\n",
              "3  CheXpert-v1.0-small/train/patient00002/study1/...  ...             3.0\n",
              "4  CheXpert-v1.0-small/train/patient00003/study1/...  ...             1.0\n",
              "\n",
              "[5 rows x 20 columns]"
            ]
          },
          "metadata": {
            "tags": []
          },
          "execution_count": 131
        }
      ]
    },
    {
      "cell_type": "code",
      "metadata": {
        "id": "DWhzTCUeNbL-",
        "colab_type": "code",
        "outputId": "9be639ec-a722-4692-9498-0d3a80c7e5d6",
        "colab": {
          "base_uri": "https://localhost:8080/",
          "height": 34
        }
      },
      "source": [
        "def extract_patient_id(url):\n",
        "  wholename = url.split('/')[2]\n",
        "  \n",
        "  #get rid of the 'patient'\n",
        "  nonpatient = wholename[7:]\n",
        "  \n",
        "  return nonpatient\n",
        "  \n",
        "#testing\n",
        "print(extract_patient_id(filleddf.iloc[0]['Path']))"
      ],
      "execution_count": 0,
      "outputs": [
        {
          "output_type": "stream",
          "text": [
            "00001\n"
          ],
          "name": "stdout"
        }
      ]
    },
    {
      "cell_type": "code",
      "metadata": {
        "id": "XJpSTLUFPIcO",
        "colab_type": "code",
        "outputId": "59bb62b7-0a76-465b-e447-7f7b676c1c71",
        "colab": {
          "base_uri": "https://localhost:8080/",
          "height": 591
        }
      },
      "source": [
        "filleddf['Patient ID'] = filleddf['Path'].apply(extract_patient_id)\n",
        "filleddf.head()"
      ],
      "execution_count": 0,
      "outputs": [
        {
          "output_type": "execute_result",
          "data": {
            "text/html": [
              "<div>\n",
              "<style scoped>\n",
              "    .dataframe tbody tr th:only-of-type {\n",
              "        vertical-align: middle;\n",
              "    }\n",
              "\n",
              "    .dataframe tbody tr th {\n",
              "        vertical-align: top;\n",
              "    }\n",
              "\n",
              "    .dataframe thead th {\n",
              "        text-align: right;\n",
              "    }\n",
              "</style>\n",
              "<table border=\"1\" class=\"dataframe\">\n",
              "  <thead>\n",
              "    <tr style=\"text-align: right;\">\n",
              "      <th></th>\n",
              "      <th>Path</th>\n",
              "      <th>Sex</th>\n",
              "      <th>Age</th>\n",
              "      <th>Frontal/Lateral</th>\n",
              "      <th>AP/PA</th>\n",
              "      <th>No Finding</th>\n",
              "      <th>Enlarged Cardiomediastinum</th>\n",
              "      <th>Cardiomegaly</th>\n",
              "      <th>Lung Opacity</th>\n",
              "      <th>Lung Lesion</th>\n",
              "      <th>Edema</th>\n",
              "      <th>Consolidation</th>\n",
              "      <th>Pneumonia</th>\n",
              "      <th>Atelectasis</th>\n",
              "      <th>Pneumothorax</th>\n",
              "      <th>Pleural Effusion</th>\n",
              "      <th>Pleural Other</th>\n",
              "      <th>Fracture</th>\n",
              "      <th>Support Devices</th>\n",
              "      <th>Num Pathologies</th>\n",
              "      <th>Patient ID</th>\n",
              "    </tr>\n",
              "  </thead>\n",
              "  <tbody>\n",
              "    <tr>\n",
              "      <th>0</th>\n",
              "      <td>CheXpert-v1.0-small/train/patient00001/study1/...</td>\n",
              "      <td>Female</td>\n",
              "      <td>68</td>\n",
              "      <td>Frontal</td>\n",
              "      <td>AP</td>\n",
              "      <td>1</td>\n",
              "      <td>0</td>\n",
              "      <td>0</td>\n",
              "      <td>0</td>\n",
              "      <td>0</td>\n",
              "      <td>0</td>\n",
              "      <td>0</td>\n",
              "      <td>0</td>\n",
              "      <td>0</td>\n",
              "      <td>0</td>\n",
              "      <td>0</td>\n",
              "      <td>0</td>\n",
              "      <td>0</td>\n",
              "      <td>1</td>\n",
              "      <td>1.0</td>\n",
              "      <td>00001</td>\n",
              "    </tr>\n",
              "    <tr>\n",
              "      <th>1</th>\n",
              "      <td>CheXpert-v1.0-small/train/patient00002/study2/...</td>\n",
              "      <td>Female</td>\n",
              "      <td>87</td>\n",
              "      <td>Frontal</td>\n",
              "      <td>AP</td>\n",
              "      <td>0</td>\n",
              "      <td>0</td>\n",
              "      <td>1</td>\n",
              "      <td>1</td>\n",
              "      <td>0</td>\n",
              "      <td>1</td>\n",
              "      <td>1</td>\n",
              "      <td>0</td>\n",
              "      <td>1</td>\n",
              "      <td>0</td>\n",
              "      <td>1</td>\n",
              "      <td>0</td>\n",
              "      <td>1</td>\n",
              "      <td>0</td>\n",
              "      <td>7.0</td>\n",
              "      <td>00002</td>\n",
              "    </tr>\n",
              "    <tr>\n",
              "      <th>2</th>\n",
              "      <td>CheXpert-v1.0-small/train/patient00002/study1/...</td>\n",
              "      <td>Female</td>\n",
              "      <td>83</td>\n",
              "      <td>Frontal</td>\n",
              "      <td>AP</td>\n",
              "      <td>0</td>\n",
              "      <td>0</td>\n",
              "      <td>0</td>\n",
              "      <td>1</td>\n",
              "      <td>0</td>\n",
              "      <td>0</td>\n",
              "      <td>1</td>\n",
              "      <td>0</td>\n",
              "      <td>0</td>\n",
              "      <td>0</td>\n",
              "      <td>0</td>\n",
              "      <td>0</td>\n",
              "      <td>1</td>\n",
              "      <td>0</td>\n",
              "      <td>3.0</td>\n",
              "      <td>00002</td>\n",
              "    </tr>\n",
              "    <tr>\n",
              "      <th>3</th>\n",
              "      <td>CheXpert-v1.0-small/train/patient00002/study1/...</td>\n",
              "      <td>Female</td>\n",
              "      <td>83</td>\n",
              "      <td>Lateral</td>\n",
              "      <td>NaN</td>\n",
              "      <td>0</td>\n",
              "      <td>0</td>\n",
              "      <td>0</td>\n",
              "      <td>1</td>\n",
              "      <td>0</td>\n",
              "      <td>0</td>\n",
              "      <td>1</td>\n",
              "      <td>0</td>\n",
              "      <td>0</td>\n",
              "      <td>0</td>\n",
              "      <td>0</td>\n",
              "      <td>0</td>\n",
              "      <td>1</td>\n",
              "      <td>0</td>\n",
              "      <td>3.0</td>\n",
              "      <td>00002</td>\n",
              "    </tr>\n",
              "    <tr>\n",
              "      <th>4</th>\n",
              "      <td>CheXpert-v1.0-small/train/patient00003/study1/...</td>\n",
              "      <td>Male</td>\n",
              "      <td>41</td>\n",
              "      <td>Frontal</td>\n",
              "      <td>AP</td>\n",
              "      <td>0</td>\n",
              "      <td>0</td>\n",
              "      <td>0</td>\n",
              "      <td>0</td>\n",
              "      <td>0</td>\n",
              "      <td>1</td>\n",
              "      <td>0</td>\n",
              "      <td>0</td>\n",
              "      <td>0</td>\n",
              "      <td>0</td>\n",
              "      <td>0</td>\n",
              "      <td>0</td>\n",
              "      <td>0</td>\n",
              "      <td>0</td>\n",
              "      <td>1.0</td>\n",
              "      <td>00003</td>\n",
              "    </tr>\n",
              "  </tbody>\n",
              "</table>\n",
              "</div>"
            ],
            "text/plain": [
              "                                                Path  ... Patient ID\n",
              "0  CheXpert-v1.0-small/train/patient00001/study1/...  ...      00001\n",
              "1  CheXpert-v1.0-small/train/patient00002/study2/...  ...      00002\n",
              "2  CheXpert-v1.0-small/train/patient00002/study1/...  ...      00002\n",
              "3  CheXpert-v1.0-small/train/patient00002/study1/...  ...      00002\n",
              "4  CheXpert-v1.0-small/train/patient00003/study1/...  ...      00003\n",
              "\n",
              "[5 rows x 21 columns]"
            ]
          },
          "metadata": {
            "tags": []
          },
          "execution_count": 24
        }
      ]
    },
    {
      "cell_type": "code",
      "metadata": {
        "id": "CT7POntGWGWc",
        "colab_type": "code",
        "outputId": "afa94734-3830-47a5-8b65-e821621b4d0e",
        "colab": {
          "base_uri": "https://localhost:8080/",
          "height": 1000
        }
      },
      "source": [
        "filleddf.groupby('Patient ID')['Path'].count()"
      ],
      "execution_count": 0,
      "outputs": [
        {
          "output_type": "execute_result",
          "data": {
            "text/plain": [
              "Patient ID\n",
              "00001     1\n",
              "00002     3\n",
              "00003     1\n",
              "00004     2\n",
              "00005     4\n",
              "00006     1\n",
              "00007     2\n",
              "00008     2\n",
              "00009     2\n",
              "00010     2\n",
              "00011    14\n",
              "00012     6\n",
              "00013     2\n",
              "00014     2\n",
              "00015     2\n",
              "00016     2\n",
              "00017     2\n",
              "00018     2\n",
              "00019     5\n",
              "00020     1\n",
              "00021     1\n",
              "00022     3\n",
              "00023    20\n",
              "00024     3\n",
              "00025     4\n",
              "00026     2\n",
              "00027     2\n",
              "00028     2\n",
              "00029     1\n",
              "00030     1\n",
              "         ..\n",
              "64511     1\n",
              "64512     1\n",
              "64513     1\n",
              "64514     1\n",
              "64515     1\n",
              "64516     1\n",
              "64517     1\n",
              "64518     1\n",
              "64519     1\n",
              "64520     1\n",
              "64521     1\n",
              "64522     1\n",
              "64523     1\n",
              "64524     1\n",
              "64525     1\n",
              "64526     1\n",
              "64527     2\n",
              "64528     1\n",
              "64529     1\n",
              "64530     1\n",
              "64531     1\n",
              "64532     1\n",
              "64533     2\n",
              "64534     1\n",
              "64535     1\n",
              "64536     2\n",
              "64537     2\n",
              "64538     1\n",
              "64539     1\n",
              "64540     1\n",
              "Name: Path, Length: 64540, dtype: int64"
            ]
          },
          "metadata": {
            "tags": []
          },
          "execution_count": 167
        }
      ]
    },
    {
      "cell_type": "markdown",
      "metadata": {
        "id": "UHVIt41oB5Lu",
        "colab_type": "text"
      },
      "source": [
        "### Number of images per patient"
      ]
    },
    {
      "cell_type": "code",
      "metadata": {
        "id": "Khwpv0NvPvbM",
        "colab_type": "code",
        "outputId": "a7340672-b98b-4112-9115-c682fc1890fc",
        "colab": {
          "base_uri": "https://localhost:8080/",
          "height": 1000
        }
      },
      "source": [
        "filleddf.groupby('Patient ID')['Path'].count()\n",
        "\n",
        "df_by_patient = pd.DataFrame( filleddf.groupby('Patient ID')['Path'].count(), \n",
        "                            index = filleddf['Patient ID'])\n",
        "df_by_patient.columns = ['Num Images']\n",
        "df_by_patient = df_by_patient.drop_duplicates()\n",
        "df_by_patient"
      ],
      "execution_count": 0,
      "outputs": [
        {
          "output_type": "execute_result",
          "data": {
            "text/html": [
              "<div>\n",
              "<style scoped>\n",
              "    .dataframe tbody tr th:only-of-type {\n",
              "        vertical-align: middle;\n",
              "    }\n",
              "\n",
              "    .dataframe tbody tr th {\n",
              "        vertical-align: top;\n",
              "    }\n",
              "\n",
              "    .dataframe thead th {\n",
              "        text-align: right;\n",
              "    }\n",
              "</style>\n",
              "<table border=\"1\" class=\"dataframe\">\n",
              "  <thead>\n",
              "    <tr style=\"text-align: right;\">\n",
              "      <th></th>\n",
              "      <th>Num Images</th>\n",
              "    </tr>\n",
              "    <tr>\n",
              "      <th>Patient ID</th>\n",
              "      <th></th>\n",
              "    </tr>\n",
              "  </thead>\n",
              "  <tbody>\n",
              "    <tr>\n",
              "      <th>00001</th>\n",
              "      <td>1</td>\n",
              "    </tr>\n",
              "    <tr>\n",
              "      <th>00002</th>\n",
              "      <td>3</td>\n",
              "    </tr>\n",
              "    <tr>\n",
              "      <th>00004</th>\n",
              "      <td>2</td>\n",
              "    </tr>\n",
              "    <tr>\n",
              "      <th>00005</th>\n",
              "      <td>4</td>\n",
              "    </tr>\n",
              "    <tr>\n",
              "      <th>00011</th>\n",
              "      <td>14</td>\n",
              "    </tr>\n",
              "    <tr>\n",
              "      <th>00012</th>\n",
              "      <td>6</td>\n",
              "    </tr>\n",
              "    <tr>\n",
              "      <th>00019</th>\n",
              "      <td>5</td>\n",
              "    </tr>\n",
              "    <tr>\n",
              "      <th>00023</th>\n",
              "      <td>20</td>\n",
              "    </tr>\n",
              "    <tr>\n",
              "      <th>00039</th>\n",
              "      <td>11</td>\n",
              "    </tr>\n",
              "    <tr>\n",
              "      <th>00044</th>\n",
              "      <td>9</td>\n",
              "    </tr>\n",
              "    <tr>\n",
              "      <th>00069</th>\n",
              "      <td>47</td>\n",
              "    </tr>\n",
              "    <tr>\n",
              "      <th>00080</th>\n",
              "      <td>8</td>\n",
              "    </tr>\n",
              "    <tr>\n",
              "      <th>00100</th>\n",
              "      <td>10</td>\n",
              "    </tr>\n",
              "    <tr>\n",
              "      <th>00128</th>\n",
              "      <td>28</td>\n",
              "    </tr>\n",
              "    <tr>\n",
              "      <th>00135</th>\n",
              "      <td>7</td>\n",
              "    </tr>\n",
              "    <tr>\n",
              "      <th>00140</th>\n",
              "      <td>19</td>\n",
              "    </tr>\n",
              "    <tr>\n",
              "      <th>00142</th>\n",
              "      <td>12</td>\n",
              "    </tr>\n",
              "    <tr>\n",
              "      <th>00146</th>\n",
              "      <td>31</td>\n",
              "    </tr>\n",
              "    <tr>\n",
              "      <th>00147</th>\n",
              "      <td>15</td>\n",
              "    </tr>\n",
              "    <tr>\n",
              "      <th>00178</th>\n",
              "      <td>13</td>\n",
              "    </tr>\n",
              "    <tr>\n",
              "      <th>00204</th>\n",
              "      <td>21</td>\n",
              "    </tr>\n",
              "    <tr>\n",
              "      <th>00235</th>\n",
              "      <td>17</td>\n",
              "    </tr>\n",
              "    <tr>\n",
              "      <th>00255</th>\n",
              "      <td>16</td>\n",
              "    </tr>\n",
              "    <tr>\n",
              "      <th>00310</th>\n",
              "      <td>42</td>\n",
              "    </tr>\n",
              "    <tr>\n",
              "      <th>00314</th>\n",
              "      <td>36</td>\n",
              "    </tr>\n",
              "    <tr>\n",
              "      <th>00426</th>\n",
              "      <td>44</td>\n",
              "    </tr>\n",
              "    <tr>\n",
              "      <th>00463</th>\n",
              "      <td>26</td>\n",
              "    </tr>\n",
              "    <tr>\n",
              "      <th>00467</th>\n",
              "      <td>51</td>\n",
              "    </tr>\n",
              "    <tr>\n",
              "      <th>00631</th>\n",
              "      <td>46</td>\n",
              "    </tr>\n",
              "    <tr>\n",
              "      <th>00693</th>\n",
              "      <td>35</td>\n",
              "    </tr>\n",
              "    <tr>\n",
              "      <th>...</th>\n",
              "      <td>...</td>\n",
              "    </tr>\n",
              "    <tr>\n",
              "      <th>04462</th>\n",
              "      <td>89</td>\n",
              "    </tr>\n",
              "    <tr>\n",
              "      <th>04722</th>\n",
              "      <td>30</td>\n",
              "    </tr>\n",
              "    <tr>\n",
              "      <th>04929</th>\n",
              "      <td>22</td>\n",
              "    </tr>\n",
              "    <tr>\n",
              "      <th>05109</th>\n",
              "      <td>54</td>\n",
              "    </tr>\n",
              "    <tr>\n",
              "      <th>05702</th>\n",
              "      <td>79</td>\n",
              "    </tr>\n",
              "    <tr>\n",
              "      <th>07074</th>\n",
              "      <td>41</td>\n",
              "    </tr>\n",
              "    <tr>\n",
              "      <th>07632</th>\n",
              "      <td>58</td>\n",
              "    </tr>\n",
              "    <tr>\n",
              "      <th>07913</th>\n",
              "      <td>52</td>\n",
              "    </tr>\n",
              "    <tr>\n",
              "      <th>09530</th>\n",
              "      <td>56</td>\n",
              "    </tr>\n",
              "    <tr>\n",
              "      <th>09793</th>\n",
              "      <td>73</td>\n",
              "    </tr>\n",
              "    <tr>\n",
              "      <th>10105</th>\n",
              "      <td>60</td>\n",
              "    </tr>\n",
              "    <tr>\n",
              "      <th>10139</th>\n",
              "      <td>67</td>\n",
              "    </tr>\n",
              "    <tr>\n",
              "      <th>10238</th>\n",
              "      <td>53</td>\n",
              "    </tr>\n",
              "    <tr>\n",
              "      <th>13162</th>\n",
              "      <td>72</td>\n",
              "    </tr>\n",
              "    <tr>\n",
              "      <th>13181</th>\n",
              "      <td>57</td>\n",
              "    </tr>\n",
              "    <tr>\n",
              "      <th>14282</th>\n",
              "      <td>77</td>\n",
              "    </tr>\n",
              "    <tr>\n",
              "      <th>15058</th>\n",
              "      <td>59</td>\n",
              "    </tr>\n",
              "    <tr>\n",
              "      <th>15081</th>\n",
              "      <td>48</td>\n",
              "    </tr>\n",
              "    <tr>\n",
              "      <th>15258</th>\n",
              "      <td>64</td>\n",
              "    </tr>\n",
              "    <tr>\n",
              "      <th>18257</th>\n",
              "      <td>50</td>\n",
              "    </tr>\n",
              "    <tr>\n",
              "      <th>19317</th>\n",
              "      <td>80</td>\n",
              "    </tr>\n",
              "    <tr>\n",
              "      <th>20479</th>\n",
              "      <td>75</td>\n",
              "    </tr>\n",
              "    <tr>\n",
              "      <th>24163</th>\n",
              "      <td>86</td>\n",
              "    </tr>\n",
              "    <tr>\n",
              "      <th>24428</th>\n",
              "      <td>71</td>\n",
              "    </tr>\n",
              "    <tr>\n",
              "      <th>24813</th>\n",
              "      <td>68</td>\n",
              "    </tr>\n",
              "    <tr>\n",
              "      <th>28746</th>\n",
              "      <td>92</td>\n",
              "    </tr>\n",
              "    <tr>\n",
              "      <th>30627</th>\n",
              "      <td>74</td>\n",
              "    </tr>\n",
              "    <tr>\n",
              "      <th>34070</th>\n",
              "      <td>66</td>\n",
              "    </tr>\n",
              "    <tr>\n",
              "      <th>34336</th>\n",
              "      <td>45</td>\n",
              "    </tr>\n",
              "    <tr>\n",
              "      <th>34615</th>\n",
              "      <td>85</td>\n",
              "    </tr>\n",
              "  </tbody>\n",
              "</table>\n",
              "<p>79 rows × 1 columns</p>\n",
              "</div>"
            ],
            "text/plain": [
              "            Num Images\n",
              "Patient ID            \n",
              "00001                1\n",
              "00002                3\n",
              "00004                2\n",
              "00005                4\n",
              "00011               14\n",
              "00012                6\n",
              "00019                5\n",
              "00023               20\n",
              "00039               11\n",
              "00044                9\n",
              "00069               47\n",
              "00080                8\n",
              "00100               10\n",
              "00128               28\n",
              "00135                7\n",
              "00140               19\n",
              "00142               12\n",
              "00146               31\n",
              "00147               15\n",
              "00178               13\n",
              "00204               21\n",
              "00235               17\n",
              "00255               16\n",
              "00310               42\n",
              "00314               36\n",
              "00426               44\n",
              "00463               26\n",
              "00467               51\n",
              "00631               46\n",
              "00693               35\n",
              "...                ...\n",
              "04462               89\n",
              "04722               30\n",
              "04929               22\n",
              "05109               54\n",
              "05702               79\n",
              "07074               41\n",
              "07632               58\n",
              "07913               52\n",
              "09530               56\n",
              "09793               73\n",
              "10105               60\n",
              "10139               67\n",
              "10238               53\n",
              "13162               72\n",
              "13181               57\n",
              "14282               77\n",
              "15058               59\n",
              "15081               48\n",
              "15258               64\n",
              "18257               50\n",
              "19317               80\n",
              "20479               75\n",
              "24163               86\n",
              "24428               71\n",
              "24813               68\n",
              "28746               92\n",
              "30627               74\n",
              "34070               66\n",
              "34336               45\n",
              "34615               85\n",
              "\n",
              "[79 rows x 1 columns]"
            ]
          },
          "metadata": {
            "tags": []
          },
          "execution_count": 25
        }
      ]
    },
    {
      "cell_type": "code",
      "metadata": {
        "id": "ksoETWM2P2nM",
        "colab_type": "code",
        "outputId": "f9475fee-f6a7-4464-b332-0254eb222bc1",
        "colab": {
          "base_uri": "https://localhost:8080/",
          "height": 301
        }
      },
      "source": [
        "f, ax = plt.subplots(1,1)\n",
        "\n",
        "sns.distplot(df_by_patient['Num Images'], kde=False, color='blue')\n",
        "#ax.set_yscale('log')\n",
        "plt.title('Number of images per patient')\n",
        "plt.show()"
      ],
      "execution_count": 0,
      "outputs": [
        {
          "output_type": "display_data",
          "data": {
            "image/png": "[encoded data removed]",
            "text/plain": [
              "<Figure size 432x288 with 1 Axes>"
            ]
          },
          "metadata": {
            "tags": []
          }
        }
      ]
    },
    {
      "cell_type": "markdown",
      "metadata": {
        "id": "K7OwYmhfB8RT",
        "colab_type": "text"
      },
      "source": [
        "### Number of studies per patient"
      ]
    },
    {
      "cell_type": "markdown",
      "metadata": {
        "id": "k5e_A9c-TLna",
        "colab_type": "text"
      },
      "source": [
        "Now we wanna know how many studies are generally done per patient, and how many images are taken per study; and what those kinds of images are."
      ]
    },
    {
      "cell_type": "code",
      "metadata": {
        "id": "tNwe4DNLRErd",
        "colab_type": "code",
        "outputId": "906aa0c1-4f4c-4b34-e883-058048de0eab",
        "colab": {
          "base_uri": "https://localhost:8080/",
          "height": 34
        }
      },
      "source": [
        "def extract_studies(url):\n",
        "  study = url.split('/')[3]\n",
        "  \n",
        "  #get rid of the 'patient'\n",
        "  studynum = study[5:]\n",
        "  \n",
        "  return int(studynum)\n",
        "  \n",
        "#testing\n",
        "print(extract_studies(filleddf.iloc[0]['Path']))"
      ],
      "execution_count": 0,
      "outputs": [
        {
          "output_type": "stream",
          "text": [
            "1\n"
          ],
          "name": "stdout"
        }
      ]
    },
    {
      "cell_type": "code",
      "metadata": {
        "id": "3cU4mAlzTk6D",
        "colab_type": "code",
        "outputId": "4dc41230-ebaf-4fc4-8d31-df1350c7bbbd",
        "colab": {
          "base_uri": "https://localhost:8080/",
          "height": 591
        }
      },
      "source": [
        "filleddf['Study Index'] = filleddf['Path'].apply(extract_studies)\n",
        "filleddf.head()"
      ],
      "execution_count": 0,
      "outputs": [
        {
          "output_type": "execute_result",
          "data": {
            "text/html": [
              "<div>\n",
              "<style scoped>\n",
              "    .dataframe tbody tr th:only-of-type {\n",
              "        vertical-align: middle;\n",
              "    }\n",
              "\n",
              "    .dataframe tbody tr th {\n",
              "        vertical-align: top;\n",
              "    }\n",
              "\n",
              "    .dataframe thead th {\n",
              "        text-align: right;\n",
              "    }\n",
              "</style>\n",
              "<table border=\"1\" class=\"dataframe\">\n",
              "  <thead>\n",
              "    <tr style=\"text-align: right;\">\n",
              "      <th></th>\n",
              "      <th>Path</th>\n",
              "      <th>Sex</th>\n",
              "      <th>Age</th>\n",
              "      <th>Frontal/Lateral</th>\n",
              "      <th>AP/PA</th>\n",
              "      <th>No Finding</th>\n",
              "      <th>Enlarged Cardiomediastinum</th>\n",
              "      <th>Cardiomegaly</th>\n",
              "      <th>Lung Opacity</th>\n",
              "      <th>Lung Lesion</th>\n",
              "      <th>Edema</th>\n",
              "      <th>Consolidation</th>\n",
              "      <th>Pneumonia</th>\n",
              "      <th>Atelectasis</th>\n",
              "      <th>Pneumothorax</th>\n",
              "      <th>Pleural Effusion</th>\n",
              "      <th>Pleural Other</th>\n",
              "      <th>Fracture</th>\n",
              "      <th>Support Devices</th>\n",
              "      <th>Num Pathologies</th>\n",
              "      <th>Patient ID</th>\n",
              "      <th>Study Index</th>\n",
              "    </tr>\n",
              "  </thead>\n",
              "  <tbody>\n",
              "    <tr>\n",
              "      <th>0</th>\n",
              "      <td>CheXpert-v1.0-small/train/patient00001/study1/...</td>\n",
              "      <td>Female</td>\n",
              "      <td>68</td>\n",
              "      <td>Frontal</td>\n",
              "      <td>AP</td>\n",
              "      <td>1</td>\n",
              "      <td>0</td>\n",
              "      <td>0</td>\n",
              "      <td>0</td>\n",
              "      <td>0</td>\n",
              "      <td>0</td>\n",
              "      <td>0</td>\n",
              "      <td>0</td>\n",
              "      <td>0</td>\n",
              "      <td>0</td>\n",
              "      <td>0</td>\n",
              "      <td>0</td>\n",
              "      <td>0</td>\n",
              "      <td>1</td>\n",
              "      <td>1.0</td>\n",
              "      <td>00001</td>\n",
              "      <td>1</td>\n",
              "    </tr>\n",
              "    <tr>\n",
              "      <th>1</th>\n",
              "      <td>CheXpert-v1.0-small/train/patient00002/study2/...</td>\n",
              "      <td>Female</td>\n",
              "      <td>87</td>\n",
              "      <td>Frontal</td>\n",
              "      <td>AP</td>\n",
              "      <td>0</td>\n",
              "      <td>0</td>\n",
              "      <td>1</td>\n",
              "      <td>1</td>\n",
              "      <td>0</td>\n",
              "      <td>1</td>\n",
              "      <td>1</td>\n",
              "      <td>0</td>\n",
              "      <td>1</td>\n",
              "      <td>0</td>\n",
              "      <td>1</td>\n",
              "      <td>0</td>\n",
              "      <td>1</td>\n",
              "      <td>0</td>\n",
              "      <td>7.0</td>\n",
              "      <td>00002</td>\n",
              "      <td>2</td>\n",
              "    </tr>\n",
              "    <tr>\n",
              "      <th>2</th>\n",
              "      <td>CheXpert-v1.0-small/train/patient00002/study1/...</td>\n",
              "      <td>Female</td>\n",
              "      <td>83</td>\n",
              "      <td>Frontal</td>\n",
              "      <td>AP</td>\n",
              "      <td>0</td>\n",
              "      <td>0</td>\n",
              "      <td>0</td>\n",
              "      <td>1</td>\n",
              "      <td>0</td>\n",
              "      <td>0</td>\n",
              "      <td>1</td>\n",
              "      <td>0</td>\n",
              "      <td>0</td>\n",
              "      <td>0</td>\n",
              "      <td>0</td>\n",
              "      <td>0</td>\n",
              "      <td>1</td>\n",
              "      <td>0</td>\n",
              "      <td>3.0</td>\n",
              "      <td>00002</td>\n",
              "      <td>1</td>\n",
              "    </tr>\n",
              "    <tr>\n",
              "      <th>3</th>\n",
              "      <td>CheXpert-v1.0-small/train/patient00002/study1/...</td>\n",
              "      <td>Female</td>\n",
              "      <td>83</td>\n",
              "      <td>Lateral</td>\n",
              "      <td>NaN</td>\n",
              "      <td>0</td>\n",
              "      <td>0</td>\n",
              "      <td>0</td>\n",
              "      <td>1</td>\n",
              "      <td>0</td>\n",
              "      <td>0</td>\n",
              "      <td>1</td>\n",
              "      <td>0</td>\n",
              "      <td>0</td>\n",
              "      <td>0</td>\n",
              "      <td>0</td>\n",
              "      <td>0</td>\n",
              "      <td>1</td>\n",
              "      <td>0</td>\n",
              "      <td>3.0</td>\n",
              "      <td>00002</td>\n",
              "      <td>1</td>\n",
              "    </tr>\n",
              "    <tr>\n",
              "      <th>4</th>\n",
              "      <td>CheXpert-v1.0-small/train/patient00003/study1/...</td>\n",
              "      <td>Male</td>\n",
              "      <td>41</td>\n",
              "      <td>Frontal</td>\n",
              "      <td>AP</td>\n",
              "      <td>0</td>\n",
              "      <td>0</td>\n",
              "      <td>0</td>\n",
              "      <td>0</td>\n",
              "      <td>0</td>\n",
              "      <td>1</td>\n",
              "      <td>0</td>\n",
              "      <td>0</td>\n",
              "      <td>0</td>\n",
              "      <td>0</td>\n",
              "      <td>0</td>\n",
              "      <td>0</td>\n",
              "      <td>0</td>\n",
              "      <td>0</td>\n",
              "      <td>1.0</td>\n",
              "      <td>00003</td>\n",
              "      <td>1</td>\n",
              "    </tr>\n",
              "  </tbody>\n",
              "</table>\n",
              "</div>"
            ],
            "text/plain": [
              "                                                Path  ... Study Index\n",
              "0  CheXpert-v1.0-small/train/patient00001/study1/...  ...           1\n",
              "1  CheXpert-v1.0-small/train/patient00002/study2/...  ...           2\n",
              "2  CheXpert-v1.0-small/train/patient00002/study1/...  ...           1\n",
              "3  CheXpert-v1.0-small/train/patient00002/study1/...  ...           1\n",
              "4  CheXpert-v1.0-small/train/patient00003/study1/...  ...           1\n",
              "\n",
              "[5 rows x 22 columns]"
            ]
          },
          "metadata": {
            "tags": []
          },
          "execution_count": 38
        }
      ]
    },
    {
      "cell_type": "code",
      "metadata": {
        "id": "lpf1PKqtTum6",
        "colab_type": "code",
        "outputId": "8b9c1ae3-1bb7-46d3-c159-6cbd1a381a18",
        "colab": {
          "base_uri": "https://localhost:8080/",
          "height": 1000
        }
      },
      "source": [
        "filleddf.groupby('Patient ID')['Study Index'].count()"
      ],
      "execution_count": 0,
      "outputs": [
        {
          "output_type": "execute_result",
          "data": {
            "text/plain": [
              "Patient ID\n",
              "00001     1\n",
              "00002     3\n",
              "00003     1\n",
              "00004     2\n",
              "00005     4\n",
              "00006     1\n",
              "00007     2\n",
              "00008     2\n",
              "00009     2\n",
              "00010     2\n",
              "00011    14\n",
              "00012     6\n",
              "00013     2\n",
              "00014     2\n",
              "00015     2\n",
              "00016     2\n",
              "00017     2\n",
              "00018     2\n",
              "00019     5\n",
              "00020     1\n",
              "00021     1\n",
              "00022     3\n",
              "00023    20\n",
              "00024     3\n",
              "00025     4\n",
              "00026     2\n",
              "00027     2\n",
              "00028     2\n",
              "00029     1\n",
              "00030     1\n",
              "         ..\n",
              "64511     1\n",
              "64512     1\n",
              "64513     1\n",
              "64514     1\n",
              "64515     1\n",
              "64516     1\n",
              "64517     1\n",
              "64518     1\n",
              "64519     1\n",
              "64520     1\n",
              "64521     1\n",
              "64522     1\n",
              "64523     1\n",
              "64524     1\n",
              "64525     1\n",
              "64526     1\n",
              "64527     2\n",
              "64528     1\n",
              "64529     1\n",
              "64530     1\n",
              "64531     1\n",
              "64532     1\n",
              "64533     2\n",
              "64534     1\n",
              "64535     1\n",
              "64536     2\n",
              "64537     2\n",
              "64538     1\n",
              "64539     1\n",
              "64540     1\n",
              "Name: Study Index, Length: 64540, dtype: int64"
            ]
          },
          "metadata": {
            "tags": []
          },
          "execution_count": 39
        }
      ]
    },
    {
      "cell_type": "markdown",
      "metadata": {
        "id": "Lt6AmwflXDU6",
        "colab_type": "text"
      },
      "source": [
        "The maximum study number is assumed to be equivalent to the number of studies."
      ]
    },
    {
      "cell_type": "code",
      "metadata": {
        "id": "ipcsiJ4GT2fz",
        "colab_type": "code",
        "colab": {}
      },
      "source": [
        "df_by_patient['Num Studies'] = filleddf.groupby('Patient ID')['Study Index'].max()\n"
      ],
      "execution_count": 0,
      "outputs": []
    },
    {
      "cell_type": "code",
      "metadata": {
        "id": "rGTUgCo2Vtqa",
        "colab_type": "code",
        "outputId": "81215239-8c18-4966-b685-bffbb1441018",
        "colab": {
          "base_uri": "https://localhost:8080/",
          "height": 237
        }
      },
      "source": [
        "df_by_patient.head()"
      ],
      "execution_count": 0,
      "outputs": [
        {
          "output_type": "execute_result",
          "data": {
            "text/html": [
              "<div>\n",
              "<style scoped>\n",
              "    .dataframe tbody tr th:only-of-type {\n",
              "        vertical-align: middle;\n",
              "    }\n",
              "\n",
              "    .dataframe tbody tr th {\n",
              "        vertical-align: top;\n",
              "    }\n",
              "\n",
              "    .dataframe thead th {\n",
              "        text-align: right;\n",
              "    }\n",
              "</style>\n",
              "<table border=\"1\" class=\"dataframe\">\n",
              "  <thead>\n",
              "    <tr style=\"text-align: right;\">\n",
              "      <th></th>\n",
              "      <th>Num Images</th>\n",
              "      <th>Num Studies</th>\n",
              "    </tr>\n",
              "    <tr>\n",
              "      <th>Patient ID</th>\n",
              "      <th></th>\n",
              "      <th></th>\n",
              "    </tr>\n",
              "  </thead>\n",
              "  <tbody>\n",
              "    <tr>\n",
              "      <th>00001</th>\n",
              "      <td>1</td>\n",
              "      <td>1</td>\n",
              "    </tr>\n",
              "    <tr>\n",
              "      <th>00002</th>\n",
              "      <td>3</td>\n",
              "      <td>2</td>\n",
              "    </tr>\n",
              "    <tr>\n",
              "      <th>00004</th>\n",
              "      <td>2</td>\n",
              "      <td>1</td>\n",
              "    </tr>\n",
              "    <tr>\n",
              "      <th>00005</th>\n",
              "      <td>4</td>\n",
              "      <td>2</td>\n",
              "    </tr>\n",
              "    <tr>\n",
              "      <th>00011</th>\n",
              "      <td>14</td>\n",
              "      <td>13</td>\n",
              "    </tr>\n",
              "  </tbody>\n",
              "</table>\n",
              "</div>"
            ],
            "text/plain": [
              "            Num Images  Num Studies\n",
              "Patient ID                         \n",
              "00001                1            1\n",
              "00002                3            2\n",
              "00004                2            1\n",
              "00005                4            2\n",
              "00011               14           13"
            ]
          },
          "metadata": {
            "tags": []
          },
          "execution_count": 41
        }
      ]
    },
    {
      "cell_type": "code",
      "metadata": {
        "id": "mrq_XXlyVvr9",
        "colab_type": "code",
        "outputId": "d6aeb802-0e07-419e-ef4f-1edce1b164bf",
        "colab": {
          "base_uri": "https://localhost:8080/",
          "height": 1000
        }
      },
      "source": [
        "num_images_per_study = filleddf.groupby(['Patient ID', 'Study Index']).size()\n",
        "\n",
        "display(num_images_per_study)"
      ],
      "execution_count": 0,
      "outputs": [
        {
          "output_type": "display_data",
          "data": {
            "text/plain": [
              "Patient ID  Study Index\n",
              "00001       1              1\n",
              "00002       1              2\n",
              "            2              1\n",
              "00003       1              1\n",
              "00004       1              2\n",
              "00005       1              2\n",
              "            2              2\n",
              "00006       1              1\n",
              "00007       1              1\n",
              "            2              1\n",
              "00008       1              1\n",
              "            2              1\n",
              "00009       1              2\n",
              "00010       1              2\n",
              "00011       1              1\n",
              "            2              1\n",
              "            3              1\n",
              "            4              1\n",
              "            5              1\n",
              "            6              1\n",
              "            7              1\n",
              "            8              1\n",
              "            9              1\n",
              "            10             1\n",
              "            11             1\n",
              "            12             1\n",
              "            13             2\n",
              "00012       1              2\n",
              "            2              2\n",
              "            3              2\n",
              "                          ..\n",
              "64515       1              1\n",
              "64516       1              1\n",
              "64517       1              1\n",
              "64518       1              1\n",
              "64519       1              1\n",
              "64520       1              1\n",
              "64521       1              1\n",
              "64522       1              1\n",
              "64523       1              1\n",
              "64524       1              1\n",
              "64525       1              1\n",
              "64526       1              1\n",
              "64527       1              1\n",
              "            2              1\n",
              "64528       1              1\n",
              "64529       1              1\n",
              "64530       1              1\n",
              "64531       1              1\n",
              "64532       1              1\n",
              "64533       1              1\n",
              "            2              1\n",
              "64534       1              1\n",
              "64535       1              1\n",
              "64536       1              1\n",
              "            2              1\n",
              "64537       1              1\n",
              "            2              1\n",
              "64538       1              1\n",
              "64539       1              1\n",
              "64540       1              1\n",
              "Length: 187641, dtype: int64"
            ]
          },
          "metadata": {
            "tags": []
          }
        }
      ]
    },
    {
      "cell_type": "markdown",
      "metadata": {
        "id": "vQdixtVBCA1h",
        "colab_type": "text"
      },
      "source": [
        "### Number of images per study"
      ]
    },
    {
      "cell_type": "code",
      "metadata": {
        "id": "und_FtYKX2UM",
        "colab_type": "code",
        "outputId": "16ad3fa8-935a-4283-adcb-072ee4f07e81",
        "colab": {
          "base_uri": "https://localhost:8080/",
          "height": 284
        }
      },
      "source": [
        "\n",
        "sns.distplot(num_images_per_study.values, kde=False, bins=3, color = 'orange')\n",
        "plt.title('Number of images per study')\n",
        "plt.show()"
      ],
      "execution_count": 0,
      "outputs": [
        {
          "output_type": "display_data",
          "data": {
            "image/png": "[encoded data removed]",
            "text/plain": [
              "<Figure size 432x288 with 1 Axes>"
            ]
          },
          "metadata": {
            "tags": []
          }
        }
      ]
    },
    {
      "cell_type": "code",
      "metadata": {
        "id": "mfD56vbfazpK",
        "colab_type": "code",
        "outputId": "f3a9569a-e93f-465c-cab8-ca94749f421d",
        "colab": {
          "base_uri": "https://localhost:8080/",
          "height": 1000
        }
      },
      "source": [
        "filleddf['Study Index'] = filleddf['Path'].apply(extract_studies)\n",
        "\n",
        "num_studies_total = filleddf.groupby('Patient ID')['Study Index'].max()\n",
        "display(num_studies_total)"
      ],
      "execution_count": 0,
      "outputs": [
        {
          "output_type": "display_data",
          "data": {
            "text/plain": [
              "Patient ID\n",
              "00001     1\n",
              "00002     2\n",
              "00003     1\n",
              "00004     1\n",
              "00005     2\n",
              "00006     1\n",
              "00007     2\n",
              "00008     2\n",
              "00009     1\n",
              "00010     1\n",
              "00011    13\n",
              "00012     3\n",
              "00013     1\n",
              "00014     1\n",
              "00015     2\n",
              "00016     1\n",
              "00017     2\n",
              "00018     1\n",
              "00019     4\n",
              "00020     1\n",
              "00021     1\n",
              "00022     2\n",
              "00023    11\n",
              "00024     2\n",
              "00025     2\n",
              "00026     1\n",
              "00027     1\n",
              "00028     2\n",
              "00029     1\n",
              "00030     1\n",
              "         ..\n",
              "64511     1\n",
              "64512     1\n",
              "64513     1\n",
              "64514     1\n",
              "64515     1\n",
              "64516     1\n",
              "64517     1\n",
              "64518     1\n",
              "64519     1\n",
              "64520     1\n",
              "64521     1\n",
              "64522     1\n",
              "64523     1\n",
              "64524     1\n",
              "64525     1\n",
              "64526     1\n",
              "64527     2\n",
              "64528     1\n",
              "64529     1\n",
              "64530     1\n",
              "64531     1\n",
              "64532     1\n",
              "64533     2\n",
              "64534     1\n",
              "64535     1\n",
              "64536     2\n",
              "64537     2\n",
              "64538     1\n",
              "64539     1\n",
              "64540     1\n",
              "Name: Study Index, Length: 64540, dtype: int64"
            ]
          },
          "metadata": {
            "tags": []
          }
        }
      ]
    },
    {
      "cell_type": "code",
      "metadata": {
        "id": "l5LOWod4brjz",
        "colab_type": "code",
        "outputId": "682bfbfb-1073-467d-ed29-d3d8e2ca25ca",
        "colab": {
          "base_uri": "https://localhost:8080/",
          "height": 173
        }
      },
      "source": [
        "num_studies_total.describe()"
      ],
      "execution_count": 0,
      "outputs": [
        {
          "output_type": "execute_result",
          "data": {
            "text/plain": [
              "count    64540.000000\n",
              "mean         2.907360\n",
              "std          4.189741\n",
              "min          1.000000\n",
              "25%          1.000000\n",
              "50%          1.000000\n",
              "75%          3.000000\n",
              "max         91.000000\n",
              "Name: Study Index, dtype: float64"
            ]
          },
          "metadata": {
            "tags": []
          },
          "execution_count": 45
        }
      ]
    },
    {
      "cell_type": "code",
      "metadata": {
        "id": "QkyPJap6YFsQ",
        "colab_type": "code",
        "outputId": "ebf033dc-f42c-40e8-92f2-bec4d4912b22",
        "colab": {
          "base_uri": "https://localhost:8080/",
          "height": 284
        }
      },
      "source": [
        "f, ax = plt.subplots(1,1)\n",
        "\n",
        "sns.distplot(num_studies_total.values, kde=False, color='green')\n",
        "#ax.set_yscale('log')\n",
        "plt.title('Number of studies per patient')\n",
        "plt.show()"
      ],
      "execution_count": 0,
      "outputs": [
        {
          "output_type": "display_data",
          "data": {
            "image/png": "[encoded data removed]",
            "text/plain": [
              "<Figure size 432x288 with 1 Axes>"
            ]
          },
          "metadata": {
            "tags": []
          }
        }
      ]
    },
    {
      "cell_type": "code",
      "metadata": {
        "id": "BFTi5sJHaY0T",
        "colab_type": "code",
        "outputId": "751cbe35-6208-4dce-fff9-8b8b0960475c",
        "colab": {
          "base_uri": "https://localhost:8080/",
          "height": 121
        }
      },
      "source": [
        "import numpy as np\n",
        "\n",
        "np.sort( filleddf['Study Index'].unique())\n"
      ],
      "execution_count": 0,
      "outputs": [
        {
          "output_type": "execute_result",
          "data": {
            "text/plain": [
              "array([ 1,  2,  3,  4,  5,  6,  7,  8,  9, 10, 11, 12, 13, 14, 15, 16, 17,\n",
              "       18, 19, 20, 21, 22, 23, 24, 25, 26, 27, 28, 29, 30, 31, 32, 33, 34,\n",
              "       35, 36, 37, 38, 39, 40, 41, 42, 43, 44, 45, 46, 47, 48, 49, 50, 51,\n",
              "       52, 53, 54, 55, 56, 57, 58, 59, 60, 61, 62, 63, 64, 65, 66, 67, 68,\n",
              "       69, 70, 71, 72, 73, 74, 75, 76, 77, 78, 79, 80, 81, 82, 83, 84, 85,\n",
              "       86, 87, 88, 89, 90, 91])"
            ]
          },
          "metadata": {
            "tags": []
          },
          "execution_count": 47
        }
      ]
    },
    {
      "cell_type": "code",
      "metadata": {
        "id": "0llYQWY4c07k",
        "colab_type": "code",
        "outputId": "e09583dc-1183-433b-e023-aba722d2b174",
        "colab": {
          "base_uri": "https://localhost:8080/",
          "height": 284
        }
      },
      "source": [
        "f, ax = plt.subplots(1,1)\n",
        "\n",
        "sns.distplot(num_studies_total.values, kde=False, color='green')\n",
        "ax.set_yscale('log')\n",
        "plt.title('Number of studies per patient')\n",
        "plt.show()"
      ],
      "execution_count": 0,
      "outputs": [
        {
          "output_type": "display_data",
          "data": {
            "image/png": "[encoded data removed]",
            "text/plain": [
              "<Figure size 432x288 with 1 Axes>"
            ]
          },
          "metadata": {
            "tags": []
          }
        }
      ]
    },
    {
      "cell_type": "markdown",
      "metadata": {
        "id": "hh8W6VuFCIpx",
        "colab_type": "text"
      },
      "source": [
        "### Faster way of doing number of studies per patient"
      ]
    },
    {
      "cell_type": "markdown",
      "metadata": {
        "id": "bJ7G8_6Le03Q",
        "colab_type": "text"
      },
      "source": [
        "The below is actually a way faster version of this"
      ]
    },
    {
      "cell_type": "code",
      "metadata": {
        "id": "-7-9g9D4ehvM",
        "colab_type": "code",
        "outputId": "e094019b-34a8-4cf5-eac2-47520b59c8e4",
        "colab": {
          "base_uri": "https://localhost:8080/",
          "height": 208
        }
      },
      "source": [
        "num_studies_count = filleddf.groupby('Study Index')['Patient ID'].count()\n",
        "display(num_studies_count.values)"
      ],
      "execution_count": 0,
      "outputs": [
        {
          "output_type": "display_data",
          "data": {
            "text/plain": [
              "array([82203, 36501, 22924, 15978, 11746,  8789,  6874,  5517,  4521,\n",
              "        3719,  3095,  2603,  2195,  1883,  1627,  1408,  1226,  1063,\n",
              "         929,   825,   725,   652,   588,   503,   474,   421,   382,\n",
              "         345,   310,   288,   256,   231,   195,   176,   166,   152,\n",
              "         140,   136,   118,   109,    99,    92,    97,    90,    94,\n",
              "          79,    67,    66,    54,    46,    45,    43,    39,    37,\n",
              "          34,    36,    33,    31,    30,    26,    24,    23,    20,\n",
              "          21,    18,    15,    15,    14,    13,    13,    13,    11,\n",
              "          11,    11,    10,    10,     6,     3,     3,     3,     3,\n",
              "           3,     3,     3,     3,     3,     2,     2,     2,     1,\n",
              "           1])"
            ]
          },
          "metadata": {
            "tags": []
          }
        }
      ]
    },
    {
      "cell_type": "markdown",
      "metadata": {
        "id": "PX6OeE-Pfwei",
        "colab_type": "text"
      },
      "source": [
        "Although actually that double counts everything, because someone with 91 studies also has a '1' study and a '2' study, etc."
      ]
    },
    {
      "cell_type": "code",
      "metadata": {
        "id": "uXFzk_Wse8ap",
        "colab_type": "code",
        "outputId": "4d2bd599-bb48-4dc5-d165-383e3cb37225",
        "colab": {
          "base_uri": "https://localhost:8080/",
          "height": 208
        }
      },
      "source": [
        "def correct_counts(a):\n",
        "  for i in range(len(a) - 1):\n",
        "    a[i] = a[i] - a[i + 1]\n",
        "  return a\n",
        "\n",
        "corrected_studies = correct_counts(num_studies_count.values)\n",
        "display(corrected_studies)"
      ],
      "execution_count": 0,
      "outputs": [
        {
          "output_type": "display_data",
          "data": {
            "text/plain": [
              "array([32125,  6631,  2714,  1275,  1042,   558,   361,   194,   178,\n",
              "         132,    84,    96,    56,    37,    37,    19,    29,    30,\n",
              "           4,    27,     9,   -21,    56,   -24,    14,     2,     2,\n",
              "          13,   -10,     7,   -11,    17,     9,    -4,     2,     8,\n",
              "         -14,     9,    -1,     3,    12,   -12,    11,   -19,     3,\n",
              "          11,   -11,     4,     7,    -1,    -2,     2,    -1,     5,\n",
              "          -5,     1,     1,    -3,     2,     1,    -2,     4,    -4,\n",
              "           0,     3,    -1,     0,     1,     0,    -2,     2,     0,\n",
              "          -1,     1,    -4,     1,     3,     0,     0,     0,     0,\n",
              "           0,     0,     0,    -1,     1,     0,    -1,     1,    -1,\n",
              "           1])"
            ]
          },
          "metadata": {
            "tags": []
          }
        }
      ]
    },
    {
      "cell_type": "code",
      "metadata": {
        "id": "qktR-fSYgx-9",
        "colab_type": "code",
        "outputId": "6cb5957d-811a-4143-9e17-d63f2ed6a6a9",
        "colab": {
          "base_uri": "https://localhost:8080/",
          "height": 291
        }
      },
      "source": [
        "plt.bar(\n",
        "    x=range(91), \n",
        "    height= corrected_studies,\n",
        "    width = 1)\n",
        "#plt.ylim([-5,10])\n",
        "plt.xlabel(\"Number of studies\")\n",
        "plt.ylabel(\"Count\")\n",
        "plt.show()"
      ],
      "execution_count": 0,
      "outputs": [
        {
          "output_type": "display_data",
          "data": {
            "image/png": "[encoded data removed]",
            "text/plain": [
              "<Figure size 432x288 with 1 Axes>"
            ]
          },
          "metadata": {
            "tags": []
          }
        }
      ]
    },
    {
      "cell_type": "markdown",
      "metadata": {
        "id": "cFzVQ3FYFq3E",
        "colab_type": "text"
      },
      "source": [
        "So this plot is showing us the number of studies one person is involved in."
      ]
    },
    {
      "cell_type": "markdown",
      "metadata": {
        "id": "SlMEGnd-EoxU",
        "colab_type": "text"
      },
      "source": [
        "Number of unique patients"
      ]
    },
    {
      "cell_type": "code",
      "metadata": {
        "id": "CH2AGSvzlH7m",
        "colab_type": "code",
        "outputId": "e15b958d-3c81-4640-e72f-392f93ce247e",
        "colab": {
          "base_uri": "https://localhost:8080/",
          "height": 34
        }
      },
      "source": [
        "filleddf['Patient ID'].unique().size"
      ],
      "execution_count": 0,
      "outputs": [
        {
          "output_type": "execute_result",
          "data": {
            "text/plain": [
              "64540"
            ]
          },
          "metadata": {
            "tags": []
          },
          "execution_count": 71
        }
      ]
    },
    {
      "cell_type": "markdown",
      "metadata": {
        "id": "3hmFbp_fFxZK",
        "colab_type": "text"
      },
      "source": [
        "There are 64540 unique patients, based on ID numbers (confirmed based on what we expect from the dataset). About half of those patients were in just one study. Many had 2 studies, and a few people participated in more than 80 studies.\n"
      ]
    },
    {
      "cell_type": "markdown",
      "metadata": {
        "id": "v1gcQ3BPF2IQ",
        "colab_type": "text"
      },
      "source": [
        "Counting the number of patient IDs when grouped by study number, we get:\n",
        "array([82203, 36501, etc])\n",
        "Which implies that there are 82203 ‘study 1’ folders… however, there are only 64000ish unique patients, so there must be some patients with multiple ‘study 1’ folders? Or something else happened.\n",
        "OK nevermind it's because this counted the number of images total per study, and some studies had more than one image (more than one dataset entry)"
      ]
    },
    {
      "cell_type": "markdown",
      "metadata": {
        "id": "8UOGYs8TGiRR",
        "colab_type": "text"
      },
      "source": [
        "## Filter out patients involved in too many studies"
      ]
    },
    {
      "cell_type": "markdown",
      "metadata": {
        "id": "a3HaJtmsGmEi",
        "colab_type": "text"
      },
      "source": [
        "We are thinking that people who are involved in lots of studies are sicker, so we will remove patients in the top 5% of number of studies."
      ]
    },
    {
      "cell_type": "code",
      "metadata": {
        "id": "EQdXJ9JhEt18",
        "colab_type": "code",
        "outputId": "ca117b33-87e3-498c-9fc2-ccaa02942c17",
        "colab": {
          "base_uri": "https://localhost:8080/",
          "height": 591
        }
      },
      "source": [
        "smalldf = filleddf.copy()\n",
        "\n",
        "smalldf.head()"
      ],
      "execution_count": 0,
      "outputs": [
        {
          "output_type": "execute_result",
          "data": {
            "text/html": [
              "<div>\n",
              "<style scoped>\n",
              "    .dataframe tbody tr th:only-of-type {\n",
              "        vertical-align: middle;\n",
              "    }\n",
              "\n",
              "    .dataframe tbody tr th {\n",
              "        vertical-align: top;\n",
              "    }\n",
              "\n",
              "    .dataframe thead th {\n",
              "        text-align: right;\n",
              "    }\n",
              "</style>\n",
              "<table border=\"1\" class=\"dataframe\">\n",
              "  <thead>\n",
              "    <tr style=\"text-align: right;\">\n",
              "      <th></th>\n",
              "      <th>Path</th>\n",
              "      <th>Sex</th>\n",
              "      <th>Age</th>\n",
              "      <th>Frontal/Lateral</th>\n",
              "      <th>AP/PA</th>\n",
              "      <th>No Finding</th>\n",
              "      <th>Enlarged Cardiomediastinum</th>\n",
              "      <th>Cardiomegaly</th>\n",
              "      <th>Lung Opacity</th>\n",
              "      <th>Lung Lesion</th>\n",
              "      <th>Edema</th>\n",
              "      <th>Consolidation</th>\n",
              "      <th>Pneumonia</th>\n",
              "      <th>Atelectasis</th>\n",
              "      <th>Pneumothorax</th>\n",
              "      <th>Pleural Effusion</th>\n",
              "      <th>Pleural Other</th>\n",
              "      <th>Fracture</th>\n",
              "      <th>Support Devices</th>\n",
              "      <th>Num Pathologies</th>\n",
              "      <th>Patient ID</th>\n",
              "      <th>Study Index</th>\n",
              "    </tr>\n",
              "  </thead>\n",
              "  <tbody>\n",
              "    <tr>\n",
              "      <th>0</th>\n",
              "      <td>CheXpert-v1.0-small/train/patient00001/study1/...</td>\n",
              "      <td>Female</td>\n",
              "      <td>68</td>\n",
              "      <td>Frontal</td>\n",
              "      <td>AP</td>\n",
              "      <td>1</td>\n",
              "      <td>0</td>\n",
              "      <td>0</td>\n",
              "      <td>0</td>\n",
              "      <td>0</td>\n",
              "      <td>0</td>\n",
              "      <td>0</td>\n",
              "      <td>0</td>\n",
              "      <td>0</td>\n",
              "      <td>0</td>\n",
              "      <td>0</td>\n",
              "      <td>0</td>\n",
              "      <td>0</td>\n",
              "      <td>1</td>\n",
              "      <td>1.0</td>\n",
              "      <td>00001</td>\n",
              "      <td>1</td>\n",
              "    </tr>\n",
              "    <tr>\n",
              "      <th>1</th>\n",
              "      <td>CheXpert-v1.0-small/train/patient00002/study2/...</td>\n",
              "      <td>Female</td>\n",
              "      <td>87</td>\n",
              "      <td>Frontal</td>\n",
              "      <td>AP</td>\n",
              "      <td>0</td>\n",
              "      <td>0</td>\n",
              "      <td>1</td>\n",
              "      <td>1</td>\n",
              "      <td>0</td>\n",
              "      <td>1</td>\n",
              "      <td>1</td>\n",
              "      <td>0</td>\n",
              "      <td>1</td>\n",
              "      <td>0</td>\n",
              "      <td>1</td>\n",
              "      <td>0</td>\n",
              "      <td>1</td>\n",
              "      <td>0</td>\n",
              "      <td>7.0</td>\n",
              "      <td>00002</td>\n",
              "      <td>2</td>\n",
              "    </tr>\n",
              "    <tr>\n",
              "      <th>2</th>\n",
              "      <td>CheXpert-v1.0-small/train/patient00002/study1/...</td>\n",
              "      <td>Female</td>\n",
              "      <td>83</td>\n",
              "      <td>Frontal</td>\n",
              "      <td>AP</td>\n",
              "      <td>0</td>\n",
              "      <td>0</td>\n",
              "      <td>0</td>\n",
              "      <td>1</td>\n",
              "      <td>0</td>\n",
              "      <td>0</td>\n",
              "      <td>1</td>\n",
              "      <td>0</td>\n",
              "      <td>0</td>\n",
              "      <td>0</td>\n",
              "      <td>0</td>\n",
              "      <td>0</td>\n",
              "      <td>1</td>\n",
              "      <td>0</td>\n",
              "      <td>3.0</td>\n",
              "      <td>00002</td>\n",
              "      <td>1</td>\n",
              "    </tr>\n",
              "    <tr>\n",
              "      <th>3</th>\n",
              "      <td>CheXpert-v1.0-small/train/patient00002/study1/...</td>\n",
              "      <td>Female</td>\n",
              "      <td>83</td>\n",
              "      <td>Lateral</td>\n",
              "      <td>NaN</td>\n",
              "      <td>0</td>\n",
              "      <td>0</td>\n",
              "      <td>0</td>\n",
              "      <td>1</td>\n",
              "      <td>0</td>\n",
              "      <td>0</td>\n",
              "      <td>1</td>\n",
              "      <td>0</td>\n",
              "      <td>0</td>\n",
              "      <td>0</td>\n",
              "      <td>0</td>\n",
              "      <td>0</td>\n",
              "      <td>1</td>\n",
              "      <td>0</td>\n",
              "      <td>3.0</td>\n",
              "      <td>00002</td>\n",
              "      <td>1</td>\n",
              "    </tr>\n",
              "    <tr>\n",
              "      <th>4</th>\n",
              "      <td>CheXpert-v1.0-small/train/patient00003/study1/...</td>\n",
              "      <td>Male</td>\n",
              "      <td>41</td>\n",
              "      <td>Frontal</td>\n",
              "      <td>AP</td>\n",
              "      <td>0</td>\n",
              "      <td>0</td>\n",
              "      <td>0</td>\n",
              "      <td>0</td>\n",
              "      <td>0</td>\n",
              "      <td>1</td>\n",
              "      <td>0</td>\n",
              "      <td>0</td>\n",
              "      <td>0</td>\n",
              "      <td>0</td>\n",
              "      <td>0</td>\n",
              "      <td>0</td>\n",
              "      <td>0</td>\n",
              "      <td>0</td>\n",
              "      <td>1.0</td>\n",
              "      <td>00003</td>\n",
              "      <td>1</td>\n",
              "    </tr>\n",
              "  </tbody>\n",
              "</table>\n",
              "</div>"
            ],
            "text/plain": [
              "                                                Path  ... Study Index\n",
              "0  CheXpert-v1.0-small/train/patient00001/study1/...  ...           1\n",
              "1  CheXpert-v1.0-small/train/patient00002/study2/...  ...           2\n",
              "2  CheXpert-v1.0-small/train/patient00002/study1/...  ...           1\n",
              "3  CheXpert-v1.0-small/train/patient00002/study1/...  ...           1\n",
              "4  CheXpert-v1.0-small/train/patient00003/study1/...  ...           1\n",
              "\n",
              "[5 rows x 22 columns]"
            ]
          },
          "metadata": {
            "tags": []
          },
          "execution_count": 73
        }
      ]
    },
    {
      "cell_type": "code",
      "metadata": {
        "id": "_9pc_WX-HOGu",
        "colab_type": "code",
        "colab": {}
      },
      "source": [
        "num_studies_total = smalldf.groupby('Patient ID')['Study Index'].max()"
      ],
      "execution_count": 0,
      "outputs": []
    },
    {
      "cell_type": "code",
      "metadata": {
        "id": "hgh_zsv9Hxja",
        "colab_type": "code",
        "outputId": "ce3901e1-8eef-418d-e37e-adb0d796bd50",
        "colab": {
          "base_uri": "https://localhost:8080/",
          "height": 173
        }
      },
      "source": [
        "num_studies_total.describe()"
      ],
      "execution_count": 0,
      "outputs": [
        {
          "output_type": "execute_result",
          "data": {
            "text/plain": [
              "count    64540.000000\n",
              "mean         2.907360\n",
              "std          4.189741\n",
              "min          1.000000\n",
              "25%          1.000000\n",
              "50%          1.000000\n",
              "75%          3.000000\n",
              "max         91.000000\n",
              "Name: Study Index, dtype: float64"
            ]
          },
          "metadata": {
            "tags": []
          },
          "execution_count": 75
        }
      ]
    },
    {
      "cell_type": "code",
      "metadata": {
        "id": "obIKmGzdHg4X",
        "colab_type": "code",
        "outputId": "c6ac1cd3-1636-4a4a-956f-d8dd38d9633c",
        "colab": {
          "base_uri": "https://localhost:8080/",
          "height": 34
        }
      },
      "source": [
        "np.percentile(num_studies_total, 75)"
      ],
      "execution_count": 0,
      "outputs": [
        {
          "output_type": "execute_result",
          "data": {
            "text/plain": [
              "3.0"
            ]
          },
          "metadata": {
            "tags": []
          },
          "execution_count": 76
        }
      ]
    },
    {
      "cell_type": "code",
      "metadata": {
        "id": "6gjNPVbrH2RW",
        "colab_type": "code",
        "outputId": "06e1695f-46ed-4b60-c5b7-a1c8bcc43142",
        "colab": {
          "base_uri": "https://localhost:8080/",
          "height": 34
        }
      },
      "source": [
        "np.percentile(num_studies_total, 95)"
      ],
      "execution_count": 0,
      "outputs": [
        {
          "output_type": "execute_result",
          "data": {
            "text/plain": [
              "10.0"
            ]
          },
          "metadata": {
            "tags": []
          },
          "execution_count": 77
        }
      ]
    },
    {
      "cell_type": "markdown",
      "metadata": {
        "id": "SyM78nt_H6VH",
        "colab_type": "text"
      },
      "source": [
        "Nice, the 95th percentile for the number of studies is 10 studies, which is a nice even number too. \n",
        "\n"
      ]
    },
    {
      "cell_type": "code",
      "metadata": {
        "id": "8hZsc39ZIwZl",
        "colab_type": "code",
        "outputId": "17647bba-da2c-42a3-ba97-989f5fc75400",
        "colab": {
          "base_uri": "https://localhost:8080/",
          "height": 34
        }
      },
      "source": [
        "np.percentile(num_studies_total, 99)"
      ],
      "execution_count": 0,
      "outputs": [
        {
          "output_type": "execute_result",
          "data": {
            "text/plain": [
              "20.0"
            ]
          },
          "metadata": {
            "tags": []
          },
          "execution_count": 79
        }
      ]
    },
    {
      "cell_type": "markdown",
      "metadata": {
        "id": "o_S6zCJLIv-A",
        "colab_type": "text"
      },
      "source": [
        "The top 1% participated in 20 studies.\n",
        "\n",
        "\n",
        "Now we have to figure out which patients are involved in more than 20 studies and remove those patients."
      ]
    },
    {
      "cell_type": "markdown",
      "metadata": {
        "id": "Whp9k3ZrTLQM",
        "colab_type": "text"
      },
      "source": [
        "We could make a list of all the patient IDs of people with a study index of 20 or more."
      ]
    },
    {
      "cell_type": "code",
      "metadata": {
        "id": "Xryar4IZH5SD",
        "colab_type": "code",
        "colab": {}
      },
      "source": [
        "manystudies = smalldf[ smalldf['Study Index'] >= 20 ]"
      ],
      "execution_count": 0,
      "outputs": []
    },
    {
      "cell_type": "markdown",
      "metadata": {
        "id": "LFp2Re7eUHLN",
        "colab_type": "text"
      },
      "source": [
        "'manystudies' now contains all of the studies that are greater than 20 - so we scrape for the user ID numbers."
      ]
    },
    {
      "cell_type": "code",
      "metadata": {
        "id": "xH8qhfGFT8Vk",
        "colab_type": "code",
        "outputId": "15beee14-8f5e-4460-91c2-50cd059d9f58",
        "colab": {
          "base_uri": "https://localhost:8080/",
          "height": 1000
        }
      },
      "source": [
        "ids_to_remove = manystudies['Patient ID'].unique()\n",
        "ids_to_remove"
      ],
      "execution_count": 0,
      "outputs": [
        {
          "output_type": "execute_result",
          "data": {
            "text/plain": [
              "array(['00069', '00114', '00128', '00146', '00294', '00310', '00314',\n",
              "       '00326', '00426', '00463', '00467', '00631', '00693', '00703',\n",
              "       '00750', '00826', '00877', '00888', '01051', '01071', '01141',\n",
              "       '01167', '01221', '01457', '01489', '01545', '01595', '01671',\n",
              "       '01772', '01817', '01844', '01873', '02001', '02009', '02013',\n",
              "       '02080', '02146', '02153', '02377', '02378', '02382', '02476',\n",
              "       '02533', '02662', '02847', '02936', '03027', '03107', '03122',\n",
              "       '03281', '03428', '03452', '03532', '03629', '03685', '03763',\n",
              "       '03781', '04050', '04064', '04083', '04091', '04102', '04135',\n",
              "       '04366', '04427', '04462', '04468', '04654', '04722', '04774',\n",
              "       '04817', '04881', '04929', '04998', '05068', '05109', '05165',\n",
              "       '05179', '05189', '05232', '05702', '05735', '05745', '05804',\n",
              "       '06028', '06057', '06081', '06166', '06236', '06309', '06338',\n",
              "       '06395', '06449', '06458', '06464', '06516', '06578', '06591',\n",
              "       '06655', '06819', '06964', '07023', '07035', '07046', '07060',\n",
              "       '07061', '07067', '07074', '07081', '07084', '07101', '07379',\n",
              "       '07410', '07488', '07632', '07763', '07913', '07932', '07978',\n",
              "       '07979', '08056', '08086', '08096', '08112', '08173', '08220',\n",
              "       '08294', '08318', '08455', '08517', '08549', '08740', '08785',\n",
              "       '08853', '09052', '09193', '09271', '09354', '09443', '09530',\n",
              "       '09579', '09649', '09793', '09903', '09961', '09981', '10012',\n",
              "       '10074', '10105', '10139', '10140', '10182', '10238', '10282',\n",
              "       '10368', '10511', '10527', '10626', '10648', '10727', '10734',\n",
              "       '10751', '10884', '10900', '10907', '10970', '11019', '11111',\n",
              "       '11120', '11139', '11186', '11242', '11258', '11270', '11279',\n",
              "       '11302', '11318', '11346', '11447', '11477', '11485', '11490',\n",
              "       '11582', '11645', '11660', '11665', '11710', '11723', '11751',\n",
              "       '11806', '11828', '11979', '12096', '12304', '12349', '12526',\n",
              "       '12556', '12709', '12713', '12753', '12809', '12961', '12963',\n",
              "       '13011', '13017', '13162', '13181', '13202', '13309', '13530',\n",
              "       '13570', '13716', '13731', '13740', '13849', '13874', '13887',\n",
              "       '13903', '14030', '14045', '14282', '14301', '14351', '14357',\n",
              "       '14487', '14527', '14588', '14630', '14635', '14637', '14739',\n",
              "       '14748', '14785', '14807', '14892', '14979', '15058', '15081',\n",
              "       '15123', '15159', '15202', '15218', '15258', '15293', '15383',\n",
              "       '15426', '15482', '15496', '15558', '15614', '15644', '15724',\n",
              "       '15757', '15801', '15810', '16006', '16023', '16034', '16081',\n",
              "       '16133', '16196', '16206', '16209', '16398', '16418', '16440',\n",
              "       '16464', '16523', '16529', '16626', '16660', '16868', '16921',\n",
              "       '17051', '17111', '17193', '17214', '17349', '17382', '17451',\n",
              "       '17642', '17681', '17735', '17745', '18001', '18002', '18042',\n",
              "       '18080', '18186', '18257', '18283', '18320', '18357', '18366',\n",
              "       '18470', '18599', '18670', '18756', '18763', '18823', '18824',\n",
              "       '18892', '18988', '18997', '19317', '19343', '19392', '19489',\n",
              "       '19613', '19689', '19717', '19846', '19961', '19968', '19997',\n",
              "       '20019', '20038', '20173', '20176', '20198', '20222', '20272',\n",
              "       '20319', '20372', '20445', '20469', '20479', '20497', '20529',\n",
              "       '20556', '20592', '20738', '20917', '20927', '21074', '21088',\n",
              "       '21102', '21172', '21174', '21191', '21240', '21241', '21529',\n",
              "       '21565', '21585', '21622', '21631', '21703', '21744', '21764',\n",
              "       '21769', '21813', '21814', '21843', '21858', '21880', '22174',\n",
              "       '22182', '22216', '22242', '22275', '22289', '22297', '22416',\n",
              "       '22520', '22665', '22729', '22862', '22898', '22907', '22920',\n",
              "       '22987', '23116', '23207', '23212', '23351', '23442', '23475',\n",
              "       '23506', '23620', '23729', '23744', '23809', '23810', '23860',\n",
              "       '23888', '24000', '24008', '24021', '24114', '24163', '24212',\n",
              "       '24221', '24230', '24292', '24344', '24385', '24411', '24428',\n",
              "       '24508', '24587', '24687', '24756', '24790', '24813', '24862',\n",
              "       '24901', '25015', '25055', '25062', '25125', '25202', '25204',\n",
              "       '25205', '25359', '25539', '25729', '25743', '25837', '25863',\n",
              "       '25879', '25914', '26029', '26030', '26158', '26169', '26189',\n",
              "       '26199', '26257', '26341', '26381', '26450', '26518', '26561',\n",
              "       '26573', '26581', '26704', '26731', '26753', '26780', '26785',\n",
              "       '26791', '26832', '26848', '26886', '27001', '27193', '27301',\n",
              "       '27427', '27479', '27543', '27549', '27632', '27649', '27680',\n",
              "       '27734', '27805', '27900', '27910', '27977', '27983', '27994',\n",
              "       '28010', '28015', '28207', '28234', '28251', '28355', '28379',\n",
              "       '28388', '28423', '28479', '28531', '28554', '28590', '28614',\n",
              "       '28615', '28637', '28654', '28740', '28746', '28784', '28966',\n",
              "       '29065', '29083', '29182', '29210', '29315', '29326', '29370',\n",
              "       '29435', '29476', '29577', '29592', '29613', '29703', '29710',\n",
              "       '29732', '29825', '29845', '29905', '30026', '30267', '30305',\n",
              "       '30323', '30337', '30514', '30532', '30627', '30731', '30747',\n",
              "       '30812', '30907', '31120', '31349', '31471', '31472', '31487',\n",
              "       '31512', '31521', '31619', '31645', '31673', '31794', '31890',\n",
              "       '32092', '32196', '32197', '32198', '32494', '32500', '32501',\n",
              "       '32505', '32580', '32592', '32595', '32647', '32670', '32708',\n",
              "       '32785', '32796', '32815', '32832', '32997', '33155', '33168',\n",
              "       '33199', '33251', '33516', '33578', '33610', '33622', '33854',\n",
              "       '33890', '33904', '33982', '34070', '34213', '34287', '34322',\n",
              "       '34336', '34345', '34396', '34615', '34623', '34641', '34643',\n",
              "       '34645', '34656', '34662', '34706', '34712', '34722', '34749',\n",
              "       '34771', '34786', '34790', '34800', '34809', '34813', '34850',\n",
              "       '34897', '34903', '34911', '34912', '34914', '34938', '34941',\n",
              "       '34965', '34986', '34991', '35006', '35007', '35040', '35065',\n",
              "       '35099', '35103', '35105', '35115', '35152', '35166', '35167',\n",
              "       '35203', '35233', '35260', '35288', '35297', '35351', '35353',\n",
              "       '35375', '35411', '35433', '35439', '35459', '35480', '35488',\n",
              "       '35498', '35512', '35555', '35582', '35589', '35615', '35631',\n",
              "       '35657', '35684', '35709', '35719', '35721', '35753', '35764',\n",
              "       '35807', '35824', '35852', '35869', '35874', '35892', '35905',\n",
              "       '35927', '35957', '35999', '36006', '36028', '36057', '36066',\n",
              "       '36079', '36093', '36122', '36125', '36195', '36260', '36270',\n",
              "       '36272', '36306', '36322', '36352', '36359', '36399', '36402',\n",
              "       '36458', '36474', '36526', '36548', '36564', '36565', '36578',\n",
              "       '36583', '36609', '36610', '36625', '36677', '36701', '36747',\n",
              "       '36926', '36961', '36986', '37033', '37184', '37270', '37342',\n",
              "       '37448', '37508', '37524', '37548', '37629', '37799', '37858',\n",
              "       '37884', '37943', '38031', '38131', '38149', '38301', '38342',\n",
              "       '38347', '38390', '38453', '38486', '38533', '38597', '38644',\n",
              "       '38719', '38949', '39007', '39099', '39104', '39211', '39267',\n",
              "       '39279', '39341', '39344', '39370', '39374', '39422', '39514',\n",
              "       '39521', '39644', '39676', '39726', '39772', '39809', '39850',\n",
              "       '40008', '40161', '40185', '40247', '40304', '40394', '40472',\n",
              "       '41037', '41235', '41504', '41545', '41820', '42149', '42641',\n",
              "       '42687', '43708'], dtype=object)"
            ]
          },
          "metadata": {
            "tags": []
          },
          "execution_count": 93
        }
      ]
    },
    {
      "cell_type": "markdown",
      "metadata": {
        "id": "mRtS66GpYxmr",
        "colab_type": "text"
      },
      "source": [
        "Now we have a list of all the patients we want to remove."
      ]
    },
    {
      "cell_type": "code",
      "metadata": {
        "id": "W3fb3j9tVuu1",
        "colab_type": "code",
        "colab": {}
      },
      "source": [
        "smalldf = smalldf[ ~ smalldf['Patient ID'].isin(ids_to_remove) ]"
      ],
      "execution_count": 0,
      "outputs": []
    },
    {
      "cell_type": "markdown",
      "metadata": {
        "id": "hXIMk8q1Ze1N",
        "colab_type": "text"
      },
      "source": [
        "Now check if we removed the people with more than 20 studies"
      ]
    },
    {
      "cell_type": "code",
      "metadata": {
        "id": "PbEFyTdLZa64",
        "colab_type": "code",
        "outputId": "2f8ae8a8-64ec-4712-d0e9-d1c059dedbda",
        "colab": {
          "base_uri": "https://localhost:8080/",
          "height": 173
        }
      },
      "source": [
        "smalldf['Study Index'].describe()"
      ],
      "execution_count": 0,
      "outputs": [
        {
          "output_type": "execute_result",
          "data": {
            "text/plain": [
              "count    199518.000000\n",
              "mean          3.217730\n",
              "std           3.111967\n",
              "min           1.000000\n",
              "25%           1.000000\n",
              "50%           2.000000\n",
              "75%           4.000000\n",
              "max          19.000000\n",
              "Name: Study Index, dtype: float64"
            ]
          },
          "metadata": {
            "tags": []
          },
          "execution_count": 96
        }
      ]
    },
    {
      "cell_type": "markdown",
      "metadata": {
        "id": "hZ0XTPofa5Wm",
        "colab_type": "text"
      },
      "source": [
        "## Seperate sets by image type"
      ]
    },
    {
      "cell_type": "markdown",
      "metadata": {
        "id": "6Ogvk_sycAr4",
        "colab_type": "text"
      },
      "source": [
        "lateral, frontal (AP and PA)"
      ]
    },
    {
      "cell_type": "code",
      "metadata": {
        "id": "Lr59l_JpZwtF",
        "colab_type": "code",
        "outputId": "62aed6bb-9677-41ce-e8a6-225580fa848f",
        "colab": {
          "base_uri": "https://localhost:8080/",
          "height": 187
        }
      },
      "source": [
        "smalldf.head(1)"
      ],
      "execution_count": 0,
      "outputs": [
        {
          "output_type": "execute_result",
          "data": {
            "text/html": [
              "<div>\n",
              "<style scoped>\n",
              "    .dataframe tbody tr th:only-of-type {\n",
              "        vertical-align: middle;\n",
              "    }\n",
              "\n",
              "    .dataframe tbody tr th {\n",
              "        vertical-align: top;\n",
              "    }\n",
              "\n",
              "    .dataframe thead th {\n",
              "        text-align: right;\n",
              "    }\n",
              "</style>\n",
              "<table border=\"1\" class=\"dataframe\">\n",
              "  <thead>\n",
              "    <tr style=\"text-align: right;\">\n",
              "      <th></th>\n",
              "      <th>Path</th>\n",
              "      <th>Sex</th>\n",
              "      <th>Age</th>\n",
              "      <th>Frontal/Lateral</th>\n",
              "      <th>AP/PA</th>\n",
              "      <th>No Finding</th>\n",
              "      <th>Enlarged Cardiomediastinum</th>\n",
              "      <th>Cardiomegaly</th>\n",
              "      <th>Lung Opacity</th>\n",
              "      <th>Lung Lesion</th>\n",
              "      <th>Edema</th>\n",
              "      <th>Consolidation</th>\n",
              "      <th>Pneumonia</th>\n",
              "      <th>Atelectasis</th>\n",
              "      <th>Pneumothorax</th>\n",
              "      <th>Pleural Effusion</th>\n",
              "      <th>Pleural Other</th>\n",
              "      <th>Fracture</th>\n",
              "      <th>Support Devices</th>\n",
              "      <th>Num Pathologies</th>\n",
              "      <th>Patient ID</th>\n",
              "      <th>Study Index</th>\n",
              "    </tr>\n",
              "  </thead>\n",
              "  <tbody>\n",
              "    <tr>\n",
              "      <th>0</th>\n",
              "      <td>CheXpert-v1.0-small/train/patient00001/study1/...</td>\n",
              "      <td>Female</td>\n",
              "      <td>68</td>\n",
              "      <td>Frontal</td>\n",
              "      <td>AP</td>\n",
              "      <td>1</td>\n",
              "      <td>0</td>\n",
              "      <td>0</td>\n",
              "      <td>0</td>\n",
              "      <td>0</td>\n",
              "      <td>0</td>\n",
              "      <td>0</td>\n",
              "      <td>0</td>\n",
              "      <td>0</td>\n",
              "      <td>0</td>\n",
              "      <td>0</td>\n",
              "      <td>0</td>\n",
              "      <td>0</td>\n",
              "      <td>1</td>\n",
              "      <td>1.0</td>\n",
              "      <td>00001</td>\n",
              "      <td>1</td>\n",
              "    </tr>\n",
              "  </tbody>\n",
              "</table>\n",
              "</div>"
            ],
            "text/plain": [
              "                                                Path  ... Study Index\n",
              "0  CheXpert-v1.0-small/train/patient00001/study1/...  ...           1\n",
              "\n",
              "[1 rows x 22 columns]"
            ]
          },
          "metadata": {
            "tags": []
          },
          "execution_count": 97
        }
      ]
    },
    {
      "cell_type": "code",
      "metadata": {
        "id": "r8iQEyTLdR1X",
        "colab_type": "code",
        "outputId": "c71a68ad-05fd-451b-def0-6eba809041d6",
        "colab": {
          "base_uri": "https://localhost:8080/",
          "height": 86
        }
      },
      "source": [
        "smalldf.groupby('Frontal/Lateral')['Path'].count()"
      ],
      "execution_count": 0,
      "outputs": [
        {
          "output_type": "execute_result",
          "data": {
            "text/plain": [
              "Frontal/Lateral\n",
              "Frontal    168968\n",
              "Lateral     30550\n",
              "Name: Path, dtype: int64"
            ]
          },
          "metadata": {
            "tags": []
          },
          "execution_count": 105
        }
      ]
    },
    {
      "cell_type": "code",
      "metadata": {
        "id": "ZTpGEkTncGMW",
        "colab_type": "code",
        "outputId": "1bfc4110-f684-4662-c2a6-fbf607198b04",
        "colab": {
          "base_uri": "https://localhost:8080/",
          "height": 284
        }
      },
      "source": [
        "plt.bar(['Frontal', 'Lateral'], \n",
        "        height = smalldf.groupby('Frontal/Lateral')['Path'].count(),\n",
        "        color = 'orange'\n",
        "       )\n",
        "plt.title('Number of frontal and lateral images in the dataset')\n",
        "plt.show()"
      ],
      "execution_count": 0,
      "outputs": [
        {
          "output_type": "display_data",
          "data": {
            "image/png": "[encoded data removed]",
            "text/plain": [
              "<Figure size 432x288 with 1 Axes>"
            ]
          },
          "metadata": {
            "tags": []
          }
        }
      ]
    },
    {
      "cell_type": "code",
      "metadata": {
        "id": "fKaDD0HlhtG4",
        "colab_type": "code",
        "outputId": "27017bf6-b306-4df3-d113-f408ac658706",
        "colab": {
          "base_uri": "https://localhost:8080/",
          "height": 121
        }
      },
      "source": [
        "smalldf.groupby('AP/PA')['Path'].count()"
      ],
      "execution_count": 0,
      "outputs": [
        {
          "output_type": "execute_result",
          "data": {
            "text/plain": [
              "AP/PA\n",
              "AP    141191\n",
              "LL        15\n",
              "PA     27761\n",
              "RL         1\n",
              "Name: Path, dtype: int64"
            ]
          },
          "metadata": {
            "tags": []
          },
          "execution_count": 123
        }
      ]
    },
    {
      "cell_type": "code",
      "metadata": {
        "id": "k9dw2NRocS0V",
        "colab_type": "code",
        "colab": {}
      },
      "source": [
        "smalldf['Image Type'] = smalldf['AP/PA'].fillna('Lateral')"
      ],
      "execution_count": 0,
      "outputs": []
    },
    {
      "cell_type": "code",
      "metadata": {
        "id": "iYnOgtUEh9wI",
        "colab_type": "code",
        "outputId": "61276063-1090-41b8-e90f-09d2730b826f",
        "colab": {
          "base_uri": "https://localhost:8080/",
          "height": 34
        }
      },
      "source": [
        "smalldf['Image Type'].unique()"
      ],
      "execution_count": 0,
      "outputs": [
        {
          "output_type": "execute_result",
          "data": {
            "text/plain": [
              "array(['AP', 'Lateral', 'PA', 'LL', 'RL'], dtype=object)"
            ]
          },
          "metadata": {
            "tags": []
          },
          "execution_count": 124
        }
      ]
    },
    {
      "cell_type": "code",
      "metadata": {
        "id": "nXWKakAIhHcz",
        "colab_type": "code",
        "outputId": "98164ed2-82f7-4882-c5e2-d5acd022e93f",
        "colab": {
          "base_uri": "https://localhost:8080/",
          "height": 139
        }
      },
      "source": [
        "smalldf.groupby('Image Type')['Path'].count()"
      ],
      "execution_count": 0,
      "outputs": [
        {
          "output_type": "execute_result",
          "data": {
            "text/plain": [
              "Image Type\n",
              "AP         141191\n",
              "LL             15\n",
              "Lateral     30550\n",
              "PA          27761\n",
              "RL              1\n",
              "Name: Path, dtype: int64"
            ]
          },
          "metadata": {
            "tags": []
          },
          "execution_count": 121
        }
      ]
    },
    {
      "cell_type": "markdown",
      "metadata": {
        "id": "PYtLfy8Ei0cy",
        "colab_type": "text"
      },
      "source": [
        "For some reason doing 'column.unique' gives a different ordering than groupby. So that's annoying and means we have to manually give the labels"
      ]
    },
    {
      "cell_type": "code",
      "metadata": {
        "id": "wB_APkAufFFE",
        "colab_type": "code",
        "outputId": "f9d74374-f81e-47a2-ec41-7241470cf5bf",
        "colab": {
          "base_uri": "https://localhost:8080/",
          "height": 301
        }
      },
      "source": [
        "sns.barplot(\n",
        "    x = ['AP','LL', 'Lateral', 'PA', 'RL'],\n",
        "    y = smalldf.groupby('Image Type')['Path'].count(),\n",
        "    palette=sns.color_palette('Set2')\n",
        ")\n",
        "plt.title('Number of each image type in the dataset')\n",
        "plt.xlabel('Image Type')\n",
        "plt.ylabel('Count')\n",
        "plt.show()\n"
      ],
      "execution_count": 0,
      "outputs": [
        {
          "output_type": "display_data",
          "data": {
            "image/png": "[encoded data removed]",
            "text/plain": [
              "<Figure size 432x288 with 1 Axes>"
            ]
          },
          "metadata": {
            "tags": []
          }
        }
      ]
    },
    {
      "cell_type": "markdown",
      "metadata": {
        "id": "F9ip9N4XlX4R",
        "colab_type": "text"
      },
      "source": [
        "My assumption is that lateral images are used as a supplement to frontal images. Is this true?"
      ]
    },
    {
      "cell_type": "markdown",
      "metadata": {
        "id": "nk0lu65Xmz1Y",
        "colab_type": "text"
      },
      "source": [
        "Per each study, how many lateral images are there? how many frontal images?"
      ]
    },
    {
      "cell_type": "code",
      "metadata": {
        "id": "AQiIELuBgI7K",
        "colab_type": "code",
        "outputId": "f714015b-3cda-48d0-9caf-3cae2a120d5f",
        "colab": {
          "base_uri": "https://localhost:8080/",
          "height": 1000
        }
      },
      "source": [
        "counting = smalldf.groupby(\n",
        "    ['Patient ID', 'Study Index', 'Image Type']\n",
        ")['Path'].count()\n",
        "counting"
      ],
      "execution_count": 0,
      "outputs": [
        {
          "output_type": "execute_result",
          "data": {
            "text/plain": [
              "Patient ID  Study Index  Image Type\n",
              "00001       1            AP            1\n",
              "00002       1            AP            1\n",
              "                         Lateral       1\n",
              "            2            AP            1\n",
              "00003       1            AP            1\n",
              "00004       1            Lateral       1\n",
              "                         PA            1\n",
              "00005       1            Lateral       1\n",
              "                         PA            1\n",
              "            2            AP            2\n",
              "00006       1            AP            1\n",
              "00007       1            AP            1\n",
              "            2            AP            1\n",
              "00008       1            AP            1\n",
              "            2            AP            1\n",
              "00009       1            Lateral       1\n",
              "                         PA            1\n",
              "00010       1            Lateral       1\n",
              "                         PA            1\n",
              "00011       1            AP            1\n",
              "            2            AP            1\n",
              "            3            AP            1\n",
              "            4            AP            1\n",
              "            5            AP            1\n",
              "            6            AP            1\n",
              "            7            AP            1\n",
              "            8            AP            1\n",
              "            9            AP            1\n",
              "            10           AP            1\n",
              "            11           AP            1\n",
              "                                      ..\n",
              "64515       1            AP            1\n",
              "64516       1            AP            1\n",
              "64517       1            AP            1\n",
              "64518       1            AP            1\n",
              "64519       1            AP            1\n",
              "64520       1            AP            1\n",
              "64521       1            AP            1\n",
              "64522       1            AP            1\n",
              "64523       1            AP            1\n",
              "64524       1            AP            1\n",
              "64525       1            AP            1\n",
              "64526       1            AP            1\n",
              "64527       1            AP            1\n",
              "            2            AP            1\n",
              "64528       1            AP            1\n",
              "64529       1            AP            1\n",
              "64530       1            AP            1\n",
              "64531       1            AP            1\n",
              "64532       1            AP            1\n",
              "64533       1            AP            1\n",
              "            2            AP            1\n",
              "64534       1            AP            1\n",
              "64535       1            AP            1\n",
              "64536       1            AP            1\n",
              "            2            AP            1\n",
              "64537       1            AP            1\n",
              "            2            AP            1\n",
              "64538       1            AP            1\n",
              "64539       1            AP            1\n",
              "64540       1            AP            1\n",
              "Name: Path, Length: 195589, dtype: int64"
            ]
          },
          "metadata": {
            "tags": []
          },
          "execution_count": 144
        }
      ]
    },
    {
      "cell_type": "code",
      "metadata": {
        "id": "yoTsazfnmJlq",
        "colab_type": "code",
        "outputId": "a58ff4f8-6c66-445d-a001-80f84c943d63",
        "colab": {
          "base_uri": "https://localhost:8080/",
          "height": 1000
        }
      },
      "source": [
        "#using a pivot table\n",
        "\n",
        "table = pd.pivot_table(smalldf, \n",
        "                    values = 'Image Type',\n",
        "                    index=['Patient ID', 'Study Index'],\n",
        "                    #columns=['Image Type'], \n",
        "                    aggfunc=np.sum\n",
        "                   )\n",
        "\n",
        "table"
      ],
      "execution_count": 0,
      "outputs": [
        {
          "output_type": "execute_result",
          "data": {
            "text/html": [
              "<div>\n",
              "<style scoped>\n",
              "    .dataframe tbody tr th:only-of-type {\n",
              "        vertical-align: middle;\n",
              "    }\n",
              "\n",
              "    .dataframe tbody tr th {\n",
              "        vertical-align: top;\n",
              "    }\n",
              "\n",
              "    .dataframe thead th {\n",
              "        text-align: right;\n",
              "    }\n",
              "</style>\n",
              "<table border=\"1\" class=\"dataframe\">\n",
              "  <thead>\n",
              "    <tr style=\"text-align: right;\">\n",
              "      <th></th>\n",
              "      <th></th>\n",
              "      <th>Image Type</th>\n",
              "    </tr>\n",
              "    <tr>\n",
              "      <th>Patient ID</th>\n",
              "      <th>Study Index</th>\n",
              "      <th></th>\n",
              "    </tr>\n",
              "  </thead>\n",
              "  <tbody>\n",
              "    <tr>\n",
              "      <th>00001</th>\n",
              "      <th>1</th>\n",
              "      <td>AP</td>\n",
              "    </tr>\n",
              "    <tr>\n",
              "      <th rowspan=\"2\" valign=\"top\">00002</th>\n",
              "      <th>1</th>\n",
              "      <td>APLateral</td>\n",
              "    </tr>\n",
              "    <tr>\n",
              "      <th>2</th>\n",
              "      <td>AP</td>\n",
              "    </tr>\n",
              "    <tr>\n",
              "      <th>00003</th>\n",
              "      <th>1</th>\n",
              "      <td>AP</td>\n",
              "    </tr>\n",
              "    <tr>\n",
              "      <th>00004</th>\n",
              "      <th>1</th>\n",
              "      <td>PALateral</td>\n",
              "    </tr>\n",
              "    <tr>\n",
              "      <th rowspan=\"2\" valign=\"top\">00005</th>\n",
              "      <th>1</th>\n",
              "      <td>PALateral</td>\n",
              "    </tr>\n",
              "    <tr>\n",
              "      <th>2</th>\n",
              "      <td>APAP</td>\n",
              "    </tr>\n",
              "    <tr>\n",
              "      <th>00006</th>\n",
              "      <th>1</th>\n",
              "      <td>AP</td>\n",
              "    </tr>\n",
              "    <tr>\n",
              "      <th rowspan=\"2\" valign=\"top\">00007</th>\n",
              "      <th>1</th>\n",
              "      <td>AP</td>\n",
              "    </tr>\n",
              "    <tr>\n",
              "      <th>2</th>\n",
              "      <td>AP</td>\n",
              "    </tr>\n",
              "    <tr>\n",
              "      <th rowspan=\"2\" valign=\"top\">00008</th>\n",
              "      <th>1</th>\n",
              "      <td>AP</td>\n",
              "    </tr>\n",
              "    <tr>\n",
              "      <th>2</th>\n",
              "      <td>AP</td>\n",
              "    </tr>\n",
              "    <tr>\n",
              "      <th>00009</th>\n",
              "      <th>1</th>\n",
              "      <td>PALateral</td>\n",
              "    </tr>\n",
              "    <tr>\n",
              "      <th>00010</th>\n",
              "      <th>1</th>\n",
              "      <td>PALateral</td>\n",
              "    </tr>\n",
              "    <tr>\n",
              "      <th rowspan=\"13\" valign=\"top\">00011</th>\n",
              "      <th>1</th>\n",
              "      <td>AP</td>\n",
              "    </tr>\n",
              "    <tr>\n",
              "      <th>2</th>\n",
              "      <td>AP</td>\n",
              "    </tr>\n",
              "    <tr>\n",
              "      <th>3</th>\n",
              "      <td>AP</td>\n",
              "    </tr>\n",
              "    <tr>\n",
              "      <th>4</th>\n",
              "      <td>AP</td>\n",
              "    </tr>\n",
              "    <tr>\n",
              "      <th>5</th>\n",
              "      <td>AP</td>\n",
              "    </tr>\n",
              "    <tr>\n",
              "      <th>6</th>\n",
              "      <td>AP</td>\n",
              "    </tr>\n",
              "    <tr>\n",
              "      <th>7</th>\n",
              "      <td>AP</td>\n",
              "    </tr>\n",
              "    <tr>\n",
              "      <th>8</th>\n",
              "      <td>AP</td>\n",
              "    </tr>\n",
              "    <tr>\n",
              "      <th>9</th>\n",
              "      <td>AP</td>\n",
              "    </tr>\n",
              "    <tr>\n",
              "      <th>10</th>\n",
              "      <td>AP</td>\n",
              "    </tr>\n",
              "    <tr>\n",
              "      <th>11</th>\n",
              "      <td>AP</td>\n",
              "    </tr>\n",
              "    <tr>\n",
              "      <th>12</th>\n",
              "      <td>AP</td>\n",
              "    </tr>\n",
              "    <tr>\n",
              "      <th>13</th>\n",
              "      <td>PALateral</td>\n",
              "    </tr>\n",
              "    <tr>\n",
              "      <th rowspan=\"3\" valign=\"top\">00012</th>\n",
              "      <th>1</th>\n",
              "      <td>PALateral</td>\n",
              "    </tr>\n",
              "    <tr>\n",
              "      <th>2</th>\n",
              "      <td>PALateral</td>\n",
              "    </tr>\n",
              "    <tr>\n",
              "      <th>3</th>\n",
              "      <td>PALateral</td>\n",
              "    </tr>\n",
              "    <tr>\n",
              "      <th>...</th>\n",
              "      <th>...</th>\n",
              "      <td>...</td>\n",
              "    </tr>\n",
              "    <tr>\n",
              "      <th>64515</th>\n",
              "      <th>1</th>\n",
              "      <td>AP</td>\n",
              "    </tr>\n",
              "    <tr>\n",
              "      <th>64516</th>\n",
              "      <th>1</th>\n",
              "      <td>AP</td>\n",
              "    </tr>\n",
              "    <tr>\n",
              "      <th>64517</th>\n",
              "      <th>1</th>\n",
              "      <td>AP</td>\n",
              "    </tr>\n",
              "    <tr>\n",
              "      <th>64518</th>\n",
              "      <th>1</th>\n",
              "      <td>AP</td>\n",
              "    </tr>\n",
              "    <tr>\n",
              "      <th>64519</th>\n",
              "      <th>1</th>\n",
              "      <td>AP</td>\n",
              "    </tr>\n",
              "    <tr>\n",
              "      <th>64520</th>\n",
              "      <th>1</th>\n",
              "      <td>AP</td>\n",
              "    </tr>\n",
              "    <tr>\n",
              "      <th>64521</th>\n",
              "      <th>1</th>\n",
              "      <td>AP</td>\n",
              "    </tr>\n",
              "    <tr>\n",
              "      <th>64522</th>\n",
              "      <th>1</th>\n",
              "      <td>AP</td>\n",
              "    </tr>\n",
              "    <tr>\n",
              "      <th>64523</th>\n",
              "      <th>1</th>\n",
              "      <td>AP</td>\n",
              "    </tr>\n",
              "    <tr>\n",
              "      <th>64524</th>\n",
              "      <th>1</th>\n",
              "      <td>AP</td>\n",
              "    </tr>\n",
              "    <tr>\n",
              "      <th>64525</th>\n",
              "      <th>1</th>\n",
              "      <td>AP</td>\n",
              "    </tr>\n",
              "    <tr>\n",
              "      <th>64526</th>\n",
              "      <th>1</th>\n",
              "      <td>AP</td>\n",
              "    </tr>\n",
              "    <tr>\n",
              "      <th rowspan=\"2\" valign=\"top\">64527</th>\n",
              "      <th>1</th>\n",
              "      <td>AP</td>\n",
              "    </tr>\n",
              "    <tr>\n",
              "      <th>2</th>\n",
              "      <td>AP</td>\n",
              "    </tr>\n",
              "    <tr>\n",
              "      <th>64528</th>\n",
              "      <th>1</th>\n",
              "      <td>AP</td>\n",
              "    </tr>\n",
              "    <tr>\n",
              "      <th>64529</th>\n",
              "      <th>1</th>\n",
              "      <td>AP</td>\n",
              "    </tr>\n",
              "    <tr>\n",
              "      <th>64530</th>\n",
              "      <th>1</th>\n",
              "      <td>AP</td>\n",
              "    </tr>\n",
              "    <tr>\n",
              "      <th>64531</th>\n",
              "      <th>1</th>\n",
              "      <td>AP</td>\n",
              "    </tr>\n",
              "    <tr>\n",
              "      <th>64532</th>\n",
              "      <th>1</th>\n",
              "      <td>AP</td>\n",
              "    </tr>\n",
              "    <tr>\n",
              "      <th rowspan=\"2\" valign=\"top\">64533</th>\n",
              "      <th>1</th>\n",
              "      <td>AP</td>\n",
              "    </tr>\n",
              "    <tr>\n",
              "      <th>2</th>\n",
              "      <td>AP</td>\n",
              "    </tr>\n",
              "    <tr>\n",
              "      <th>64534</th>\n",
              "      <th>1</th>\n",
              "      <td>AP</td>\n",
              "    </tr>\n",
              "    <tr>\n",
              "      <th>64535</th>\n",
              "      <th>1</th>\n",
              "      <td>AP</td>\n",
              "    </tr>\n",
              "    <tr>\n",
              "      <th rowspan=\"2\" valign=\"top\">64536</th>\n",
              "      <th>1</th>\n",
              "      <td>AP</td>\n",
              "    </tr>\n",
              "    <tr>\n",
              "      <th>2</th>\n",
              "      <td>AP</td>\n",
              "    </tr>\n",
              "    <tr>\n",
              "      <th rowspan=\"2\" valign=\"top\">64537</th>\n",
              "      <th>1</th>\n",
              "      <td>AP</td>\n",
              "    </tr>\n",
              "    <tr>\n",
              "      <th>2</th>\n",
              "      <td>AP</td>\n",
              "    </tr>\n",
              "    <tr>\n",
              "      <th>64538</th>\n",
              "      <th>1</th>\n",
              "      <td>AP</td>\n",
              "    </tr>\n",
              "    <tr>\n",
              "      <th>64539</th>\n",
              "      <th>1</th>\n",
              "      <td>AP</td>\n",
              "    </tr>\n",
              "    <tr>\n",
              "      <th>64540</th>\n",
              "      <th>1</th>\n",
              "      <td>AP</td>\n",
              "    </tr>\n",
              "  </tbody>\n",
              "</table>\n",
              "<p>165838 rows × 1 columns</p>\n",
              "</div>"
            ],
            "text/plain": [
              "                       Image Type\n",
              "Patient ID Study Index           \n",
              "00001      1                   AP\n",
              "00002      1            APLateral\n",
              "           2                   AP\n",
              "00003      1                   AP\n",
              "00004      1            PALateral\n",
              "00005      1            PALateral\n",
              "           2                 APAP\n",
              "00006      1                   AP\n",
              "00007      1                   AP\n",
              "           2                   AP\n",
              "00008      1                   AP\n",
              "           2                   AP\n",
              "00009      1            PALateral\n",
              "00010      1            PALateral\n",
              "00011      1                   AP\n",
              "           2                   AP\n",
              "           3                   AP\n",
              "           4                   AP\n",
              "           5                   AP\n",
              "           6                   AP\n",
              "           7                   AP\n",
              "           8                   AP\n",
              "           9                   AP\n",
              "           10                  AP\n",
              "           11                  AP\n",
              "           12                  AP\n",
              "           13           PALateral\n",
              "00012      1            PALateral\n",
              "           2            PALateral\n",
              "           3            PALateral\n",
              "...                           ...\n",
              "64515      1                   AP\n",
              "64516      1                   AP\n",
              "64517      1                   AP\n",
              "64518      1                   AP\n",
              "64519      1                   AP\n",
              "64520      1                   AP\n",
              "64521      1                   AP\n",
              "64522      1                   AP\n",
              "64523      1                   AP\n",
              "64524      1                   AP\n",
              "64525      1                   AP\n",
              "64526      1                   AP\n",
              "64527      1                   AP\n",
              "           2                   AP\n",
              "64528      1                   AP\n",
              "64529      1                   AP\n",
              "64530      1                   AP\n",
              "64531      1                   AP\n",
              "64532      1                   AP\n",
              "64533      1                   AP\n",
              "           2                   AP\n",
              "64534      1                   AP\n",
              "64535      1                   AP\n",
              "64536      1                   AP\n",
              "           2                   AP\n",
              "64537      1                   AP\n",
              "           2                   AP\n",
              "64538      1                   AP\n",
              "64539      1                   AP\n",
              "64540      1                   AP\n",
              "\n",
              "[165838 rows x 1 columns]"
            ]
          },
          "metadata": {
            "tags": []
          },
          "execution_count": 152
        }
      ]
    },
    {
      "cell_type": "code",
      "metadata": {
        "id": "4CSoVmGUpGxs",
        "colab_type": "code",
        "outputId": "7ed540dc-6492-4023-e64f-7ca544f7f8e8",
        "colab": {
          "base_uri": "https://localhost:8080/",
          "height": 156
        }
      },
      "source": [
        "labels = np.sort(table['Image Type'].unique())\n",
        "labels"
      ],
      "execution_count": 0,
      "outputs": [
        {
          "output_type": "execute_result",
          "data": {
            "text/plain": [
              "array(['AP', 'APAP', 'APAPAP', 'APAPLateral', 'APLLLateral', 'APLateral',\n",
              "       'APLateralAP', 'APLateralLateral', 'APLateralPA', 'APPA',\n",
              "       'APPALateral', 'APPAPA', 'APRL', 'LLLateralAP', 'Lateral',\n",
              "       'LateralAP', 'LateralAPAP', 'LateralLateral', 'LateralLateralAP',\n",
              "       'LateralPA', 'LateralPAAP', 'PA', 'PAAP', 'PAAPAP', 'PAAPLateral',\n",
              "       'PAAPPA', 'PALLLateral', 'PALateral', 'PALateralAP', 'PALateralLL',\n",
              "       'PALateralLateral', 'PALateralPA', 'PAPA', 'PAPALL', 'PAPALateral',\n",
              "       'PAPAPA'], dtype=object)"
            ]
          },
          "metadata": {
            "tags": []
          },
          "execution_count": 165
        }
      ]
    },
    {
      "cell_type": "markdown",
      "metadata": {
        "id": "LyVGckqKr3Rg",
        "colab_type": "text"
      },
      "source": [
        "There does appear to be a 'lateral only' group"
      ]
    },
    {
      "cell_type": "code",
      "metadata": {
        "id": "oy4I8BWJrqK5",
        "colab_type": "code",
        "outputId": "222ce9a3-5b4d-4303-ef7d-a9447ed1e626",
        "colab": {
          "base_uri": "https://localhost:8080/",
          "height": 677
        }
      },
      "source": [
        "counts = table.groupby('Image Type')['Image Type'].count()\n",
        "counts"
      ],
      "execution_count": 0,
      "outputs": [
        {
          "output_type": "execute_result",
          "data": {
            "text/plain": [
              "Image Type\n",
              "AP                  131876\n",
              "APAP                  2200\n",
              "APAPAP                  27\n",
              "APAPLateral             42\n",
              "APLLLateral              1\n",
              "APLateral             3246\n",
              "APLateralAP             40\n",
              "APLateralLateral       379\n",
              "APLateralPA              3\n",
              "APPA                    15\n",
              "APPALateral             20\n",
              "APPAPA                   1\n",
              "APRL                     1\n",
              "LLLateralAP              2\n",
              "Lateral                 13\n",
              "LateralAP              819\n",
              "LateralAPAP             12\n",
              "LateralLateral           2\n",
              "LateralLateralAP        81\n",
              "LateralPA                2\n",
              "LateralPAAP              1\n",
              "PA                    1965\n",
              "PAAP                    19\n",
              "PAAPAP                   3\n",
              "PAAPLateral             26\n",
              "PAAPPA                   1\n",
              "PALLLateral              2\n",
              "PALateral            23895\n",
              "PALateralAP             25\n",
              "PALateralLL              9\n",
              "PALateralLateral       452\n",
              "PALateralPA            243\n",
              "PAPA                    89\n",
              "PAPALL                   1\n",
              "PAPALateral            321\n",
              "PAPAPA                   4\n",
              "Name: Image Type, dtype: int64"
            ]
          },
          "metadata": {
            "tags": []
          },
          "execution_count": 164
        }
      ]
    },
    {
      "cell_type": "code",
      "metadata": {
        "id": "I0Pk66ibsDVD",
        "colab_type": "code",
        "outputId": "8e7c820d-6dd5-4cfc-e088-9372eea8f1cd",
        "colab": {
          "base_uri": "https://localhost:8080/",
          "height": 403
        }
      },
      "source": [
        "plt.figure( figsize=(12,6))\n",
        "\n",
        "sns.barplot(\n",
        "  x = labels,\n",
        "  y = counts\n",
        ")\n",
        "plt.show()"
      ],
      "execution_count": 0,
      "outputs": [
        {
          "output_type": "display_data",
          "data": {
            "image/png": "[encoded data removed]",
            "text/plain": [
              "<Figure size 864x432 with 1 Axes>"
            ]
          },
          "metadata": {
            "tags": []
          }
        }
      ]
    },
    {
      "cell_type": "markdown",
      "metadata": {
        "id": "uJCvmi7_tGLe",
        "colab_type": "text"
      },
      "source": [
        "This figure is ugly as hell so we'll do some processing on it"
      ]
    },
    {
      "cell_type": "code",
      "metadata": {
        "id": "43-ESUwWsfca",
        "colab_type": "code",
        "outputId": "818d7642-500e-4257-88a4-24d90db21968",
        "colab": {
          "base_uri": "https://localhost:8080/",
          "height": 503
        }
      },
      "source": [
        "categories = ['Lateral only', 'Frontal Only', 'Both', 'Neither']\n",
        "\n",
        "def findtype(label):\n",
        "  #lateral and frontal are booleans\n",
        "  lateral = not (label.find('Lateral') == -1)\n",
        "  frontal = not (label.find('PA') == -1 and label.find('AP') == -1)\n",
        "  \n",
        "  if lateral and frontal:\n",
        "    return \"Both\"\n",
        "  elif lateral:\n",
        "    return \"Lateral\"\n",
        "  elif frontal:\n",
        "    return \"Frontal\"\n",
        "  else:\n",
        "    return \"Other\"\n",
        "\n",
        "testset = ['APPA', 'Lateral', 'APAP', 'PAAP']\n",
        "for label in testset: \n",
        "  print(label)\n",
        "  print( 'has lateral', not label.find('Lateral') == -1)\n",
        "  print( 'has PA', not label.find('PA') == -1 )\n",
        "  print( 'has AP', not label.find('AP') == -1 )\n",
        "  print( 'has either AP or PA', not (label.find('PA') == -1 and label.find('AP') == -1) )\n",
        "  print( findtype(label) )\n",
        "  print('****')"
      ],
      "execution_count": 0,
      "outputs": [
        {
          "output_type": "stream",
          "text": [
            "APPA\n",
            "has lateral False\n",
            "has PA True\n",
            "has AP True\n",
            "has either AP or PA True\n",
            "Frontal\n",
            "****\n",
            "Lateral\n",
            "has lateral True\n",
            "has PA False\n",
            "has AP False\n",
            "has either AP or PA False\n",
            "Lateral\n",
            "****\n",
            "APAP\n",
            "has lateral False\n",
            "has PA True\n",
            "has AP True\n",
            "has either AP or PA True\n",
            "Frontal\n",
            "****\n",
            "PAAP\n",
            "has lateral False\n",
            "has PA True\n",
            "has AP True\n",
            "has either AP or PA True\n",
            "Frontal\n",
            "****\n"
          ],
          "name": "stdout"
        }
      ]
    },
    {
      "cell_type": "code",
      "metadata": {
        "id": "_6e4apzVtTnn",
        "colab_type": "code",
        "outputId": "8a8d66e5-fa91-4f6e-f26c-d6cf8090b5a5",
        "colab": {
          "base_uri": "https://localhost:8080/",
          "height": 642
        }
      },
      "source": [
        "for label in labels:\n",
        "  print(label, 'is', findtype(label))"
      ],
      "execution_count": 0,
      "outputs": [
        {
          "output_type": "stream",
          "text": [
            "AP is Frontal\n",
            "APAP is Frontal\n",
            "APAPAP is Frontal\n",
            "APAPLateral is Both\n",
            "APLLLateral is Both\n",
            "APLateral is Both\n",
            "APLateralAP is Both\n",
            "APLateralLateral is Both\n",
            "APLateralPA is Both\n",
            "APPA is Frontal\n",
            "APPALateral is Both\n",
            "APPAPA is Frontal\n",
            "APRL is Frontal\n",
            "LLLateralAP is Both\n",
            "Lateral is Lateral\n",
            "LateralAP is Both\n",
            "LateralAPAP is Both\n",
            "LateralLateral is Lateral\n",
            "LateralLateralAP is Both\n",
            "LateralPA is Both\n",
            "LateralPAAP is Both\n",
            "PA is Frontal\n",
            "PAAP is Frontal\n",
            "PAAPAP is Frontal\n",
            "PAAPLateral is Both\n",
            "PAAPPA is Frontal\n",
            "PALLLateral is Both\n",
            "PALateral is Both\n",
            "PALateralAP is Both\n",
            "PALateralLL is Both\n",
            "PALateralLateral is Both\n",
            "PALateralPA is Both\n",
            "PAPA is Frontal\n",
            "PAPALL is Frontal\n",
            "PAPALateral is Both\n",
            "PAPAPA is Frontal\n"
          ],
          "name": "stdout"
        }
      ]
    },
    {
      "cell_type": "code",
      "metadata": {
        "id": "okmnu5ib2KcG",
        "colab_type": "code",
        "outputId": "63b32b20-d98a-4e18-e37d-e5b38bef78ab",
        "colab": {
          "base_uri": "https://localhost:8080/",
          "height": 34
        }
      },
      "source": [
        "category_dict = {\n",
        "    'Frontal': 0,\n",
        "    'Lateral': 0,\n",
        "    'Both': 0\n",
        "}\n",
        "\n",
        "for label in counts.index:\n",
        "  category_dict[ findtype(label) ] += counts[label]\n",
        "\n",
        "print (category_dict)  "
      ],
      "execution_count": 0,
      "outputs": [
        {
          "output_type": "stream",
          "text": [
            "{'Frontal': 136202, 'Lateral': 15, 'Both': 29621}\n"
          ],
          "name": "stdout"
        }
      ]
    },
    {
      "cell_type": "code",
      "metadata": {
        "id": "4QTjjYA12ix7",
        "colab_type": "code",
        "outputId": "641207bf-ad71-431c-c543-f4d747990374",
        "colab": {
          "base_uri": "https://localhost:8080/",
          "height": 301
        }
      },
      "source": [
        "g = sns.barplot(\n",
        "  x = list(category_dict.keys()),\n",
        "  y = list(category_dict.values()),\n",
        "  palette = sns.color_palette('Set2'),\n",
        "  \n",
        ")\n",
        "\n",
        "#Add some labels. code from stackoverflow\n",
        "for p in g.patches:\n",
        "  g.text(p.get_x() + p.get_width()/2., \n",
        "          p.get_height(), \n",
        "          '%d' % int(p.get_height()), \n",
        "          fontsize=12, \n",
        "          color='k', \n",
        "          ha='center', \n",
        "          va='bottom'\n",
        "         )\n",
        "\n",
        "plt.title('Types of Images Per Study')\n",
        "plt.xlabel(\"Type of Images\")\n",
        "plt.ylabel(\"Overall Count\")\n",
        "plt.show()"
      ],
      "execution_count": 0,
      "outputs": [
        {
          "output_type": "display_data",
          "data": {
            "image/png": "[encoded data removed]",
            "text/plain": [
              "<Figure size 432x288 with 1 Axes>"
            ]
          },
          "metadata": {
            "tags": []
          }
        }
      ]
    },
    {
      "cell_type": "markdown",
      "metadata": {
        "id": "XJ1EZ-Jo5lpW",
        "colab_type": "text"
      },
      "source": [
        "Very very few have only lateral images. Mostly, studies only do a frontal image.\n"
      ]
    },
    {
      "cell_type": "code",
      "metadata": {
        "id": "OfKMYk-M3VYW",
        "colab_type": "code",
        "colab": {}
      },
      "source": [
        ""
      ],
      "execution_count": 0,
      "outputs": []
    }
  ]
}