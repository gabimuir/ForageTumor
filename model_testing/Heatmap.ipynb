{
 "cells": [
  {
   "cell_type": "code",
   "execution_count": null,
   "metadata": {},
   "outputs": [],
   "source": [
    "import numpy as np\n",
    "import scipy as sp\n",
    "import matplotlib.pyplot as plt\n",
    "\n",
    "# import Keras's functional api\n",
    "from keras.models import Model\n",
    "\n",
    "# get the weights from the last layer\n",
    "gap_weights = model.layers[-1].get_weights()[0]\n",
    "\n",
    "# create a new model to output the feature maps and the predicted labels\n",
    "cam_model = Model(inputs=model.input, \n",
    "                    outputs=(model.layers[-3].output, model.layers[-1].output)) \n",
    "\n",
    "# make the prediction for a set of test images\n",
    "features, results = cam_model.predict(test_img)\n",
    "\n",
    "# check the prediction for 10 test images\n",
    "for idx in range(10):   \n",
    "    # get the feature map of the test image\n",
    "    features_for_one_img = features[idx, :, :, :]\n",
    "\n",
    "    # map the feature map to the original size\n",
    "    height_roomout = train_img_size_h / features_for_one_img.shape[0]\n",
    "    width_roomout = train_img_size_w / features_for_one_img.shape[1]\n",
    "    cam_features = sp.ndimage.zoom(features_for_one_img, (height_roomout, width_roomout, 1), order=2)\n",
    "        \n",
    "    # get the predicted label with the maximum probability\n",
    "    pred = np.argmax(results[idx])\n",
    "    \n",
    "    # prepare the final display\n",
    "    plt.figure(facecolor='white')\n",
    "    \n",
    "    # get the weights of class activation map\n",
    "    cam_weights = gap_weights[:, pred]\n",
    "\n",
    "    # create the class activation map\n",
    "    cam_output = np.dot(cam_features, cam_weights)\n",
    "    \n",
    "    # draw the class activation map\n",
    "    ax.set_xticklabels([])\n",
    "    ax.set_yticklabels([])\n",
    "    \n",
    "    buf = 'Predicted Class = ' + fashion_name[pred] + ', Probability = ' + str(results[idx][pred])\n",
    "    plt.xlabel(buf)\n",
    "    plt.imshow(t_pic[idx], alpha=0.5)\n",
    "    plt.imshow(cam_output, cmap='jet', alpha=0.5)\n",
    "\n",
    "    plt.show()  "
   ]
  }
 ],
 "metadata": {
  "kernelspec": {
   "display_name": "Python 3",
   "language": "python",
   "name": "python3"
  },
  "language_info": {
   "codemirror_mode": {
    "name": "ipython",
    "version": 3
   },
   "file_extension": ".py",
   "mimetype": "text/x-python",
   "name": "python",
   "nbconvert_exporter": "python",
   "pygments_lexer": "ipython3",
   "version": "3.6.8"
  }
 },
 "nbformat": 4,
 "nbformat_minor": 2
}
