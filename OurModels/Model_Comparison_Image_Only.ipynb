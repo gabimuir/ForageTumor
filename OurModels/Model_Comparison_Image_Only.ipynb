{
  "nbformat": 4,
  "nbformat_minor": 0,
  "metadata": {
    "kernelspec": {
      "name": "python3",
      "display_name": "Python 3"
    },
    "language_info": {
      "codemirror_mode": {
        "name": "ipython",
        "version": 3
      },
      "file_extension": ".py",
      "mimetype": "text/x-python",
      "name": "python",
      "nbconvert_exporter": "python",
      "pygments_lexer": "ipython3",
      "version": "3.6.8"
    },
    "colab": {
      "name": "Model Comparison Image Only.ipynb",
      "version": "0.3.2",
      "provenance": [],
      "collapsed_sections": [
        "p71UkB2gQHhI",
        "xz2shasV2sg-",
        "hGWzlRjO2shW"
      ],
      "machine_shape": "hm"
    },
    "accelerator": "GPU"
  },
  "cells": [
    {
      "cell_type": "markdown",
      "metadata": {
        "id": "jmwvFvmn2sgs",
        "colab_type": "text"
      },
      "source": [
        "# Image Only Model Comparison\n",
        "A simple CNN that uses only images, built specifically to compare to the model that uses non-image features."
      ]
    },
    {
      "cell_type": "code",
      "metadata": {
        "id": "xL8mocUX2sgy",
        "colab_type": "code",
        "colab": {}
      },
      "source": [
        "import os\n",
        "import numpy as np\n",
        "import pandas as pd\n",
        "import math\n",
        "import gc\n",
        "\n",
        "import tensorflow as tf\n",
        "from tensorflow.keras.models import Model, load_model\n",
        "from tensorflow.keras.utils import CustomObjectScope\n",
        "from tensorflow.keras.initializers import glorot_uniform\n",
        "from tensorflow.keras.layers import Input, Dense, Conv2D, Flatten, Concatenate, MaxPool2D\n",
        "from tensorflow.keras.preprocessing.image import ImageDataGenerator\n",
        "from tensorflow.keras.callbacks import ModelCheckpoint\n",
        "\n",
        "import itertools\n",
        "from contextlib import redirect_stdout\n",
        "from sklearn.metrics import confusion_matrix, roc_curve, roc_auc_score\n",
        "from sklearn.metrics import precision_recall_curve, auc\n",
        "import matplotlib.pyplot as plt\n",
        "import seaborn as sns\n",
        "sns.set(style='white')"
      ],
      "execution_count": 0,
      "outputs": []
    },
    {
      "cell_type": "markdown",
      "metadata": {
        "id": "p71UkB2gQHhI",
        "colab_type": "text"
      },
      "source": [
        "### Preparing to use google drive"
      ]
    },
    {
      "cell_type": "markdown",
      "metadata": {
        "id": "L5UQbBslQ4_H",
        "colab_type": "text"
      },
      "source": [
        "Change the runtime type to use GPUs, then do these steps. "
      ]
    },
    {
      "cell_type": "code",
      "metadata": {
        "id": "XY33ScBQeBUr",
        "colab_type": "code",
        "colab": {}
      },
      "source": [
        "from google.colab import drive\n",
        "\n",
        "#mount google drive. It will ask for authentification. Follow the directions.\n",
        "drive.mount('/content/drive')"
      ],
      "execution_count": 0,
      "outputs": []
    },
    {
      "cell_type": "code",
      "metadata": {
        "id": "JkpQYid4RCvo",
        "colab_type": "code",
        "colab": {}
      },
      "source": [
        "#unzip the zip file into the colab runtime\n",
        "!unzip -q '/content/drive/My Drive/The Cool Kids/Data/CheXpert-v1.0-small.zip' "
      ],
      "execution_count": 0,
      "outputs": []
    },
    {
      "cell_type": "markdown",
      "metadata": {
        "id": "xz2shasV2sg-",
        "colab_type": "text"
      },
      "source": [
        "## Global Variables"
      ]
    },
    {
      "cell_type": "code",
      "metadata": {
        "id": "9o2XZSN92shA",
        "colab_type": "code",
        "outputId": "06c16ab6-22fb-42a9-e3d3-c1614d1a37f3",
        "colab": {
          "base_uri": "https://localhost:8080/",
          "height": 35
        }
      },
      "source": [
        "outcomes = ['No Finding',\n",
        "            'Enlarged Cardiomediastinum', 'Cardiomegaly', 'Lung Opacity',\n",
        "            'Lung Lesion', 'Edema', 'Consolidation', 'Pneumonia', 'Atelectasis',\n",
        "            'Pneumothorax', 'Pleural Effusion', 'Pleural Other', 'Fracture',\n",
        "            'Support Devices']\n",
        "pathologies = ['Enlarged Cardiomediastinum', 'Cardiomegaly', 'Lung Opacity',\n",
        "            'Lung Lesion', 'Edema', 'Consolidation', 'Pneumonia', 'Atelectasis',\n",
        "            'Pneumothorax', 'Pleural Effusion', 'Pleural Other', 'Fracture',\n",
        "            'Support Devices']\n",
        "\n",
        "#Edit these global variables\n",
        "PATH = 'CheXpert-v1.0-small'\n",
        "target = 'Lung Opacity'\n",
        "\n",
        "image_size = 256\n",
        "train_batch_size = 32\n",
        "val_batch_size = 32\n",
        "test_batch_size = 234\n",
        "\n",
        "train_set_size = 100000\n",
        "validation_percent = 0\n",
        "\n",
        "lr = 0.0001 #learning rate\n",
        "num_steps_per_epoch = 200 #can be set to none for auto choosing (does not work for multimodel)\n",
        "num_epochs = 30\n",
        "\n",
        "threshold = 0.5\n",
        "SEED = 12\n",
        "\n",
        "#create the directory before you start!\n",
        "model_name = 'singlemodel_lungopacity_2'\n",
        "model_directory = 'singlemodeltest2/' #model_name+'/' \n",
        "\n",
        "#it will give a warning if the directory already exists\n",
        "if os.path.isdir(model_directory):\n",
        "  print('Did you mean to rename the model?')\n",
        "  if not os.path.isdir(model_directory+'checkpoints/'):\n",
        "    os.makedirs(model_directory+'checkpoints/')\n",
        "else:\n",
        "  os.makedirs(model_directory)\n",
        "  os.makedirs(model_directory+'checkpoints/')"
      ],
      "execution_count": 0,
      "outputs": [
        {
          "output_type": "stream",
          "text": [
            "Did you mean to rename the model?\n"
          ],
          "name": "stdout"
        }
      ]
    },
    {
      "cell_type": "markdown",
      "metadata": {
        "id": "L5gXB4Bu2shJ",
        "colab_type": "text"
      },
      "source": [
        "### Save the hyperparameters used"
      ]
    },
    {
      "cell_type": "code",
      "metadata": {
        "id": "iauyb7wv2shL",
        "colab_type": "code",
        "outputId": "8d9879c6-6d4d-4087-e92a-43585d45107b",
        "colab": {
          "base_uri": "https://localhost:8080/",
          "height": 394
        }
      },
      "source": [
        "hyper_df = pd.DataFrame()\n",
        "hyper_df['Target'] = [target]\n",
        "hyper_df['Image size'] = [image_size]\n",
        "hyper_df['Training batch size'] = [train_batch_size]\n",
        "hyper_df['Validation batch size'] = [val_batch_size]\n",
        "hyper_df['Testing batch size'] = [test_batch_size]\n",
        "hyper_df['Training Size'] = [train_set_size]\n",
        "hyper_df['Validation Percent'] = [validation_percent]\n",
        "hyper_df['Learning Rate'] = [lr]\n",
        "hyper_df['Steps per epoch'] = [num_steps_per_epoch]\n",
        "hyper_df['Number of epochs'] = [num_epochs]\n",
        "hyper_df['Threshold'] = [threshold]\n",
        "\n",
        "hyper_df.index=[model_name]\n",
        "t = hyper_df.transpose()\n",
        "display(t)\n",
        "t.to_csv(model_directory+model_name+'hyperparameters.csv')"
      ],
      "execution_count": 0,
      "outputs": [
        {
          "output_type": "display_data",
          "data": {
            "text/html": [
              "<div>\n",
              "<style scoped>\n",
              "    .dataframe tbody tr th:only-of-type {\n",
              "        vertical-align: middle;\n",
              "    }\n",
              "\n",
              "    .dataframe tbody tr th {\n",
              "        vertical-align: top;\n",
              "    }\n",
              "\n",
              "    .dataframe thead th {\n",
              "        text-align: right;\n",
              "    }\n",
              "</style>\n",
              "<table border=\"1\" class=\"dataframe\">\n",
              "  <thead>\n",
              "    <tr style=\"text-align: right;\">\n",
              "      <th></th>\n",
              "      <th>singlemodel_lungopacity_2</th>\n",
              "    </tr>\n",
              "  </thead>\n",
              "  <tbody>\n",
              "    <tr>\n",
              "      <th>Target</th>\n",
              "      <td>Lung Opacity</td>\n",
              "    </tr>\n",
              "    <tr>\n",
              "      <th>Image size</th>\n",
              "      <td>256</td>\n",
              "    </tr>\n",
              "    <tr>\n",
              "      <th>Training batch size</th>\n",
              "      <td>32</td>\n",
              "    </tr>\n",
              "    <tr>\n",
              "      <th>Validation batch size</th>\n",
              "      <td>32</td>\n",
              "    </tr>\n",
              "    <tr>\n",
              "      <th>Testing batch size</th>\n",
              "      <td>234</td>\n",
              "    </tr>\n",
              "    <tr>\n",
              "      <th>Training Size</th>\n",
              "      <td>100000</td>\n",
              "    </tr>\n",
              "    <tr>\n",
              "      <th>Validation Percent</th>\n",
              "      <td>0</td>\n",
              "    </tr>\n",
              "    <tr>\n",
              "      <th>Learning Rate</th>\n",
              "      <td>0.0001</td>\n",
              "    </tr>\n",
              "    <tr>\n",
              "      <th>Steps per epoch</th>\n",
              "      <td>200</td>\n",
              "    </tr>\n",
              "    <tr>\n",
              "      <th>Number of epochs</th>\n",
              "      <td>30</td>\n",
              "    </tr>\n",
              "    <tr>\n",
              "      <th>Threshold</th>\n",
              "      <td>0.5</td>\n",
              "    </tr>\n",
              "  </tbody>\n",
              "</table>\n",
              "</div>"
            ],
            "text/plain": [
              "                      singlemodel_lungopacity_2\n",
              "Target                             Lung Opacity\n",
              "Image size                                  256\n",
              "Training batch size                          32\n",
              "Validation batch size                        32\n",
              "Testing batch size                          234\n",
              "Training Size                            100000\n",
              "Validation Percent                            0\n",
              "Learning Rate                            0.0001\n",
              "Steps per epoch                             200\n",
              "Number of epochs                             30\n",
              "Threshold                                   0.5"
            ]
          },
          "metadata": {
            "tags": []
          }
        }
      ]
    },
    {
      "cell_type": "markdown",
      "metadata": {
        "id": "hGWzlRjO2shW",
        "colab_type": "text"
      },
      "source": [
        "## Preprocessing"
      ]
    },
    {
      "cell_type": "code",
      "metadata": {
        "id": "T02ZGPvT2shY",
        "colab_type": "code",
        "colab": {}
      },
      "source": [
        "def edit_urls(url):\n",
        "  ''' a function to edit the urls to the correct path using a global PATH variable declared earlier\n",
        "  '''\n",
        "  pieces = url.split('/')\n",
        "  newurl = ''\n",
        "\n",
        "    #removing the previous path 'CheXpert-v1.0-small' and including the PATH\n",
        "  for i, piece in enumerate(pieces):\n",
        "    if i > 0:\n",
        "      newurl+= '/' + piece\n",
        "    elif i == 0:\n",
        "      newurl += PATH\n",
        "\n",
        "  return newurl\n",
        "\n",
        "def clean_data(df):\n",
        "  '''\n",
        "  Edits the urls, fills the 'maybes' with yes and the nulls with no,\n",
        "  removes outlier ages (age 0 patients), removes 'unknown gender' patients,\n",
        "  collects which type of image it is\n",
        "  '''\n",
        "  df['Path'] = df['Path'].apply(edit_urls)\n",
        "  df[outcomes] = df[outcomes].fillna(0)\n",
        "  df[outcomes] = df[outcomes].replace(-1,1)\n",
        "  df = df[df['Age'] > 1]\n",
        "  df = df[(df['Sex'] == 'Male') | (df['Sex'] == 'Female')]\n",
        "  df['Image Type'] = df['AP/PA'].fillna('Lateral')\n",
        "  return df\n",
        "\n",
        "def stratify_training_set(df):\n",
        "  '''\n",
        "  Groups by the target so the training set has equal amounts of 'yes target' and 'no target'\n",
        "  '''\n",
        "  notarg = df[ df[target] == 0 ]\n",
        "  yestarg = df[ df[target] == 1]\n",
        "  print(f'There are {len(yestarg)} patients with {target}, compared to {len(notarg)} patients in the dataset without {target}')\n",
        "  print(f'{100* len(yestarg) / len(df)}% of patients have {target}')\n",
        "  if len(notarg) > len(yestarg):\n",
        "    print(f'{(len(notarg) - len(yestarg))} ({100*(len(notarg) - len(yestarg))/len(notarg)}%) of patients without {target} will be randomly removed from the sample pool')\n",
        "    notarg = notarg.sample(len(yestarg))\n",
        "  else:\n",
        "    print(f'{(len(yestarg) - len(notarg))} ({100*(len(yestarg) - len(notarg))/len(yestarg)}%)  of patients with {target} will be randomly removed from the sample pool')\n",
        "    yestarg = yestarg.sample(len(notarg))\n",
        "      \n",
        "  traindf = pd.concat([yestarg, notarg], axis=0)\n",
        "  traindf = traindf.sample(frac=1)\n",
        "  \n",
        "  return traindf\n"
      ],
      "execution_count": 0,
      "outputs": []
    },
    {
      "cell_type": "code",
      "metadata": {
        "id": "6JJnV9yM2shf",
        "colab_type": "code",
        "colab": {}
      },
      "source": [
        "def get_train_df(stratify = True):\n",
        "  '''\n",
        "  Returns the training dataframe, which has already been edited for \n",
        "  '''\n",
        "  train_df = clean_data( pd.read_csv(PATH + '/train.csv') )\n",
        "  \n",
        "  if stratify:\n",
        "    #stratify the training set by the target\n",
        "    train_df = stratify_training_set(train_df)\n",
        "\n",
        "  #can chose a subset here\n",
        "  if len(train_df) > train_set_size:\n",
        "    train_df = train_df.sample(train_set_size)\n",
        "\n",
        "  #for keras, make the target a string\n",
        "  train_df[target] = train_df[target].apply(str)\n",
        "  \n",
        "  print('training set:', train_df.shape)\n",
        "  display(train_df.head(3))\n",
        "  \n",
        "  return train_df\n",
        "  \n",
        "  \n",
        "def get_test_df():\n",
        "  '''\n",
        "  Prepares the testing dataframe using the 'validation' set of images from the dataset\n",
        "  '''\n",
        "  test_df = clean_data( pd.read_csv(PATH + '/valid.csv'))\n",
        "  test_df[target] = test_df[target].apply(str)\n",
        "  print('test set:', test_df.shape)\n",
        "  return test_df\n",
        "  \n"
      ],
      "execution_count": 0,
      "outputs": []
    },
    {
      "cell_type": "markdown",
      "metadata": {
        "id": "goASmVuw2shq",
        "colab_type": "text"
      },
      "source": [
        "## Prepare the Model"
      ]
    },
    {
      "cell_type": "markdown",
      "metadata": {
        "id": "aElsa64i2siD",
        "colab_type": "text"
      },
      "source": [
        "### Creating the model"
      ]
    },
    {
      "cell_type": "code",
      "metadata": {
        "id": "Xcb89tCW2siF",
        "colab_type": "code",
        "colab": {}
      },
      "source": [
        "def model_only_images(im_shape):\n",
        "  #create the inputs\n",
        "  img_input = Input(shape=im_shape, name='images')\n",
        "  #create the layers\n",
        "  #the image layers\n",
        "  x = Conv2D(32, kernel_size=3, activation='relu', padding='same', input_shape=im_shape) (img_input)\n",
        "  x = MaxPool2D() (x)\n",
        "  x = Conv2D(48, kernel_size=3, activation='relu',padding='same',) (x)\n",
        "  x = MaxPool2D() (x)\n",
        "  x = Flatten()(x)\n",
        "\n",
        "  #ignore the other part of the layer (the non-image features)\n",
        "  z = Dense(8, activation='relu') (x)\n",
        "\n",
        "  #the final layer\n",
        "  predictions = Dense(2, activation='softmax')(z)\n",
        "\n",
        "  #create the model and return it\n",
        "  return Model(inputs=[img_input], outputs=predictions)\n",
        "\n",
        "\n",
        "def model_with_nonimage_features(im_shape, feats_shape):\n",
        "    '''\n",
        "    This model takes in the image data and the feature data.\n",
        "    Not used here :)\n",
        "    '''\n",
        "    #create the inputs\n",
        "    img_input = Input(shape=im_shape, name='images')\n",
        "    feat_input = Input(shape=feats_shape, name='xtrafeatures')\n",
        "\n",
        "    #create the layers\n",
        "    #the image layers\n",
        "    x = Conv2D(32, kernel_size=3, activation='relu', padding='same', input_shape=im_shape) (img_input)\n",
        "    x = MaxPool2D() (x)\n",
        "    x = Conv2D(48, kernel_size=3, activation='relu',padding='same',) (x)\n",
        "    x = MaxPool2D() (x)\n",
        "    x = Flatten()(x)\n",
        "\n",
        "    #the other features layer\n",
        "    y = Dense(16, activation='relu')( feat_input )\n",
        "\n",
        "    #add the image and the features together and have another layer on top\n",
        "    added = Concatenate(axis=-1)([x, y])\n",
        "    z = Dense(8, activation='relu') (added)\n",
        "\n",
        "    #the final layer\n",
        "    predictions = Dense(2, activation='softmax')(z)\n",
        "\n",
        "    #create the model and return it\n",
        "    return Model(inputs=[img_input, feat_input], outputs=predictions)\n",
        "\n",
        "#model = model_with_nonimage_features( (image_size, image_size, 1) , (1,) )"
      ],
      "execution_count": 0,
      "outputs": []
    },
    {
      "cell_type": "markdown",
      "metadata": {
        "id": "QZUtlLfYLY4n",
        "colab_type": "text"
      },
      "source": [
        "### without non-image features, prepare the train and test generators."
      ]
    },
    {
      "cell_type": "code",
      "metadata": {
        "id": "PJ-pr2X12shu",
        "colab_type": "code",
        "outputId": "fe45668b-287b-4ed8-fcd5-67dae7d21947",
        "colab": {
          "base_uri": "https://localhost:8080/",
          "height": 530
        }
      },
      "source": [
        "train_df = get_train_df()\n",
        "test_df = get_test_df()\n",
        "\n",
        "datagen = ImageDataGenerator(\n",
        "   rescale = 1./255,\n",
        "   validation_split = validation_percent\n",
        ")\n",
        "\n",
        "train_generator = datagen.flow_from_dataframe(\n",
        "   train_df,\n",
        "   x_col='Path',\n",
        "   y_col=target,\n",
        "   color_mode='grayscale', # images will be converted to have 1 color channel\n",
        "   target_size=(image_size, image_size), #The dimensions to which all images found will be resized\n",
        "   class_mode='binary', # Mode for yielding the targets 1D numpy array of binary labels,if class_mode is \"binary\" it must include the given y_col column with class values as strings.\n",
        "   batch_size=train_batch_size,\n",
        "   subset = \"training\", \n",
        "   seed = SEED\n",
        "   #shuffle: whether to shuffle the data (default: True)\n",
        ")\n",
        "\n",
        "validation_generator = datagen.flow_from_dataframe(\n",
        "   train_df,\n",
        "   x_col='Path',\n",
        "   y_col=target,\n",
        "   target_size=(image_size, image_size),\n",
        "   color_mode='grayscale',\n",
        "   class_mode='binary',\n",
        "   batch_size=val_batch_size,\n",
        "   subset = \"validation\",\n",
        "   seed = SEED\n",
        ")\n",
        "\n",
        "test_generator = datagen.flow_from_dataframe(\n",
        "    test_df,\n",
        "    x_col='Path',\n",
        "    y_col=target,\n",
        "    target_size=(image_size, image_size),\n",
        "    color_mode='grayscale',\n",
        "    class_mode='binary',\n",
        "    batch_size=test_batch_size,\n",
        "    shuffle = False #just in case\n",
        ")"
      ],
      "execution_count": 0,
      "outputs": [
        {
          "output_type": "stream",
          "text": [
            "There are 111178 patients with Lung Opacity, compared to 112232 patients in the dataset without Lung Opacity\n",
            "49.76411082762634% of patients have Lung Opacity\n",
            "1054 (0.9391260959441158%) of patients without Lung Opacity will be randomly removed from the sample pool\n",
            "training set: (100000, 20)\n"
          ],
          "name": "stdout"
        },
        {
          "output_type": "display_data",
          "data": {
            "text/html": [
              "<div>\n",
              "<style scoped>\n",
              "    .dataframe tbody tr th:only-of-type {\n",
              "        vertical-align: middle;\n",
              "    }\n",
              "\n",
              "    .dataframe tbody tr th {\n",
              "        vertical-align: top;\n",
              "    }\n",
              "\n",
              "    .dataframe thead th {\n",
              "        text-align: right;\n",
              "    }\n",
              "</style>\n",
              "<table border=\"1\" class=\"dataframe\">\n",
              "  <thead>\n",
              "    <tr style=\"text-align: right;\">\n",
              "      <th></th>\n",
              "      <th>Path</th>\n",
              "      <th>Sex</th>\n",
              "      <th>Age</th>\n",
              "      <th>Frontal/Lateral</th>\n",
              "      <th>AP/PA</th>\n",
              "      <th>No Finding</th>\n",
              "      <th>Enlarged Cardiomediastinum</th>\n",
              "      <th>Cardiomegaly</th>\n",
              "      <th>Lung Opacity</th>\n",
              "      <th>Lung Lesion</th>\n",
              "      <th>Edema</th>\n",
              "      <th>Consolidation</th>\n",
              "      <th>Pneumonia</th>\n",
              "      <th>Atelectasis</th>\n",
              "      <th>Pneumothorax</th>\n",
              "      <th>Pleural Effusion</th>\n",
              "      <th>Pleural Other</th>\n",
              "      <th>Fracture</th>\n",
              "      <th>Support Devices</th>\n",
              "      <th>Image Type</th>\n",
              "    </tr>\n",
              "  </thead>\n",
              "  <tbody>\n",
              "    <tr>\n",
              "      <th>46419</th>\n",
              "      <td>CheXpert-v1.0-small/train/patient11292/study17...</td>\n",
              "      <td>Female</td>\n",
              "      <td>89</td>\n",
              "      <td>Frontal</td>\n",
              "      <td>AP</td>\n",
              "      <td>0.0</td>\n",
              "      <td>0.0</td>\n",
              "      <td>0.0</td>\n",
              "      <td>0.0</td>\n",
              "      <td>0.0</td>\n",
              "      <td>1.0</td>\n",
              "      <td>0.0</td>\n",
              "      <td>0.0</td>\n",
              "      <td>0.0</td>\n",
              "      <td>0.0</td>\n",
              "      <td>1.0</td>\n",
              "      <td>0.0</td>\n",
              "      <td>0.0</td>\n",
              "      <td>0.0</td>\n",
              "      <td>AP</td>\n",
              "    </tr>\n",
              "    <tr>\n",
              "      <th>193947</th>\n",
              "      <td>CheXpert-v1.0-small/train/patient47063/study6/...</td>\n",
              "      <td>Male</td>\n",
              "      <td>74</td>\n",
              "      <td>Frontal</td>\n",
              "      <td>AP</td>\n",
              "      <td>0.0</td>\n",
              "      <td>0.0</td>\n",
              "      <td>1.0</td>\n",
              "      <td>0.0</td>\n",
              "      <td>0.0</td>\n",
              "      <td>1.0</td>\n",
              "      <td>0.0</td>\n",
              "      <td>0.0</td>\n",
              "      <td>0.0</td>\n",
              "      <td>0.0</td>\n",
              "      <td>0.0</td>\n",
              "      <td>0.0</td>\n",
              "      <td>0.0</td>\n",
              "      <td>1.0</td>\n",
              "      <td>AP</td>\n",
              "    </tr>\n",
              "    <tr>\n",
              "      <th>96548</th>\n",
              "      <td>CheXpert-v1.0-small/train/patient23238/study1/...</td>\n",
              "      <td>Male</td>\n",
              "      <td>70</td>\n",
              "      <td>Frontal</td>\n",
              "      <td>PA</td>\n",
              "      <td>0.0</td>\n",
              "      <td>0.0</td>\n",
              "      <td>0.0</td>\n",
              "      <td>1.0</td>\n",
              "      <td>1.0</td>\n",
              "      <td>0.0</td>\n",
              "      <td>0.0</td>\n",
              "      <td>0.0</td>\n",
              "      <td>0.0</td>\n",
              "      <td>0.0</td>\n",
              "      <td>0.0</td>\n",
              "      <td>0.0</td>\n",
              "      <td>0.0</td>\n",
              "      <td>0.0</td>\n",
              "      <td>PA</td>\n",
              "    </tr>\n",
              "  </tbody>\n",
              "</table>\n",
              "</div>"
            ],
            "text/plain": [
              "                                                     Path  ... Image Type\n",
              "46419   CheXpert-v1.0-small/train/patient11292/study17...  ...         AP\n",
              "193947  CheXpert-v1.0-small/train/patient47063/study6/...  ...         AP\n",
              "96548   CheXpert-v1.0-small/train/patient23238/study1/...  ...         PA\n",
              "\n",
              "[3 rows x 20 columns]"
            ]
          },
          "metadata": {
            "tags": []
          }
        },
        {
          "output_type": "stream",
          "text": [
            "test set: (234, 20)\n",
            "Found 100000 validated image filenames belonging to 2 classes.\n",
            "Found 0 validated image filenames belonging to 2 classes.\n",
            "Found 234 validated image filenames belonging to 2 classes.\n"
          ],
          "name": "stdout"
        }
      ]
    },
    {
      "cell_type": "markdown",
      "metadata": {
        "id": "lx8wklqj2si1",
        "colab_type": "text"
      },
      "source": [
        "## Run the model\n"
      ]
    },
    {
      "cell_type": "markdown",
      "metadata": {
        "id": "XmKCZSISp49F",
        "colab_type": "text"
      },
      "source": [
        "\n",
        "### Train the model"
      ]
    },
    {
      "cell_type": "code",
      "metadata": {
        "id": "IE25hH7I2si2",
        "colab_type": "code",
        "outputId": "aee8e6a6-7d09-4906-8bbb-b2d3fcda87ba",
        "colab": {
          "base_uri": "https://localhost:8080/",
          "height": 1000
        }
      },
      "source": [
        "\n",
        "def run_the_model():\n",
        "  '''\n",
        "  This custom model has some sort of memory leak (?) so it uses up 12gb of RAM \n",
        "  by the 5th epoch. To prevent this, we are saving and loading the model one epoch\n",
        "  at a time.\n",
        "  '''\n",
        "  #create the model\n",
        "  model = model_only_images( (image_size, image_size, 1) )\n",
        "\n",
        "  #save the model summary\n",
        "  with open(model_directory + 'model_summary.txt', 'w') as f:\n",
        "    with redirect_stdout(f):\n",
        "      model.summary()\n",
        "\n",
        "  model.compile(\n",
        "    loss='sparse_categorical_crossentropy',\n",
        "    optimizer=tf.keras.optimizers.Adam(learning_rate = lr),\n",
        "    metrics=['accuracy']\n",
        "  )\n",
        "  \n",
        "  #run it once then save it\n",
        "  print('Epoch 1')\n",
        "  \n",
        "  model.fit_generator(\n",
        "      train_generator,\n",
        "      steps_per_epoch = num_steps_per_epoch, \n",
        "      epochs = 1,\n",
        "    )\n",
        "  model.save(model_directory+'/checkpoints/epoch'+str(0)+'save.h5')\n",
        "\n",
        "  #delete the model to save space in RAM\n",
        "  del model\n",
        "  gc.collect()\n",
        "\n",
        "  # run it for each epoch and save checkpoints\n",
        "  for epoch in range(num_epochs-1):\n",
        "    print('Epoch', epoch+2)\n",
        "    model = load_model( model_directory+'/checkpoints/epoch'+str(epoch)+'save.h5' )\n",
        "    model.fit_generator(\n",
        "      train_generator,\n",
        "      steps_per_epoch = num_steps_per_epoch, \n",
        "      epochs = 1,\n",
        "    )\n",
        "    model.save(model_directory+'/checkpoints/epoch'+str(epoch+1)+'save.h5')\n",
        "    del model\n",
        "    gc.collect()\n",
        "    \n",
        "    \n",
        "run_the_model()"
      ],
      "execution_count": 0,
      "outputs": [
        {
          "output_type": "stream",
          "text": [
            "Epoch 1\n",
            "200/200 [==============================] - 19s 93ms/step - loss: 0.6917 - acc: 0.5353\n",
            "Epoch 2\n",
            "200/200 [==============================] - 18s 88ms/step - loss: 0.6831 - acc: 0.5630\n",
            "Epoch 3\n",
            "200/200 [==============================] - 18s 88ms/step - loss: 0.6806 - acc: 0.5886\n",
            "Epoch 4\n",
            "200/200 [==============================] - 18s 89ms/step - loss: 0.6800 - acc: 0.5800\n",
            "Epoch 5\n",
            "200/200 [==============================] - 18s 89ms/step - loss: 0.6759 - acc: 0.5844\n",
            "Epoch 6\n",
            "200/200 [==============================] - 18s 88ms/step - loss: 0.6725 - acc: 0.6012\n",
            "Epoch 7\n",
            "200/200 [==============================] - 18s 89ms/step - loss: 0.6735 - acc: 0.6020\n",
            "Epoch 8\n",
            "200/200 [==============================] - 18s 88ms/step - loss: 0.6672 - acc: 0.6089\n",
            "Epoch 9\n",
            "200/200 [==============================] - 18s 88ms/step - loss: 0.6725 - acc: 0.6048\n",
            "Epoch 10\n",
            "200/200 [==============================] - 18s 89ms/step - loss: 0.6676 - acc: 0.6061\n",
            "Epoch 11\n",
            "200/200 [==============================] - 18s 89ms/step - loss: 0.6645 - acc: 0.6153\n",
            "Epoch 12\n",
            "200/200 [==============================] - 18s 89ms/step - loss: 0.6686 - acc: 0.6033\n",
            "Epoch 13\n",
            "200/200 [==============================] - 18s 90ms/step - loss: 0.6667 - acc: 0.6078\n",
            "Epoch 14\n",
            "200/200 [==============================] - 18s 90ms/step - loss: 0.6662 - acc: 0.6044\n",
            "Epoch 15\n",
            "200/200 [==============================] - 18s 89ms/step - loss: 0.6629 - acc: 0.6148\n",
            "Epoch 16\n",
            "200/200 [==============================] - 18s 89ms/step - loss: 0.6601 - acc: 0.6083\n",
            "Epoch 17\n",
            "200/200 [==============================] - 18s 89ms/step - loss: 0.6644 - acc: 0.6089\n",
            "Epoch 18\n",
            "200/200 [==============================] - 18s 89ms/step - loss: 0.6609 - acc: 0.6167\n",
            "Epoch 19\n",
            "200/200 [==============================] - 18s 90ms/step - loss: 0.6611 - acc: 0.6119\n",
            "Epoch 20\n",
            "200/200 [==============================] - 18s 90ms/step - loss: 0.6650 - acc: 0.6025\n",
            "Epoch 21\n",
            "200/200 [==============================] - 18s 90ms/step - loss: 0.6575 - acc: 0.6237\n",
            "Epoch 22\n",
            "200/200 [==============================] - 18s 89ms/step - loss: 0.6641 - acc: 0.6048\n",
            "Epoch 23\n",
            "200/200 [==============================] - 18s 90ms/step - loss: 0.6591 - acc: 0.6116\n",
            "Epoch 24\n",
            "200/200 [==============================] - 18s 90ms/step - loss: 0.6540 - acc: 0.6202\n",
            "Epoch 25\n",
            "200/200 [==============================] - 18s 90ms/step - loss: 0.6527 - acc: 0.6222\n",
            "Epoch 26\n",
            "200/200 [==============================] - 18s 91ms/step - loss: 0.6585 - acc: 0.6103\n",
            "Epoch 27\n",
            "200/200 [==============================] - 18s 92ms/step - loss: 0.6622 - acc: 0.6109\n",
            "Epoch 28\n",
            "200/200 [==============================] - 18s 90ms/step - loss: 0.6647 - acc: 0.6042\n",
            "Epoch 29\n",
            "200/200 [==============================] - 18s 90ms/step - loss: 0.6559 - acc: 0.6180\n",
            "Epoch 30\n",
            "200/200 [==============================] - 18s 89ms/step - loss: 0.6581 - acc: 0.6162\n"
          ],
          "name": "stdout"
        }
      ]
    },
    {
      "cell_type": "markdown",
      "metadata": {
        "id": "VCsrHL-M2si8",
        "colab_type": "text"
      },
      "source": [
        "### Make Predictions"
      ]
    },
    {
      "cell_type": "code",
      "metadata": {
        "id": "vAVop8No4m5l",
        "colab_type": "code",
        "outputId": "8934d119-9b63-4070-842e-26dc229b2e76",
        "colab": {
          "base_uri": "https://localhost:8080/",
          "height": 70
        }
      },
      "source": [
        "#access the latest model\n",
        "model = load_model( model_directory+'/checkpoints/epoch'+str(num_epochs-1)+'save.h5' )\n",
        "\n",
        "#make the predictions\n",
        "predictions = model.predict_generator(test_generator, steps = len(test_generator))\n",
        "print(f'made {len(predictions)} predictions')\n",
        "\n",
        "# This checks the row that is related to 'being sick' (... hopefully)\n",
        "probability_sick = predictions.T[1]\n",
        "print(probability_sick[0:10].round())\n",
        "actual_labels = test_generator[0][1]\n",
        "print(actual_labels[0:10])"
      ],
      "execution_count": 0,
      "outputs": [
        {
          "output_type": "stream",
          "text": [
            "made 234 predictions\n",
            "[0. 0. 0. 1. 0. 1. 0. 0. 0. 0.]\n",
            "[1. 0. 0. 1. 0. 1. 1. 1. 1. 1.]\n"
          ],
          "name": "stdout"
        }
      ]
    },
    {
      "cell_type": "markdown",
      "metadata": {
        "id": "vRALTv_o2sjR",
        "colab_type": "text"
      },
      "source": [
        "## Do metrics"
      ]
    },
    {
      "cell_type": "code",
      "metadata": {
        "id": "CFq--Jn52sjU",
        "colab_type": "code",
        "colab": {}
      },
      "source": [
        "def get_confusion_matrix(predictions, actuals, threshold):\n",
        "  \"\"\"\n",
        "  Returns a confusion matrix whose rows correspond to predicted outputs and\n",
        "      whose columns correspond to actual outputs.\n",
        "\n",
        "  predictions: 1D numpy array.\n",
        "  actuals: 1D numpy array.\n",
        "  threshold: float, value above which predictions are classified as positive,\n",
        "      below which predictions are classified as negative.\n",
        "  \"\"\"\n",
        "  bool_predictions = (predictions > threshold)\n",
        "  bool_actuals = (actuals > threshold)\n",
        "\n",
        "  return confusion_matrix(bool_predictions, bool_actuals)"
      ],
      "execution_count": 0,
      "outputs": []
    },
    {
      "cell_type": "code",
      "metadata": {
        "id": "A8GK4Dcs2sjX",
        "colab_type": "code",
        "colab": {}
      },
      "source": [
        "def get_metrics(predictions, actuals, threshold):\n",
        "  \"\"\"\n",
        "  Prints all metrics associated with the model output.\n",
        "\n",
        "  predictions: 1D numpy array.\n",
        "  actuals: 1D numpy array.\n",
        "  threshold: float, value above which predictions are classified as positive,\n",
        "      below which predictions are classified as negative.\n",
        "  \"\"\"\n",
        "  TP, FP, FN, TN = get_confusion_matrix(predictions, actuals, threshold).ravel()\n",
        "\n",
        "  trues = TP + TN\n",
        "  wrongs = FP + FN\n",
        "  sensitivity = TP / (TP + FN) # This is also recall\n",
        "  specificity = TN / (TN + FP)\n",
        "  precision = TP / (TP +FP)\n",
        "  accuracy = (TP + TN) / (TP + TN + FP +FN)\n",
        "  F1 = 2 / ((1 / precision) + (1 / sensitivity))\n",
        "  \n",
        "  metrics_df = pd.DataFrame()\n",
        "  metrics_df['Correct Predictions'] = [trues]\n",
        "  metrics_df['Incorrect Predictions'] = [wrongs]\n",
        "  metrics_df['Sensitivity'] = [sensitivity]\n",
        "  metrics_df['Specificity'] = [specificity]\n",
        "  metrics_df['Precision'] = [precision]\n",
        "  metrics_df['Accuracy'] = [accuracy]\n",
        "  metrics_df['F1 score'] = [F1]\n",
        "  metrics_df.index = [model_name]\n",
        "  metrics_df\n",
        "  t = metrics_df.transpose()\n",
        "  t.to_csv(model_directory+model_name+'metrics.csv')\n",
        "  display(t)\n",
        "  \n",
        "  return"
      ],
      "execution_count": 0,
      "outputs": []
    },
    {
      "cell_type": "code",
      "metadata": {
        "id": "3lI94CLw2sja",
        "colab_type": "code",
        "colab": {}
      },
      "source": [
        "def get_roc_curve(predictions, actuals):\n",
        "  \"\"\"\n",
        "  Plots the ROC curve and associated AUC of the model output.\n",
        "\n",
        "  predictions: 1D numpy array.\n",
        "  actuals: 1D numpy array.\n",
        "  \"\"\"\n",
        "  FPR, TPR, thresholds = roc_curve(actuals, predictions)\n",
        "  AUC = roc_auc_score(actuals, predictions)\n",
        "\n",
        "  plt.plot(FPR, TPR, \"b-\")\n",
        "  plt.plot([0, 1], [0, 1], \"r--\")\n",
        "  plt.title(\"Receiver Operating Characteristic \\n AUC: {}\".format(AUC))\n",
        "  plt.xlim([-0.05, 1.05])\n",
        "  plt.ylim([-0.05, 1.05])\n",
        "  plt.ylabel(\"Sensitivity\")\n",
        "  plt.xlabel(\"1 - Specificity\")\n",
        "  plt.savefig(model_directory+model_name+'ROC_curve.png')\n",
        "  plt.show()\n",
        "  \n",
        "  return"
      ],
      "execution_count": 0,
      "outputs": []
    },
    {
      "cell_type": "code",
      "metadata": {
        "id": "2YgnsV6h2sjd",
        "colab_type": "code",
        "colab": {}
      },
      "source": [
        "def get_precision_recall_curve(predictions, actuals):\n",
        "  \"\"\"\n",
        "  Plots the precision-recall curve and associated AUC of the model output.\n",
        "\n",
        "  predictions: 2D numpy array.\n",
        "  actuals: 1D numpy array.\n",
        "  \"\"\"\n",
        "  precisions, recalls, thresholds = precision_recall_curve(actuals, predictions)\n",
        "  AUC = auc(recalls, precisions)\n",
        "\n",
        "  plt.plot(recalls, precisions, \"b-\")\n",
        "  plt.plot([0, 1], [1, 0], \"r--\")\n",
        "  plt.title(\"Precision-Recall Curve \\n AUC: {}\".format(AUC))\n",
        "  plt.xlim([-0.05, 1.05])\n",
        "  plt.ylim([-0.05, 1.05])\n",
        "  plt.ylabel(\"Recall\")\n",
        "  plt.xlabel(\"Precision\")\n",
        "  plt.savefig(model_directory+model_name+'precision_recall_curve.png')\n",
        "  plt.show()\n",
        "  \n",
        "  return 'saved precision recall curve'\n"
      ],
      "execution_count": 0,
      "outputs": []
    },
    {
      "cell_type": "code",
      "metadata": {
        "id": "MkVBousN2sjj",
        "colab_type": "code",
        "colab": {}
      },
      "source": [
        "def display_conf_mat(predictions, actuals, threshold):\n",
        "  '''\n",
        "  Displays and saves the confusion matrix\n",
        "  '''\n",
        "  cm = get_confusion_matrix(predictions, actuals, threshold)\n",
        "  ax = plt.subplot()\n",
        "  sns.heatmap(cm, annot=True, ax = ax, cmap=plt.cm.Blues,fmt='g') #annot=True to annotate cells\n",
        "\n",
        "  # labels, title and ticks\n",
        "  ax.set_ylabel('Predicted labels')\n",
        "  ax.set_xlabel('True labels')\n",
        "  ax.set_title('Confusion Matrix')\n",
        "  plt.savefig(model_directory + model_name + 'confusion_matrix.png')\n",
        "  plt.show()\n",
        "  \n",
        "  return 'saved confusion matrix'"
      ],
      "execution_count": 0,
      "outputs": []
    },
    {
      "cell_type": "markdown",
      "metadata": {
        "id": "GsNKvL8S2sjo",
        "colab_type": "text"
      },
      "source": [
        "## Run the Metrics"
      ]
    },
    {
      "cell_type": "code",
      "metadata": {
        "id": "UwovOLPg2sjo",
        "colab_type": "code",
        "outputId": "f98c93e0-739a-460c-fb69-9f7b808b10bc",
        "colab": {
          "base_uri": "https://localhost:8080/",
          "height": 1000
        }
      },
      "source": [
        "get_metrics(probability_sick, actual_labels, threshold)\n",
        "display_conf_mat(probability_sick, actual_labels, threshold)\n",
        "get_roc_curve(probability_sick, actual_labels)\n",
        "get_precision_recall_curve(probability_sick, actual_labels)"
      ],
      "execution_count": 0,
      "outputs": [
        {
          "output_type": "display_data",
          "data": {
            "text/html": [
              "<div>\n",
              "<style scoped>\n",
              "    .dataframe tbody tr th:only-of-type {\n",
              "        vertical-align: middle;\n",
              "    }\n",
              "\n",
              "    .dataframe tbody tr th {\n",
              "        vertical-align: top;\n",
              "    }\n",
              "\n",
              "    .dataframe thead th {\n",
              "        text-align: right;\n",
              "    }\n",
              "</style>\n",
              "<table border=\"1\" class=\"dataframe\">\n",
              "  <thead>\n",
              "    <tr style=\"text-align: right;\">\n",
              "      <th></th>\n",
              "      <th>singlemodel_lungopacity_2</th>\n",
              "    </tr>\n",
              "  </thead>\n",
              "  <tbody>\n",
              "    <tr>\n",
              "      <th>Correct Predictions</th>\n",
              "      <td>155.000000</td>\n",
              "    </tr>\n",
              "    <tr>\n",
              "      <th>Incorrect Predictions</th>\n",
              "      <td>79.000000</td>\n",
              "    </tr>\n",
              "    <tr>\n",
              "      <th>Sensitivity</th>\n",
              "      <td>0.842593</td>\n",
              "    </tr>\n",
              "    <tr>\n",
              "      <th>Specificity</th>\n",
              "      <td>0.507937</td>\n",
              "    </tr>\n",
              "    <tr>\n",
              "      <th>Precision</th>\n",
              "      <td>0.594771</td>\n",
              "    </tr>\n",
              "    <tr>\n",
              "      <th>Accuracy</th>\n",
              "      <td>0.662393</td>\n",
              "    </tr>\n",
              "    <tr>\n",
              "      <th>F1 score</th>\n",
              "      <td>0.697318</td>\n",
              "    </tr>\n",
              "  </tbody>\n",
              "</table>\n",
              "</div>"
            ],
            "text/plain": [
              "                       singlemodel_lungopacity_2\n",
              "Correct Predictions                   155.000000\n",
              "Incorrect Predictions                  79.000000\n",
              "Sensitivity                             0.842593\n",
              "Specificity                             0.507937\n",
              "Precision                               0.594771\n",
              "Accuracy                                0.662393\n",
              "F1 score                                0.697318"
            ]
          },
          "metadata": {
            "tags": []
          }
        },
        {
          "output_type": "display_data",
          "data": {
            "image/png": "[encoded data removed]",
            "text/plain": [
              "<Figure size 432x288 with 2 Axes>"
            ]
          },
          "metadata": {
            "tags": []
          }
        },
        {
          "output_type": "display_data",
          "data": {
            "image/png": "[encoded data removed]",
            "text/plain": [
              "<Figure size 432x288 with 1 Axes>"
            ]
          },
          "metadata": {
            "tags": []
          }
        },
        {
          "output_type": "display_data",
          "data": {
            "image/png": "[encoded data removed]",
            "text/plain": [
              "<Figure size 432x288 with 1 Axes>"
            ]
          },
          "metadata": {
            "tags": []
          }
        },
        {
          "output_type": "execute_result",
          "data": {
            "text/plain": [
              "'saved precision recall curve'"
            ]
          },
          "metadata": {
            "tags": []
          },
          "execution_count": 23
        }
      ]
    },
    {
      "cell_type": "markdown",
      "metadata": {
        "id": "V6E-8WBqvHog",
        "colab_type": "text"
      },
      "source": [
        "## Add everything to Google Drive"
      ]
    },
    {
      "cell_type": "code",
      "metadata": {
        "id": "Zo7tEZCS2sj2",
        "colab_type": "code",
        "colab": {}
      },
      "source": [
        "!cp -r $model_directory '/content/drive/My Drive/The Cool Kids/Gabi/'$model_directory"
      ],
      "execution_count": 0,
      "outputs": []
    }
  ]
}