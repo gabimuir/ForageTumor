{
 "cells": [
  {
   "cell_type": "markdown",
   "metadata": {},
   "source": [
    "# Model Template for amliNet :)"
   ]
  },
  {
   "cell_type": "code",
   "execution_count": 54,
   "metadata": {},
   "outputs": [],
   "source": [
    "import os\n",
    "import numpy as np\n",
    "import pandas as pd\n",
    "import math\n",
    "import tensorflow as tf\n",
    "from keras.models import Model\n",
    "from keras.layers import Input, Dense, Conv2D, Flatten, Concatenate\n",
    "from keras.preprocessing.image import ImageDataGenerator\n",
    "from sklearn.metrics import confusion_matrix, roc_curve, roc_auc_score\n",
    "from sklearn.metrics import precision_recall_curve, auc\n",
    "import matplotlib.pyplot as plt\n",
    "import seaborn as sns\n",
    "sns.set(style='white')"
   ]
  },
  {
   "cell_type": "markdown",
   "metadata": {},
   "source": [
    "## Global Variables"
   ]
  },
  {
   "cell_type": "code",
   "execution_count": 46,
   "metadata": {},
   "outputs": [],
   "source": [
    "outcomes = ['No Finding',\n",
    "            'Enlarged Cardiomediastinum', 'Cardiomegaly', 'Lung Opacity',\n",
    "            'Lung Lesion', 'Edema', 'Consolidation', 'Pneumonia', 'Atelectasis',\n",
    "            'Pneumothorax', 'Pleural Effusion', 'Pleural Other', 'Fracture',\n",
    "            'Support Devices']\n",
    "pathologies = ['Enlarged Cardiomediastinum', 'Cardiomegaly', 'Lung Opacity',\n",
    "            'Lung Lesion', 'Edema', 'Consolidation', 'Pneumonia', 'Atelectasis',\n",
    "            'Pneumothorax', 'Pleural Effusion', 'Pleural Other', 'Fracture',\n",
    "            'Support Devices']\n",
    "\n",
    "#Edit these global variables\n",
    "PATH = '/Volumes/GBackup/Data/CheXpertDataset'\n",
    "target = 'Cardiomegaly'\n",
    "\n",
    "image_size = 256\n",
    "train_batch_size = 32\n",
    "val_batch_size = 32\n",
    "test_batch_size = 234\n",
    "\n",
    "steps_per_epoch = 32\n",
    "num_epochs = 1\n",
    "\n",
    "threshold = 0.5"
   ]
  },
  {
   "cell_type": "markdown",
   "metadata": {},
   "source": [
    "## Preprocessing"
   ]
  },
  {
   "cell_type": "code",
   "execution_count": 3,
   "metadata": {},
   "outputs": [],
   "source": [
    "def edit_urls(url):\n",
    "    ''' a function to edit the urls to the correct path using a global PATH variable declared earlier\n",
    "    '''\n",
    "    pieces = url.split('/')\n",
    "    newurl = ''\n",
    "\n",
    "      #removing the previous path 'CheXpert-v1.0-small' and including the PATH\n",
    "    for i, piece in enumerate(pieces):\n",
    "        if i > 0:\n",
    "            newurl+= '/' + piece\n",
    "        elif i == 0:\n",
    "            newurl += PATH\n",
    "\n",
    "    return newurl\n",
    "\n",
    "def clean_data(df):\n",
    "    '''\n",
    "    Edits the urls, fills the 'maybes' with yes and the nulls with no,\n",
    "    removes outlier ages (age 0 patients), removes 'unknown gender' patients,\n",
    "    collects which type of image it is\n",
    "    '''\n",
    "    df['Path'] = df['Path'].apply(edit_urls)\n",
    "    df[outcomes] = df[outcomes].fillna(0)\n",
    "    df[outcomes] = df[outcomes].replace(-1,1)\n",
    "    df = df[df['Age'] > 1]\n",
    "    df = df[(df['Sex'] == 'Male') | (df['Sex'] == 'Female')]\n",
    "    df['Image Type'] = df['AP/PA'].fillna('Lateral')\n",
    "    return df\n"
   ]
  },
  {
   "cell_type": "code",
   "execution_count": 21,
   "metadata": {},
   "outputs": [
    {
     "name": "stdout",
     "output_type": "stream",
     "text": [
      "test set: (234, 20)\n",
      "training set: (1117, 20)\n"
     ]
    },
    {
     "data": {
      "text/html": [
       "<div>\n",
       "<style scoped>\n",
       "    .dataframe tbody tr th:only-of-type {\n",
       "        vertical-align: middle;\n",
       "    }\n",
       "\n",
       "    .dataframe tbody tr th {\n",
       "        vertical-align: top;\n",
       "    }\n",
       "\n",
       "    .dataframe thead th {\n",
       "        text-align: right;\n",
       "    }\n",
       "</style>\n",
       "<table border=\"1\" class=\"dataframe\">\n",
       "  <thead>\n",
       "    <tr style=\"text-align: right;\">\n",
       "      <th></th>\n",
       "      <th>Path</th>\n",
       "      <th>Sex</th>\n",
       "      <th>Age</th>\n",
       "      <th>Frontal/Lateral</th>\n",
       "      <th>AP/PA</th>\n",
       "      <th>No Finding</th>\n",
       "      <th>Enlarged Cardiomediastinum</th>\n",
       "      <th>Cardiomegaly</th>\n",
       "      <th>Lung Opacity</th>\n",
       "      <th>Lung Lesion</th>\n",
       "      <th>Edema</th>\n",
       "      <th>Consolidation</th>\n",
       "      <th>Pneumonia</th>\n",
       "      <th>Atelectasis</th>\n",
       "      <th>Pneumothorax</th>\n",
       "      <th>Pleural Effusion</th>\n",
       "      <th>Pleural Other</th>\n",
       "      <th>Fracture</th>\n",
       "      <th>Support Devices</th>\n",
       "      <th>Image Type</th>\n",
       "    </tr>\n",
       "  </thead>\n",
       "  <tbody>\n",
       "    <tr>\n",
       "      <th>40672</th>\n",
       "      <td>/Volumes/GBackup/Data/CheXpertDataset/train/pa...</td>\n",
       "      <td>Male</td>\n",
       "      <td>36</td>\n",
       "      <td>Frontal</td>\n",
       "      <td>PA</td>\n",
       "      <td>0.0</td>\n",
       "      <td>0.0</td>\n",
       "      <td>0.0</td>\n",
       "      <td>1.0</td>\n",
       "      <td>0.0</td>\n",
       "      <td>0.0</td>\n",
       "      <td>0.0</td>\n",
       "      <td>0.0</td>\n",
       "      <td>0.0</td>\n",
       "      <td>0.0</td>\n",
       "      <td>0.0</td>\n",
       "      <td>0.0</td>\n",
       "      <td>0.0</td>\n",
       "      <td>1.0</td>\n",
       "      <td>PA</td>\n",
       "    </tr>\n",
       "    <tr>\n",
       "      <th>72752</th>\n",
       "      <td>/Volumes/GBackup/Data/CheXpertDataset/train/pa...</td>\n",
       "      <td>Male</td>\n",
       "      <td>52</td>\n",
       "      <td>Frontal</td>\n",
       "      <td>AP</td>\n",
       "      <td>0.0</td>\n",
       "      <td>1.0</td>\n",
       "      <td>0.0</td>\n",
       "      <td>1.0</td>\n",
       "      <td>0.0</td>\n",
       "      <td>1.0</td>\n",
       "      <td>0.0</td>\n",
       "      <td>1.0</td>\n",
       "      <td>0.0</td>\n",
       "      <td>0.0</td>\n",
       "      <td>1.0</td>\n",
       "      <td>0.0</td>\n",
       "      <td>0.0</td>\n",
       "      <td>1.0</td>\n",
       "      <td>AP</td>\n",
       "    </tr>\n",
       "    <tr>\n",
       "      <th>132438</th>\n",
       "      <td>/Volumes/GBackup/Data/CheXpertDataset/train/pa...</td>\n",
       "      <td>Male</td>\n",
       "      <td>48</td>\n",
       "      <td>Frontal</td>\n",
       "      <td>PA</td>\n",
       "      <td>0.0</td>\n",
       "      <td>0.0</td>\n",
       "      <td>0.0</td>\n",
       "      <td>0.0</td>\n",
       "      <td>0.0</td>\n",
       "      <td>0.0</td>\n",
       "      <td>0.0</td>\n",
       "      <td>0.0</td>\n",
       "      <td>0.0</td>\n",
       "      <td>0.0</td>\n",
       "      <td>1.0</td>\n",
       "      <td>0.0</td>\n",
       "      <td>0.0</td>\n",
       "      <td>0.0</td>\n",
       "      <td>PA</td>\n",
       "    </tr>\n",
       "  </tbody>\n",
       "</table>\n",
       "</div>"
      ],
      "text/plain": [
       "                                                     Path   Sex  Age  \\\n",
       "40672   /Volumes/GBackup/Data/CheXpertDataset/train/pa...  Male   36   \n",
       "72752   /Volumes/GBackup/Data/CheXpertDataset/train/pa...  Male   52   \n",
       "132438  /Volumes/GBackup/Data/CheXpertDataset/train/pa...  Male   48   \n",
       "\n",
       "       Frontal/Lateral AP/PA  No Finding  Enlarged Cardiomediastinum  \\\n",
       "40672          Frontal    PA         0.0                         0.0   \n",
       "72752          Frontal    AP         0.0                         1.0   \n",
       "132438         Frontal    PA         0.0                         0.0   \n",
       "\n",
       "       Cardiomegaly  Lung Opacity  Lung Lesion  Edema  Consolidation  \\\n",
       "40672           0.0           1.0          0.0    0.0            0.0   \n",
       "72752           0.0           1.0          0.0    1.0            0.0   \n",
       "132438          0.0           0.0          0.0    0.0            0.0   \n",
       "\n",
       "        Pneumonia  Atelectasis  Pneumothorax  Pleural Effusion  Pleural Other  \\\n",
       "40672         0.0          0.0           0.0               0.0            0.0   \n",
       "72752         1.0          0.0           0.0               1.0            0.0   \n",
       "132438        0.0          0.0           0.0               1.0            0.0   \n",
       "\n",
       "        Fracture  Support Devices Image Type  \n",
       "40672        0.0              1.0         PA  \n",
       "72752        0.0              1.0         AP  \n",
       "132438       0.0              0.0         PA  "
      ]
     },
     "execution_count": 21,
     "metadata": {},
     "output_type": "execute_result"
    }
   ],
   "source": [
    "train_df = clean_data( pd.read_csv(PATH + '/train.csv') )\n",
    "test_df = clean_data( pd.read_csv(PATH + '/valid.csv'))\n",
    "\n",
    "\n",
    "#can chose a subset here\n",
    "train_df = train_df.sample(frac=0.005)\n",
    "\n",
    "#for keras, make the target a string\n",
    "train_df[target] = train_df[target].apply(str)\n",
    "test_df[target] = test_df[target].apply(str)\n",
    "\n",
    "print('test set:', test_df.shape)\n",
    "print('training set:', train_df.shape)\n",
    "train_df.head(3)"
   ]
  },
  {
   "cell_type": "markdown",
   "metadata": {},
   "source": [
    "## Prepare the Model"
   ]
  },
  {
   "cell_type": "code",
   "execution_count": 20,
   "metadata": {},
   "outputs": [
    {
     "name": "stdout",
     "output_type": "stream",
     "text": [
      "Found 894 validated image filenames belonging to 2 classes.\n",
      "Found 223 validated image filenames belonging to 2 classes.\n",
      "Found 234 validated image filenames belonging to 2 classes.\n"
     ]
    }
   ],
   "source": [
    "datagen = ImageDataGenerator(\n",
    "   rescale = 1./255,\n",
    "   validation_split = 0.2\n",
    ")\n",
    "\n",
    "train_generator = datagen.flow_from_dataframe(\n",
    "   train_df,\n",
    "   x_col='Path',\n",
    "   y_col=target,\n",
    "   color_mode='grayscale', # images will be converted to have 1 color channel\n",
    "   target_size=(image_size, image_size), #The dimensions to which all images found will be resized\n",
    "   class_mode='binary', # Mode for yielding the targets 1D numpy array of binary labels,if class_mode is \"binary\" it must include the given y_col column with class values as strings.\n",
    "   batch_size=train_batch_size,\n",
    "   subset = \"training\"\n",
    "   #shuffle: whether to shuffle the data (default: True)\n",
    ")\n",
    "\n",
    "validation_generator = datagen.flow_from_dataframe(\n",
    "   train_df,\n",
    "   x_col='Path',\n",
    "   y_col=target,\n",
    "   target_size=(image_size, image_size),\n",
    "   color_mode='grayscale',\n",
    "   class_mode='binary',\n",
    "   batch_size=val_batch_size,\n",
    "   subset = \"validation\"\n",
    ")\n",
    "\n",
    "test_generator = datagen.flow_from_dataframe(\n",
    "    test_df,\n",
    "    x_col='Path',\n",
    "    y_col=target,\n",
    "    target_size=(image_size, image_size),\n",
    "    color_mode='grayscale',\n",
    "    class_mode='binary',\n",
    "    batch_size=test_batch_size,\n",
    "    shuffle = False #just in case\n",
    ")"
   ]
  },
  {
   "cell_type": "markdown",
   "metadata": {},
   "source": [
    "### Edit your model here"
   ]
  },
  {
   "cell_type": "code",
   "execution_count": 29,
   "metadata": {},
   "outputs": [],
   "source": [
    "model = tf.keras.Sequential([\n",
    "   tf.keras.layers.Conv2D(64, kernel_size=3, activation='relu', input_shape=(image_size,image_size,1)),\n",
    "   tf.keras.layers.Conv2D(32, kernel_size=3, activation='relu'),\n",
    "   tf.keras.layers.Flatten(),\n",
    "   tf.keras.layers.Dense(2, activation=tf.nn.softmax)\n",
    "])\n",
    "\n",
    "model.compile(\n",
    "  loss='sparse_categorical_crossentropy',\n",
    "  optimizer=tf.train.AdamOptimizer(),\n",
    "  metrics=['accuracy'])"
   ]
  },
  {
   "cell_type": "markdown",
   "metadata": {},
   "source": [
    "## Run the model\n",
    "\n",
    "### Train the model"
   ]
  },
  {
   "cell_type": "code",
   "execution_count": 30,
   "metadata": {},
   "outputs": [
    {
     "name": "stdout",
     "output_type": "stream",
     "text": [
      "4/4 [==============================] - 32s 8s/step - loss: 10.5341 - acc: 0.6406 - val_loss: 1.6449 - val_acc: 0.8610\n"
     ]
    }
   ],
   "source": [
    "# uses some global variables\n",
    "history = model.fit_generator(train_generator,\n",
    "                   steps_per_epoch = 4, #can automatically chose the best steps per epoch\n",
    "                   epochs = num_epochs,\n",
    "                   validation_data=validation_generator\n",
    "                  )"
   ]
  },
  {
   "cell_type": "markdown",
   "metadata": {},
   "source": [
    "### Make Predictions"
   ]
  },
  {
   "cell_type": "code",
   "execution_count": null,
   "metadata": {},
   "outputs": [
    {
     "name": "stdout",
     "output_type": "stream",
     "text": [
      "made 234 predictions\n",
      "[0. 0. 0. 0. 0. 0. 0. 0. 0. 0.]\n"
     ]
    }
   ],
   "source": [
    "predictions = model.predict_generator(test_generator)\n",
    "print(f'made {len(predictions)} predictions')\n",
    "\n",
    "# This checks the row that is related to 'being sick' (... hopefully)\n",
    "probability_sick = predictions.T[1]\n",
    "print(probability_sick[0:10].round())\n",
    "actual_labels = test_generator[0][1]\n",
    "print(actual_labels[0:10])"
   ]
  },
  {
   "cell_type": "markdown",
   "metadata": {},
   "source": [
    "## Do metrics"
   ]
  },
  {
   "cell_type": "code",
   "execution_count": 49,
   "metadata": {},
   "outputs": [
    {
     "name": "stdout",
     "output_type": "stream",
     "text": [
      "[[166  68]\n",
      " [  0   0]]\n"
     ]
    }
   ],
   "source": [
    "def get_confusion_matrix(predictions, actuals, threshold):\n",
    "    \"\"\"\n",
    "    Returns a confusion matrix whose rows correspond to predicted outputs and\n",
    "       whose columns correspond to actual outputs.\n",
    "\n",
    "    predictions: 1D numpy array.\n",
    "    actuals: 1D numpy array.\n",
    "    threshold: float, value above which predictions are classified as positive,\n",
    "       below which predictions are classified as negative.\n",
    "    \"\"\"\n",
    "    bool_predictions = (predictions > threshold)\n",
    "    bool_actuals = (actuals > threshold)\n",
    "\n",
    "    return confusion_matrix(bool_predictions, bool_actuals)"
   ]
  },
  {
   "cell_type": "code",
   "execution_count": 65,
   "metadata": {},
   "outputs": [],
   "source": [
    "def get_metrics(predictions, actuals, threshold):\n",
    "    \"\"\"\n",
    "    Prints all metrics associated with the model output.\n",
    "\n",
    "    predictions: 1D numpy array.\n",
    "    actuals: 1D numpy array.\n",
    "    threshold: float, value above which predictions are classified as positive,\n",
    "       below which predictions are classified as negative.\n",
    "    \"\"\"\n",
    "    TP, FP, FN, TN = get_confusion_matrix(predictions, actuals, threshold).ravel()\n",
    "\n",
    "    trues = TP + TN\n",
    "    wrongs = FP + FN\n",
    "    sensitivity = TP / (TP + FN) # This is also recall\n",
    "    specificity = TN / (TN + FP)\n",
    "    precision = TP / (TP +FP)\n",
    "    accuracy = (TP + TN) / (TP + TN + FP +FN)\n",
    "    F1 = 2 / ((1 / precision) + (1 / sensitivity))\n",
    "\n",
    "    print(\"Correct Predictions:   {}\".format(trues))\n",
    "    print(\"Incorrect Predictions: {}\".format(wrongs))\n",
    "    print()\n",
    "    print(\"Sensitivity/recall:    {}\".format(sensitivity))\n",
    "    print(\"Specificity:           {}\".format(specificity))\n",
    "    print(\"Precision:             {}\".format(precision))\n",
    "    print(\"Accuracy:              {}\".format(accuracy))\n",
    "    print(\"F1 score:              {}\".format(F1))\n",
    "    \n",
    "    return"
   ]
  },
  {
   "cell_type": "code",
   "execution_count": 59,
   "metadata": {},
   "outputs": [],
   "source": [
    "def get_roc_curve(predictions, actuals):\n",
    "    \"\"\"\n",
    "    Plots the ROC curve and associated AUC of the model output.\n",
    "\n",
    "    predictions: 1D numpy array.\n",
    "    actuals: 1D numpy array.\n",
    "    \"\"\"\n",
    "    FPR, TPR, thresholds = roc_curve(actuals, predictions)\n",
    "    AUC = roc_auc_score(actuals, predictions)\n",
    "\n",
    "    plt.plot(FPR, TPR, \"b-\")\n",
    "    plt.plot([0, 1], [0, 1], \"r--\")\n",
    "    plt.title(\"Receiver Operating Characteristic \\n AUC: {}\".format(AUC))\n",
    "    plt.xlim([-0.05, 1.05])\n",
    "    plt.ylim([-0.05, 1.05])\n",
    "    plt.ylabel(\"Sensitivity\")\n",
    "    plt.xlabel(\"1 - Specificity\")\n",
    "    plt.show()\n",
    "    \n",
    "    return"
   ]
  },
  {
   "cell_type": "code",
   "execution_count": 60,
   "metadata": {},
   "outputs": [],
   "source": [
    "def get_precision_recall_curve(predictions, actuals):\n",
    "    \"\"\"\n",
    "    Plots the precision-recall curve and associated AUC of the model output.\n",
    "\n",
    "    predictions: 2D numpy array.\n",
    "    actuals: 1D numpy array.\n",
    "    \"\"\"\n",
    "    precisions, recalls, thresholds = precision_recall_curve(actuals, predictions)\n",
    "    AUC = auc(recalls, precisions)\n",
    "\n",
    "    plt.plot(recalls, precisions, \"b-\")\n",
    "    plt.plot([0, 1], [1, 0], \"r--\")\n",
    "    plt.title(\"Precision-Recall Curve \\n AUC: {}\".format(AUC))\n",
    "    plt.xlim([-0.05, 1.05])\n",
    "    plt.ylim([-0.05, 1.05])\n",
    "    plt.ylabel(\"Recall\")\n",
    "    plt.xlabel(\"Precision\")\n",
    "    plt.show()\n",
    "    return\n"
   ]
  },
  {
   "cell_type": "code",
   "execution_count": 76,
   "metadata": {},
   "outputs": [],
   "source": [
    "def display_conf_mat(predictions, actuals, threshold):\n",
    "    '''\n",
    "    Displays the confusion matrix\n",
    "    '''\n",
    "    cm = get_confusion_matrix(predictions, actuals, threshold)\n",
    "    ax = plt.subplot()\n",
    "    sns.heatmap(cm, annot=True, ax = ax, cmap=plt.cm.Blues,fmt='g') #annot=True to annotate cells\n",
    "\n",
    "    # labels, title and ticks\n",
    "    ax.set_xlabel('Predicted labels')\n",
    "    ax.set_ylabel('True labels')\n",
    "    ax.set_title('Confusion Matrix')\n",
    "    plt.show()\n",
    "    return"
   ]
  },
  {
   "cell_type": "markdown",
   "metadata": {},
   "source": [
    "## Run the Metrics"
   ]
  },
  {
   "cell_type": "code",
   "execution_count": 79,
   "metadata": {},
   "outputs": [
    {
     "name": "stdout",
     "output_type": "stream",
     "text": [
      "Correct Predictions:   166\n",
      "Incorrect Predictions: 68\n",
      "\n",
      "Sensitivity/recall:    1.0\n",
      "Specificity:           0.0\n",
      "Precision:             0.7094017094017094\n",
      "Accuracy:              0.7094017094017094\n",
      "F1 score:              0.8300000000000001\n"
     ]
    },
    {
     "data": {
      "image/png": "[encoded data removed]",
      "text/plain": [
       "<Figure size 432x288 with 2 Axes>"
      ]
     },
     "metadata": {},
     "output_type": "display_data"
    },
    {
     "data": {
      "image/png": "[encoded data removed]",
      "text/plain": [
       "<Figure size 432x288 with 1 Axes>"
      ]
     },
     "metadata": {},
     "output_type": "display_data"
    },
    {
     "data": {
      "image/png": "[encoded data removed]",
      "text/plain": [
       "<Figure size 432x288 with 1 Axes>"
      ]
     },
     "metadata": {},
     "output_type": "display_data"
    }
   ],
   "source": [
    "get_metrics(probability_sick, actual_labels, threshold)\n",
    "display_conf_mat(probability_sick, actual_labels, threshold)\n",
    "get_roc_curve(probability_sick, actual_labels)\n",
    "get_precision_recall_curve(probability_sick, actual_labels)"
   ]
  },
  {
   "cell_type": "code",
   "execution_count": null,
   "metadata": {},
   "outputs": [],
   "source": []
  }
 ],
 "metadata": {
  "kernelspec": {
   "display_name": "Python 3",
   "language": "python",
   "name": "python3"
  },
  "language_info": {
   "codemirror_mode": {
    "name": "ipython",
    "version": 3
   },
   "file_extension": ".py",
   "mimetype": "text/x-python",
   "name": "python",
   "nbconvert_exporter": "python",
   "pygments_lexer": "ipython3",
   "version": "3.6.8"
  }
 },
 "nbformat": 4,
 "nbformat_minor": 2
}
